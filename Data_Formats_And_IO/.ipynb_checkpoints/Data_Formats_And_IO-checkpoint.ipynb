{
 "cells": [
  {
   "cell_type": "code",
   "execution_count": 1,
   "id": "44a5b4d9",
   "metadata": {},
   "outputs": [],
   "source": [
    "# Importing Libraries\n",
    "import pandas as pd\n",
    "import numpy as np"
   ]
  },
  {
   "cell_type": "code",
   "execution_count": 2,
   "id": "78876e1a",
   "metadata": {},
   "outputs": [
    {
     "data": {
      "text/plain": [
       "'1.2.4'"
      ]
     },
     "execution_count": 2,
     "metadata": {},
     "output_type": "execute_result"
    }
   ],
   "source": [
    "# Pandas Version\n",
    "pd.__version__"
   ]
  },
  {
   "cell_type": "markdown",
   "id": "c76aea1f",
   "metadata": {},
   "source": [
    "## Data Formats & Input / Output\n",
    "    * reading and writing\n",
    "        - HTML\n",
    "        - JSON\n",
    "        - Excel\n",
    "        - Pickle\n",
    "     * Survey of the other data formats"
   ]
  },
  {
   "cell_type": "markdown",
   "id": "7f9cc955",
   "metadata": {},
   "source": [
    "### Reading JSON\n",
    "\n",
    "    JSON: JSON(JavaScript Object Notation) is a standardized and language-independent format"
   ]
  },
  {
   "cell_type": "code",
   "execution_count": null,
   "id": "cfe40be5",
   "metadata": {},
   "outputs": [],
   "source": [
    "pd.read_json('f')"
   ]
  }
 ],
 "metadata": {
  "kernelspec": {
   "display_name": "Python 3",
   "language": "python",
   "name": "python3"
  },
  "language_info": {
   "codemirror_mode": {
    "name": "ipython",
    "version": 3
   },
   "file_extension": ".py",
   "mimetype": "text/x-python",
   "name": "python",
   "nbconvert_exporter": "python",
   "pygments_lexer": "ipython3",
   "version": "3.8.8"
  }
 },
 "nbformat": 4,
 "nbformat_minor": 5
}
