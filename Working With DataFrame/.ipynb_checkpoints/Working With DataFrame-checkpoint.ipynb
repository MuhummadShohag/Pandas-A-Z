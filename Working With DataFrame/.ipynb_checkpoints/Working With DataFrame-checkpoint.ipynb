{
 "cells": [
  {
   "cell_type": "markdown",
   "id": "4ecc8a11",
   "metadata": {},
   "source": [
    "# DataFrame\n",
    "    *DataFrame is look like table of data which contain collection of rows and columns\n",
    "    *DataFrame have two dimensions: Labeled indices and columns\n",
    "    *Each columns in a DataFrame is a series\n",
    "    *Unlike Series, DataFrames could be heterogenous\n",
    "    "
   ]
  },
  {
   "cell_type": "code",
   "execution_count": 1,
   "id": "9518a5b7",
   "metadata": {},
   "outputs": [],
   "source": [
    "# Importing Librarey\n",
    "import pandas as pd\n",
    "import numpy as np"
   ]
  },
  {
   "cell_type": "code",
   "execution_count": 2,
   "id": "69a4f9f5",
   "metadata": {},
   "outputs": [
    {
     "data": {
      "text/plain": [
       "'1.2.4'"
      ]
     },
     "execution_count": 2,
     "metadata": {},
     "output_type": "execute_result"
    }
   ],
   "source": [
    "pd.__version__"
   ]
  },
  {
   "cell_type": "code",
   "execution_count": 3,
   "id": "b52e5aac",
   "metadata": {},
   "outputs": [],
   "source": [
    "# Some python lists\n",
    "names=['a','b','c','d','e']\n",
    "ages=[10,17,12,15,12]\n",
    "marries=[False,True,False,True,True]"
   ]
  },
  {
   "cell_type": "code",
   "execution_count": 4,
   "id": "07de2629",
   "metadata": {},
   "outputs": [],
   "source": [
    "# Pandas Series\n",
    "ser=pd.Series(data=names,name='Names')"
   ]
  },
  {
   "cell_type": "code",
   "execution_count": 5,
   "id": "293c3ed9",
   "metadata": {},
   "outputs": [
    {
     "data": {
      "text/plain": [
       "0    a\n",
       "1    b\n",
       "Name: Names, dtype: object"
      ]
     },
     "execution_count": 5,
     "metadata": {},
     "output_type": "execute_result"
    }
   ],
   "source": [
    "ser.head(2)"
   ]
  },
  {
   "cell_type": "code",
   "execution_count": 6,
   "id": "dc453337",
   "metadata": {},
   "outputs": [],
   "source": [
    "# Pandas DataFrame\n",
    "df=pd.DataFrame({'Names':names,'Ages':ages,'Marries':marries})"
   ]
  },
  {
   "cell_type": "code",
   "execution_count": 7,
   "id": "ee49dea5",
   "metadata": {},
   "outputs": [
    {
     "data": {
      "text/html": [
       "<div>\n",
       "<style scoped>\n",
       "    .dataframe tbody tr th:only-of-type {\n",
       "        vertical-align: middle;\n",
       "    }\n",
       "\n",
       "    .dataframe tbody tr th {\n",
       "        vertical-align: top;\n",
       "    }\n",
       "\n",
       "    .dataframe thead th {\n",
       "        text-align: right;\n",
       "    }\n",
       "</style>\n",
       "<table border=\"1\" class=\"dataframe\">\n",
       "  <thead>\n",
       "    <tr style=\"text-align: right;\">\n",
       "      <th></th>\n",
       "      <th>Names</th>\n",
       "      <th>Ages</th>\n",
       "      <th>Marries</th>\n",
       "    </tr>\n",
       "  </thead>\n",
       "  <tbody>\n",
       "    <tr>\n",
       "      <th>0</th>\n",
       "      <td>a</td>\n",
       "      <td>10</td>\n",
       "      <td>False</td>\n",
       "    </tr>\n",
       "    <tr>\n",
       "      <th>1</th>\n",
       "      <td>b</td>\n",
       "      <td>17</td>\n",
       "      <td>True</td>\n",
       "    </tr>\n",
       "    <tr>\n",
       "      <th>2</th>\n",
       "      <td>c</td>\n",
       "      <td>12</td>\n",
       "      <td>False</td>\n",
       "    </tr>\n",
       "    <tr>\n",
       "      <th>3</th>\n",
       "      <td>d</td>\n",
       "      <td>15</td>\n",
       "      <td>True</td>\n",
       "    </tr>\n",
       "    <tr>\n",
       "      <th>4</th>\n",
       "      <td>e</td>\n",
       "      <td>12</td>\n",
       "      <td>True</td>\n",
       "    </tr>\n",
       "  </tbody>\n",
       "</table>\n",
       "</div>"
      ],
      "text/plain": [
       "  Names  Ages  Marries\n",
       "0     a    10    False\n",
       "1     b    17     True\n",
       "2     c    12    False\n",
       "3     d    15     True\n",
       "4     e    12     True"
      ]
     },
     "execution_count": 7,
     "metadata": {},
     "output_type": "execute_result"
    }
   ],
   "source": [
    "df"
   ]
  },
  {
   "cell_type": "code",
   "execution_count": 8,
   "id": "eeedc4b3",
   "metadata": {},
   "outputs": [
    {
     "data": {
      "text/plain": [
       "'c'"
      ]
     },
     "execution_count": 8,
     "metadata": {},
     "output_type": "execute_result"
    }
   ],
   "source": [
    "ser.iloc[2]"
   ]
  },
  {
   "cell_type": "code",
   "execution_count": 9,
   "id": "9070c761",
   "metadata": {},
   "outputs": [
    {
     "data": {
      "text/plain": [
       "Names          c\n",
       "Ages          12\n",
       "Marries    False\n",
       "Name: 2, dtype: object"
      ]
     },
     "execution_count": 9,
     "metadata": {},
     "output_type": "execute_result"
    }
   ],
   "source": [
    "df.iloc[2]"
   ]
  },
  {
   "cell_type": "code",
   "execution_count": 10,
   "id": "0080becb",
   "metadata": {},
   "outputs": [
    {
     "data": {
      "text/plain": [
       "1"
      ]
     },
     "execution_count": 10,
     "metadata": {},
     "output_type": "execute_result"
    }
   ],
   "source": [
    "# Show Dimension\n",
    "ser.ndim"
   ]
  },
  {
   "cell_type": "code",
   "execution_count": 11,
   "id": "04262a3f",
   "metadata": {},
   "outputs": [
    {
     "data": {
      "text/plain": [
       "2"
      ]
     },
     "execution_count": 11,
     "metadata": {},
     "output_type": "execute_result"
    }
   ],
   "source": [
    "df.ndim"
   ]
  },
  {
   "cell_type": "code",
   "execution_count": 12,
   "id": "b5d4e959",
   "metadata": {},
   "outputs": [
    {
     "data": {
      "text/plain": [
       "(5,)"
      ]
     },
     "execution_count": 12,
     "metadata": {},
     "output_type": "execute_result"
    }
   ],
   "source": [
    "# Show Shape how many rows and columns\n",
    "ser.shape"
   ]
  },
  {
   "cell_type": "code",
   "execution_count": 13,
   "id": "1572a190",
   "metadata": {},
   "outputs": [
    {
     "data": {
      "text/plain": [
       "(5, 3)"
      ]
     },
     "execution_count": 13,
     "metadata": {},
     "output_type": "execute_result"
    }
   ],
   "source": [
    "df.shape"
   ]
  },
  {
   "cell_type": "code",
   "execution_count": 14,
   "id": "86907361",
   "metadata": {},
   "outputs": [
    {
     "data": {
      "text/plain": [
       "0    a\n",
       "1    b\n",
       "2    c\n",
       "3    d\n",
       "4    e\n",
       "Name: Names, dtype: object"
      ]
     },
     "execution_count": 14,
     "metadata": {},
     "output_type": "execute_result"
    }
   ],
   "source": [
    "# Each column look like Series\n",
    "df.Names"
   ]
  },
  {
   "cell_type": "code",
   "execution_count": 15,
   "id": "47ec5431",
   "metadata": {},
   "outputs": [],
   "source": [
    "df=df.rename(columns={'Names':'names','Ages':'ages','Marries':'marries'},inplace=False)"
   ]
  },
  {
   "cell_type": "code",
   "execution_count": 16,
   "id": "5483e216",
   "metadata": {},
   "outputs": [
    {
     "data": {
      "text/html": [
       "<div>\n",
       "<style scoped>\n",
       "    .dataframe tbody tr th:only-of-type {\n",
       "        vertical-align: middle;\n",
       "    }\n",
       "\n",
       "    .dataframe tbody tr th {\n",
       "        vertical-align: top;\n",
       "    }\n",
       "\n",
       "    .dataframe thead th {\n",
       "        text-align: right;\n",
       "    }\n",
       "</style>\n",
       "<table border=\"1\" class=\"dataframe\">\n",
       "  <thead>\n",
       "    <tr style=\"text-align: right;\">\n",
       "      <th></th>\n",
       "      <th>names</th>\n",
       "      <th>ages</th>\n",
       "      <th>marries</th>\n",
       "    </tr>\n",
       "  </thead>\n",
       "  <tbody>\n",
       "    <tr>\n",
       "      <th>0</th>\n",
       "      <td>a</td>\n",
       "      <td>10</td>\n",
       "      <td>False</td>\n",
       "    </tr>\n",
       "    <tr>\n",
       "      <th>1</th>\n",
       "      <td>b</td>\n",
       "      <td>17</td>\n",
       "      <td>True</td>\n",
       "    </tr>\n",
       "    <tr>\n",
       "      <th>2</th>\n",
       "      <td>c</td>\n",
       "      <td>12</td>\n",
       "      <td>False</td>\n",
       "    </tr>\n",
       "    <tr>\n",
       "      <th>3</th>\n",
       "      <td>d</td>\n",
       "      <td>15</td>\n",
       "      <td>True</td>\n",
       "    </tr>\n",
       "    <tr>\n",
       "      <th>4</th>\n",
       "      <td>e</td>\n",
       "      <td>12</td>\n",
       "      <td>True</td>\n",
       "    </tr>\n",
       "  </tbody>\n",
       "</table>\n",
       "</div>"
      ],
      "text/plain": [
       "  names  ages  marries\n",
       "0     a    10    False\n",
       "1     b    17     True\n",
       "2     c    12    False\n",
       "3     d    15     True\n",
       "4     e    12     True"
      ]
     },
     "execution_count": 16,
     "metadata": {},
     "output_type": "execute_result"
    }
   ],
   "source": [
    "df"
   ]
  },
  {
   "cell_type": "code",
   "execution_count": 17,
   "id": "23be6d4f",
   "metadata": {},
   "outputs": [
    {
     "data": {
      "text/plain": [
       "dtype('O')"
      ]
     },
     "execution_count": 17,
     "metadata": {},
     "output_type": "execute_result"
    }
   ],
   "source": [
    "ser.dtype"
   ]
  },
  {
   "cell_type": "code",
   "execution_count": 18,
   "id": "736fc578",
   "metadata": {},
   "outputs": [
    {
     "data": {
      "text/plain": [
       "names      object\n",
       "ages        int64\n",
       "marries      bool\n",
       "dtype: object"
      ]
     },
     "execution_count": 18,
     "metadata": {},
     "output_type": "execute_result"
    }
   ],
   "source": [
    "# Show each column datatype which is hetarogenous ,contain different data types\n",
    "df.dtypes"
   ]
  },
  {
   "cell_type": "code",
   "execution_count": 19,
   "id": "0e796bce",
   "metadata": {},
   "outputs": [
    {
     "data": {
      "text/plain": [
       "5"
      ]
     },
     "execution_count": 19,
     "metadata": {},
     "output_type": "execute_result"
    }
   ],
   "source": [
    "len(ser)"
   ]
  },
  {
   "cell_type": "code",
   "execution_count": 20,
   "id": "4bf7d25f",
   "metadata": {},
   "outputs": [],
   "source": [
    "names=names+['g']"
   ]
  },
  {
   "cell_type": "code",
   "execution_count": 21,
   "id": "6d6976e5",
   "metadata": {},
   "outputs": [
    {
     "data": {
      "text/plain": [
       "['a', 'b', 'c', 'd', 'e', 'g']"
      ]
     },
     "execution_count": 21,
     "metadata": {},
     "output_type": "execute_result"
    }
   ],
   "source": [
    "names"
   ]
  },
  {
   "cell_type": "code",
   "execution_count": 22,
   "id": "1529164e",
   "metadata": {},
   "outputs": [
    {
     "data": {
      "text/plain": [
       "6"
      ]
     },
     "execution_count": 22,
     "metadata": {},
     "output_type": "execute_result"
    }
   ],
   "source": [
    "len(names)"
   ]
  },
  {
   "cell_type": "code",
   "execution_count": 23,
   "id": "447efbbf",
   "metadata": {},
   "outputs": [
    {
     "data": {
      "text/plain": [
       "'\\n    DataFrame is not creating beacuse one sereis has a extra data,\\n    which is not same every series like names series data is:6\\n    other series data is:5 and 5\\n'"
      ]
     },
     "execution_count": 23,
     "metadata": {},
     "output_type": "execute_result"
    }
   ],
   "source": [
    "'''\n",
    "    DataFrame is not creating beacuse one sereis has a extra data,\n",
    "    which is not same every series like names series data is:6\n",
    "    other series data is:5 and 5\n",
    "'''\n",
    "#df=pd.DataFrame({'names':names,'ages':ages,'merries':marries})"
   ]
  },
  {
   "cell_type": "code",
   "execution_count": null,
   "id": "0187ec11",
   "metadata": {},
   "outputs": [],
   "source": []
  },
  {
   "cell_type": "markdown",
   "id": "b6adbdff",
   "metadata": {},
   "source": [
    "### Creating DataFrame\n",
    "    * Dictionary to Tuple\n",
    "       --Like dict of list, but with tuples, Column-Wise\n",
    "       \n",
    "    * Dictionary to Dictionary\n",
    "       --Key:value pairs with column names as keys and index-labeled keys:value pairs containing values\n",
    "       \n",
    "    * Dictionary to Series\n",
    "        --A Continuation of keys concept\n",
    "    * List to Dictionary\n",
    "        --List of keys:Values pairs containing column labels and values"
   ]
  },
  {
   "cell_type": "markdown",
   "id": "27fc4508",
   "metadata": {},
   "source": [
    "### Dict of Tuples"
   ]
  },
  {
   "cell_type": "code",
   "execution_count": 24,
   "id": "7192e1ad",
   "metadata": {},
   "outputs": [],
   "source": [
    "names=['a','b','c','d','e']\n",
    "tuple_names=tuple(names)\n",
    "tuple_ages=tuple(ages)\n",
    "tuple_marries=tuple(marries)"
   ]
  },
  {
   "cell_type": "code",
   "execution_count": 25,
   "id": "a58b5ed0",
   "metadata": {},
   "outputs": [
    {
     "data": {
      "text/plain": [
       "('a', 'b', 'c', 'd', 'e')"
      ]
     },
     "execution_count": 25,
     "metadata": {},
     "output_type": "execute_result"
    }
   ],
   "source": [
    "tuple_names"
   ]
  },
  {
   "cell_type": "code",
   "execution_count": 26,
   "id": "a98761b9",
   "metadata": {},
   "outputs": [
    {
     "data": {
      "text/html": [
       "<div>\n",
       "<style scoped>\n",
       "    .dataframe tbody tr th:only-of-type {\n",
       "        vertical-align: middle;\n",
       "    }\n",
       "\n",
       "    .dataframe tbody tr th {\n",
       "        vertical-align: top;\n",
       "    }\n",
       "\n",
       "    .dataframe thead th {\n",
       "        text-align: right;\n",
       "    }\n",
       "</style>\n",
       "<table border=\"1\" class=\"dataframe\">\n",
       "  <thead>\n",
       "    <tr style=\"text-align: right;\">\n",
       "      <th></th>\n",
       "      <th>names</th>\n",
       "      <th>ages</th>\n",
       "      <th>marries</th>\n",
       "    </tr>\n",
       "  </thead>\n",
       "  <tbody>\n",
       "    <tr>\n",
       "      <th>0</th>\n",
       "      <td>a</td>\n",
       "      <td>10</td>\n",
       "      <td>False</td>\n",
       "    </tr>\n",
       "    <tr>\n",
       "      <th>1</th>\n",
       "      <td>b</td>\n",
       "      <td>17</td>\n",
       "      <td>True</td>\n",
       "    </tr>\n",
       "    <tr>\n",
       "      <th>2</th>\n",
       "      <td>c</td>\n",
       "      <td>12</td>\n",
       "      <td>False</td>\n",
       "    </tr>\n",
       "    <tr>\n",
       "      <th>3</th>\n",
       "      <td>d</td>\n",
       "      <td>15</td>\n",
       "      <td>True</td>\n",
       "    </tr>\n",
       "    <tr>\n",
       "      <th>4</th>\n",
       "      <td>e</td>\n",
       "      <td>12</td>\n",
       "      <td>True</td>\n",
       "    </tr>\n",
       "  </tbody>\n",
       "</table>\n",
       "</div>"
      ],
      "text/plain": [
       "  names  ages  marries\n",
       "0     a    10    False\n",
       "1     b    17     True\n",
       "2     c    12    False\n",
       "3     d    15     True\n",
       "4     e    12     True"
      ]
     },
     "execution_count": 26,
     "metadata": {},
     "output_type": "execute_result"
    }
   ],
   "source": [
    "pd.DataFrame({\n",
    "    'names':tuple_names,\n",
    "    'ages':tuple_ages,\n",
    "    'marries':tuple_marries\n",
    "})"
   ]
  },
  {
   "cell_type": "markdown",
   "id": "1607b8b0",
   "metadata": {},
   "source": [
    "## Dictionary to Series"
   ]
  },
  {
   "cell_type": "code",
   "execution_count": 27,
   "id": "717bc9b5",
   "metadata": {},
   "outputs": [],
   "source": [
    "names=pd.Series(names)"
   ]
  },
  {
   "cell_type": "code",
   "execution_count": 28,
   "id": "e0f47dd3",
   "metadata": {},
   "outputs": [],
   "source": [
    "ages=pd.Series(ages)"
   ]
  },
  {
   "cell_type": "code",
   "execution_count": 29,
   "id": "1b055a79",
   "metadata": {},
   "outputs": [],
   "source": [
    "marries=pd.Series(marries)"
   ]
  },
  {
   "cell_type": "code",
   "execution_count": 30,
   "id": "6ee8d8e5",
   "metadata": {},
   "outputs": [
    {
     "data": {
      "text/html": [
       "<div>\n",
       "<style scoped>\n",
       "    .dataframe tbody tr th:only-of-type {\n",
       "        vertical-align: middle;\n",
       "    }\n",
       "\n",
       "    .dataframe tbody tr th {\n",
       "        vertical-align: top;\n",
       "    }\n",
       "\n",
       "    .dataframe thead th {\n",
       "        text-align: right;\n",
       "    }\n",
       "</style>\n",
       "<table border=\"1\" class=\"dataframe\">\n",
       "  <thead>\n",
       "    <tr style=\"text-align: right;\">\n",
       "      <th></th>\n",
       "      <th>names</th>\n",
       "      <th>ages</th>\n",
       "      <th>marries</th>\n",
       "    </tr>\n",
       "  </thead>\n",
       "  <tbody>\n",
       "    <tr>\n",
       "      <th>0</th>\n",
       "      <td>a</td>\n",
       "      <td>10</td>\n",
       "      <td>False</td>\n",
       "    </tr>\n",
       "    <tr>\n",
       "      <th>1</th>\n",
       "      <td>b</td>\n",
       "      <td>17</td>\n",
       "      <td>True</td>\n",
       "    </tr>\n",
       "    <tr>\n",
       "      <th>2</th>\n",
       "      <td>c</td>\n",
       "      <td>12</td>\n",
       "      <td>False</td>\n",
       "    </tr>\n",
       "    <tr>\n",
       "      <th>3</th>\n",
       "      <td>d</td>\n",
       "      <td>15</td>\n",
       "      <td>True</td>\n",
       "    </tr>\n",
       "    <tr>\n",
       "      <th>4</th>\n",
       "      <td>e</td>\n",
       "      <td>12</td>\n",
       "      <td>True</td>\n",
       "    </tr>\n",
       "  </tbody>\n",
       "</table>\n",
       "</div>"
      ],
      "text/plain": [
       "  names  ages  marries\n",
       "0     a    10    False\n",
       "1     b    17     True\n",
       "2     c    12    False\n",
       "3     d    15     True\n",
       "4     e    12     True"
      ]
     },
     "execution_count": 30,
     "metadata": {},
     "output_type": "execute_result"
    }
   ],
   "source": [
    "pd.DataFrame({'names':names,'ages':ages,'marries':marries})"
   ]
  },
  {
   "cell_type": "markdown",
   "id": "a855f7d7",
   "metadata": {},
   "source": [
    "## Dictionary To Dictionary"
   ]
  },
  {
   "cell_type": "code",
   "execution_count": 31,
   "id": "66be1f31",
   "metadata": {},
   "outputs": [
    {
     "data": {
      "text/html": [
       "<div>\n",
       "<style scoped>\n",
       "    .dataframe tbody tr th:only-of-type {\n",
       "        vertical-align: middle;\n",
       "    }\n",
       "\n",
       "    .dataframe tbody tr th {\n",
       "        vertical-align: top;\n",
       "    }\n",
       "\n",
       "    .dataframe thead th {\n",
       "        text-align: right;\n",
       "    }\n",
       "</style>\n",
       "<table border=\"1\" class=\"dataframe\">\n",
       "  <thead>\n",
       "    <tr style=\"text-align: right;\">\n",
       "      <th></th>\n",
       "      <th>name</th>\n",
       "    </tr>\n",
       "  </thead>\n",
       "  <tbody>\n",
       "    <tr>\n",
       "      <th>0</th>\n",
       "      <td>a</td>\n",
       "    </tr>\n",
       "    <tr>\n",
       "      <th>1</th>\n",
       "      <td>b</td>\n",
       "    </tr>\n",
       "  </tbody>\n",
       "</table>\n",
       "</div>"
      ],
      "text/plain": [
       "  name\n",
       "0    a\n",
       "1    b"
      ]
     },
     "execution_count": 31,
     "metadata": {},
     "output_type": "execute_result"
    }
   ],
   "source": [
    "pd.DataFrame({'name':['a','b']})"
   ]
  },
  {
   "cell_type": "code",
   "execution_count": 32,
   "id": "b330eb8d",
   "metadata": {},
   "outputs": [
    {
     "data": {
      "text/html": [
       "<div>\n",
       "<style scoped>\n",
       "    .dataframe tbody tr th:only-of-type {\n",
       "        vertical-align: middle;\n",
       "    }\n",
       "\n",
       "    .dataframe tbody tr th {\n",
       "        vertical-align: top;\n",
       "    }\n",
       "\n",
       "    .dataframe thead th {\n",
       "        text-align: right;\n",
       "    }\n",
       "</style>\n",
       "<table border=\"1\" class=\"dataframe\">\n",
       "  <thead>\n",
       "    <tr style=\"text-align: right;\">\n",
       "      <th></th>\n",
       "      <th>name</th>\n",
       "    </tr>\n",
       "  </thead>\n",
       "  <tbody>\n",
       "    <tr>\n",
       "      <th>0</th>\n",
       "      <td>a</td>\n",
       "    </tr>\n",
       "    <tr>\n",
       "      <th>1</th>\n",
       "      <td>b</td>\n",
       "    </tr>\n",
       "  </tbody>\n",
       "</table>\n",
       "</div>"
      ],
      "text/plain": [
       "  name\n",
       "0    a\n",
       "1    b"
      ]
     },
     "execution_count": 32,
     "metadata": {},
     "output_type": "execute_result"
    }
   ],
   "source": [
    "pd.DataFrame({'name':{0:'a',1:'b'}})"
   ]
  },
  {
   "cell_type": "code",
   "execution_count": 33,
   "id": "a5d509dd",
   "metadata": {},
   "outputs": [],
   "source": [
    "# The Enumerate Function"
   ]
  },
  {
   "cell_type": "code",
   "execution_count": 34,
   "id": "8044c0e9",
   "metadata": {},
   "outputs": [
    {
     "data": {
      "text/plain": [
       "<enumerate at 0x1d72b762e40>"
      ]
     },
     "execution_count": 34,
     "metadata": {},
     "output_type": "execute_result"
    }
   ],
   "source": [
    "enumerate(names)"
   ]
  },
  {
   "cell_type": "code",
   "execution_count": 35,
   "id": "75f055d0",
   "metadata": {},
   "outputs": [
    {
     "data": {
      "text/plain": [
       "[(0, 'a'), (1, 'b'), (2, 'c'), (3, 'd'), (4, 'e')]"
      ]
     },
     "execution_count": 35,
     "metadata": {},
     "output_type": "execute_result"
    }
   ],
   "source": [
    "list(enumerate(names))"
   ]
  },
  {
   "cell_type": "code",
   "execution_count": 36,
   "id": "789f0368",
   "metadata": {},
   "outputs": [],
   "source": [
    "dict_names={k:v for k,v in enumerate(names)}"
   ]
  },
  {
   "cell_type": "code",
   "execution_count": 37,
   "id": "622a56cc",
   "metadata": {},
   "outputs": [
    {
     "data": {
      "text/plain": [
       "{0: 'a', 1: 'b', 2: 'c', 3: 'd', 4: 'e'}"
      ]
     },
     "execution_count": 37,
     "metadata": {},
     "output_type": "execute_result"
    }
   ],
   "source": [
    "dict_names"
   ]
  },
  {
   "cell_type": "code",
   "execution_count": 38,
   "id": "b47f2d36",
   "metadata": {},
   "outputs": [
    {
     "data": {
      "text/html": [
       "<div>\n",
       "<style scoped>\n",
       "    .dataframe tbody tr th:only-of-type {\n",
       "        vertical-align: middle;\n",
       "    }\n",
       "\n",
       "    .dataframe tbody tr th {\n",
       "        vertical-align: top;\n",
       "    }\n",
       "\n",
       "    .dataframe thead th {\n",
       "        text-align: right;\n",
       "    }\n",
       "</style>\n",
       "<table border=\"1\" class=\"dataframe\">\n",
       "  <thead>\n",
       "    <tr style=\"text-align: right;\">\n",
       "      <th></th>\n",
       "      <th>names</th>\n",
       "    </tr>\n",
       "  </thead>\n",
       "  <tbody>\n",
       "    <tr>\n",
       "      <th>0</th>\n",
       "      <td>a</td>\n",
       "    </tr>\n",
       "    <tr>\n",
       "      <th>1</th>\n",
       "      <td>b</td>\n",
       "    </tr>\n",
       "    <tr>\n",
       "      <th>2</th>\n",
       "      <td>c</td>\n",
       "    </tr>\n",
       "    <tr>\n",
       "      <th>3</th>\n",
       "      <td>d</td>\n",
       "    </tr>\n",
       "    <tr>\n",
       "      <th>4</th>\n",
       "      <td>e</td>\n",
       "    </tr>\n",
       "  </tbody>\n",
       "</table>\n",
       "</div>"
      ],
      "text/plain": [
       "  names\n",
       "0     a\n",
       "1     b\n",
       "2     c\n",
       "3     d\n",
       "4     e"
      ]
     },
     "execution_count": 38,
     "metadata": {},
     "output_type": "execute_result"
    }
   ],
   "source": [
    "pd.DataFrame({'names':dict_names})"
   ]
  },
  {
   "cell_type": "code",
   "execution_count": 39,
   "id": "84d107c1",
   "metadata": {},
   "outputs": [],
   "source": [
    "def convert_list_dict(i):\n",
    "    return {k:v for k,v in enumerate(i)}"
   ]
  },
  {
   "cell_type": "code",
   "execution_count": 40,
   "id": "6767ea2f",
   "metadata": {},
   "outputs": [],
   "source": [
    "dict_name=convert_list_dict(names)\n",
    "dict_ages=convert_list_dict(ages)\n",
    "dict_marries=convert_list_dict(marries)"
   ]
  },
  {
   "cell_type": "code",
   "execution_count": 41,
   "id": "361b4655",
   "metadata": {},
   "outputs": [
    {
     "data": {
      "text/html": [
       "<div>\n",
       "<style scoped>\n",
       "    .dataframe tbody tr th:only-of-type {\n",
       "        vertical-align: middle;\n",
       "    }\n",
       "\n",
       "    .dataframe tbody tr th {\n",
       "        vertical-align: top;\n",
       "    }\n",
       "\n",
       "    .dataframe thead th {\n",
       "        text-align: right;\n",
       "    }\n",
       "</style>\n",
       "<table border=\"1\" class=\"dataframe\">\n",
       "  <thead>\n",
       "    <tr style=\"text-align: right;\">\n",
       "      <th></th>\n",
       "      <th>names</th>\n",
       "      <th>ages</th>\n",
       "      <th>marries</th>\n",
       "    </tr>\n",
       "  </thead>\n",
       "  <tbody>\n",
       "    <tr>\n",
       "      <th>0</th>\n",
       "      <td>a</td>\n",
       "      <td>10</td>\n",
       "      <td>False</td>\n",
       "    </tr>\n",
       "    <tr>\n",
       "      <th>1</th>\n",
       "      <td>b</td>\n",
       "      <td>17</td>\n",
       "      <td>True</td>\n",
       "    </tr>\n",
       "    <tr>\n",
       "      <th>2</th>\n",
       "      <td>c</td>\n",
       "      <td>12</td>\n",
       "      <td>False</td>\n",
       "    </tr>\n",
       "    <tr>\n",
       "      <th>3</th>\n",
       "      <td>d</td>\n",
       "      <td>15</td>\n",
       "      <td>True</td>\n",
       "    </tr>\n",
       "    <tr>\n",
       "      <th>4</th>\n",
       "      <td>e</td>\n",
       "      <td>12</td>\n",
       "      <td>True</td>\n",
       "    </tr>\n",
       "  </tbody>\n",
       "</table>\n",
       "</div>"
      ],
      "text/plain": [
       "  names  ages  marries\n",
       "0     a    10    False\n",
       "1     b    17     True\n",
       "2     c    12    False\n",
       "3     d    15     True\n",
       "4     e    12     True"
      ]
     },
     "execution_count": 41,
     "metadata": {},
     "output_type": "execute_result"
    }
   ],
   "source": [
    "pd.DataFrame({'names':names,'ages':ages,\"marries\":marries})"
   ]
  },
  {
   "cell_type": "markdown",
   "id": "f7af4c45",
   "metadata": {},
   "source": [
    "## List to Dictioanry"
   ]
  },
  {
   "cell_type": "code",
   "execution_count": 42,
   "id": "fbdb30de",
   "metadata": {},
   "outputs": [
    {
     "data": {
      "text/html": [
       "<div>\n",
       "<style scoped>\n",
       "    .dataframe tbody tr th:only-of-type {\n",
       "        vertical-align: middle;\n",
       "    }\n",
       "\n",
       "    .dataframe tbody tr th {\n",
       "        vertical-align: top;\n",
       "    }\n",
       "\n",
       "    .dataframe thead th {\n",
       "        text-align: right;\n",
       "    }\n",
       "</style>\n",
       "<table border=\"1\" class=\"dataframe\">\n",
       "  <thead>\n",
       "    <tr style=\"text-align: right;\">\n",
       "      <th></th>\n",
       "      <th>names</th>\n",
       "      <th>ages</th>\n",
       "      <th>marries</th>\n",
       "    </tr>\n",
       "  </thead>\n",
       "  <tbody>\n",
       "    <tr>\n",
       "      <th>0</th>\n",
       "      <td>a</td>\n",
       "      <td>6</td>\n",
       "      <td>True</td>\n",
       "    </tr>\n",
       "  </tbody>\n",
       "</table>\n",
       "</div>"
      ],
      "text/plain": [
       "  names  ages  marries\n",
       "0     a     6     True"
      ]
     },
     "execution_count": 42,
     "metadata": {},
     "output_type": "execute_result"
    }
   ],
   "source": [
    "pd.DataFrame([{'names':'a','ages':6,'marries':True}])"
   ]
  },
  {
   "cell_type": "code",
   "execution_count": 43,
   "id": "c0aac3c4",
   "metadata": {},
   "outputs": [
    {
     "data": {
      "text/plain": [
       "[('a', 10, False),\n",
       " ('b', 17, True),\n",
       " ('c', 12, False),\n",
       " ('d', 15, True),\n",
       " ('e', 12, True)]"
      ]
     },
     "execution_count": 43,
     "metadata": {},
     "output_type": "execute_result"
    }
   ],
   "source": [
    "list(zip(names,ages,marries))"
   ]
  },
  {
   "cell_type": "code",
   "execution_count": 44,
   "id": "01887124",
   "metadata": {},
   "outputs": [
    {
     "data": {
      "text/html": [
       "<div>\n",
       "<style scoped>\n",
       "    .dataframe tbody tr th:only-of-type {\n",
       "        vertical-align: middle;\n",
       "    }\n",
       "\n",
       "    .dataframe tbody tr th {\n",
       "        vertical-align: top;\n",
       "    }\n",
       "\n",
       "    .dataframe thead th {\n",
       "        text-align: right;\n",
       "    }\n",
       "</style>\n",
       "<table border=\"1\" class=\"dataframe\">\n",
       "  <thead>\n",
       "    <tr style=\"text-align: right;\">\n",
       "      <th></th>\n",
       "      <th>names</th>\n",
       "      <th>ages</th>\n",
       "      <th>marries</th>\n",
       "    </tr>\n",
       "  </thead>\n",
       "  <tbody>\n",
       "    <tr>\n",
       "      <th>0</th>\n",
       "      <td>a</td>\n",
       "      <td>10</td>\n",
       "      <td>False</td>\n",
       "    </tr>\n",
       "    <tr>\n",
       "      <th>1</th>\n",
       "      <td>b</td>\n",
       "      <td>17</td>\n",
       "      <td>True</td>\n",
       "    </tr>\n",
       "    <tr>\n",
       "      <th>2</th>\n",
       "      <td>c</td>\n",
       "      <td>12</td>\n",
       "      <td>False</td>\n",
       "    </tr>\n",
       "    <tr>\n",
       "      <th>3</th>\n",
       "      <td>d</td>\n",
       "      <td>15</td>\n",
       "      <td>True</td>\n",
       "    </tr>\n",
       "    <tr>\n",
       "      <th>4</th>\n",
       "      <td>e</td>\n",
       "      <td>12</td>\n",
       "      <td>True</td>\n",
       "    </tr>\n",
       "  </tbody>\n",
       "</table>\n",
       "</div>"
      ],
      "text/plain": [
       "  names  ages  marries\n",
       "0     a    10    False\n",
       "1     b    17     True\n",
       "2     c    12    False\n",
       "3     d    15     True\n",
       "4     e    12     True"
      ]
     },
     "execution_count": 44,
     "metadata": {},
     "output_type": "execute_result"
    }
   ],
   "source": [
    "pd.DataFrame([{'names':names,'ages':ages,'marries':marries} for names,ages,marries in zip(names,ages,marries)])"
   ]
  },
  {
   "cell_type": "markdown",
   "id": "888dbb6e",
   "metadata": {},
   "source": [
    "## Info() Method"
   ]
  },
  {
   "cell_type": "code",
   "execution_count": 45,
   "id": "f2dd10cc",
   "metadata": {},
   "outputs": [
    {
     "name": "stdout",
     "output_type": "stream",
     "text": [
      "<class 'pandas.core.frame.DataFrame'>\n",
      "RangeIndex: 5 entries, 0 to 4\n",
      "Data columns (total 3 columns):\n",
      " #   Column   Non-Null Count  Dtype \n",
      "---  ------   --------------  ----- \n",
      " 0   names    5 non-null      object\n",
      " 1   ages     5 non-null      int64 \n",
      " 2   marries  5 non-null      bool  \n",
      "dtypes: bool(1), int64(1), object(1)\n",
      "memory usage: 213.0+ bytes\n"
     ]
    }
   ],
   "source": [
    "# Info Methods Describe About Summary DataSets\n",
    "df.info()"
   ]
  },
  {
   "cell_type": "code",
   "execution_count": 46,
   "id": "560ab5fd",
   "metadata": {},
   "outputs": [
    {
     "name": "stdout",
     "output_type": "stream",
     "text": [
      "<class 'pandas.core.frame.DataFrame'>\n",
      "RangeIndex: 5 entries, 0 to 4\n",
      "Columns: 3 entries, names to marries\n",
      "dtypes: bool(1), int64(1), object(1)\n",
      "memory usage: 213.0+ bytes\n"
     ]
    }
   ],
   "source": [
    "df.info(verbose=False)"
   ]
  },
  {
   "cell_type": "code",
   "execution_count": 47,
   "id": "00553df9",
   "metadata": {},
   "outputs": [
    {
     "name": "stdout",
     "output_type": "stream",
     "text": [
      "<class 'pandas.core.frame.DataFrame'>\n",
      "RangeIndex: 5 entries, 0 to 4\n",
      "Columns: 3 entries, names to marries\n",
      "dtypes: bool(1), int64(1), object(1)\n",
      "memory usage: 213.0+ bytes\n"
     ]
    }
   ],
   "source": [
    "df.info(max_cols=2)"
   ]
  },
  {
   "cell_type": "code",
   "execution_count": 48,
   "id": "9cb55fc0",
   "metadata": {},
   "outputs": [
    {
     "name": "stdout",
     "output_type": "stream",
     "text": [
      "<class 'pandas.core.frame.DataFrame'>\n",
      "RangeIndex: 5 entries, 0 to 4\n",
      "Data columns (total 3 columns):\n",
      " #   Column   Non-Null Count  Dtype \n",
      "---  ------   --------------  ----- \n",
      " 0   names    5 non-null      object\n",
      " 1   ages     5 non-null      int64 \n",
      " 2   marries  5 non-null      bool  \n",
      "dtypes: bool(1), int64(1), object(1)"
     ]
    }
   ],
   "source": [
    "df.info(memory_usage=False)"
   ]
  },
  {
   "cell_type": "code",
   "execution_count": 49,
   "id": "2d6496c3",
   "metadata": {},
   "outputs": [
    {
     "name": "stdout",
     "output_type": "stream",
     "text": [
      "<class 'pandas.core.frame.DataFrame'>\n",
      "RangeIndex: 5 entries, 0 to 4\n",
      "Columns: 3 entries, names to marries\n",
      "dtypes: bool(1), int64(1), object(1)\n",
      "memory usage: 463.0 bytes\n"
     ]
    }
   ],
   "source": [
    "df.info(memory_usage='deep',verbose=False)"
   ]
  },
  {
   "cell_type": "markdown",
   "id": "7fa5a80d",
   "metadata": {},
   "source": [
    "## Reading DataSets"
   ]
  },
  {
   "cell_type": "code",
   "execution_count": 50,
   "id": "30ea2a7e",
   "metadata": {},
   "outputs": [],
   "source": [
    "#Urls\n",
    "dataurl='https://andybek.com/pandas-nutrition'"
   ]
  },
  {
   "cell_type": "code",
   "execution_count": 51,
   "id": "bf650e06",
   "metadata": {},
   "outputs": [],
   "source": [
    "nut=pd.read_csv(dataurl)"
   ]
  },
  {
   "cell_type": "code",
   "execution_count": 52,
   "id": "4092091e",
   "metadata": {},
   "outputs": [
    {
     "data": {
      "text/html": [
       "<div>\n",
       "<style scoped>\n",
       "    .dataframe tbody tr th:only-of-type {\n",
       "        vertical-align: middle;\n",
       "    }\n",
       "\n",
       "    .dataframe tbody tr th {\n",
       "        vertical-align: top;\n",
       "    }\n",
       "\n",
       "    .dataframe thead th {\n",
       "        text-align: right;\n",
       "    }\n",
       "</style>\n",
       "<table border=\"1\" class=\"dataframe\">\n",
       "  <thead>\n",
       "    <tr style=\"text-align: right;\">\n",
       "      <th></th>\n",
       "      <th>Unnamed: 0</th>\n",
       "      <th>name</th>\n",
       "      <th>serving_size</th>\n",
       "      <th>calories</th>\n",
       "      <th>total_fat</th>\n",
       "      <th>saturated_fat</th>\n",
       "      <th>cholesterol</th>\n",
       "      <th>sodium</th>\n",
       "      <th>choline</th>\n",
       "      <th>folate</th>\n",
       "      <th>...</th>\n",
       "      <th>fat</th>\n",
       "      <th>saturated_fatty_acids</th>\n",
       "      <th>monounsaturated_fatty_acids</th>\n",
       "      <th>polyunsaturated_fatty_acids</th>\n",
       "      <th>fatty_acids_total_trans</th>\n",
       "      <th>alcohol</th>\n",
       "      <th>ash</th>\n",
       "      <th>caffeine</th>\n",
       "      <th>theobromine</th>\n",
       "      <th>water</th>\n",
       "    </tr>\n",
       "  </thead>\n",
       "  <tbody>\n",
       "    <tr>\n",
       "      <th>0</th>\n",
       "      <td>0</td>\n",
       "      <td>Cornstarch</td>\n",
       "      <td>100 g</td>\n",
       "      <td>381</td>\n",
       "      <td>0.1g</td>\n",
       "      <td>NaN</td>\n",
       "      <td>0</td>\n",
       "      <td>9.00 mg</td>\n",
       "      <td>0.4 mg</td>\n",
       "      <td>0.00 mcg</td>\n",
       "      <td>...</td>\n",
       "      <td>0.05 g</td>\n",
       "      <td>0.009 g</td>\n",
       "      <td>0.016 g</td>\n",
       "      <td>0.025 g</td>\n",
       "      <td>0.00 mg</td>\n",
       "      <td>0.0 g</td>\n",
       "      <td>0.09 g</td>\n",
       "      <td>0.00 mg</td>\n",
       "      <td>0.00 mg</td>\n",
       "      <td>8.32 g</td>\n",
       "    </tr>\n",
       "    <tr>\n",
       "      <th>1</th>\n",
       "      <td>1</td>\n",
       "      <td>Nuts, pecans</td>\n",
       "      <td>100 g</td>\n",
       "      <td>691</td>\n",
       "      <td>72g</td>\n",
       "      <td>6.2g</td>\n",
       "      <td>0</td>\n",
       "      <td>0.00 mg</td>\n",
       "      <td>40.5 mg</td>\n",
       "      <td>22.00 mcg</td>\n",
       "      <td>...</td>\n",
       "      <td>71.97 g</td>\n",
       "      <td>6.180 g</td>\n",
       "      <td>40.801 g</td>\n",
       "      <td>21.614 g</td>\n",
       "      <td>0.00 mg</td>\n",
       "      <td>0.0 g</td>\n",
       "      <td>1.49 g</td>\n",
       "      <td>0.00 mg</td>\n",
       "      <td>0.00 mg</td>\n",
       "      <td>3.52 g</td>\n",
       "    </tr>\n",
       "  </tbody>\n",
       "</table>\n",
       "<p>2 rows × 77 columns</p>\n",
       "</div>"
      ],
      "text/plain": [
       "   Unnamed: 0          name serving_size  calories total_fat saturated_fat  \\\n",
       "0           0    Cornstarch        100 g       381      0.1g           NaN   \n",
       "1           1  Nuts, pecans        100 g       691       72g          6.2g   \n",
       "\n",
       "  cholesterol   sodium  choline     folate  ...      fat  \\\n",
       "0           0  9.00 mg   0.4 mg   0.00 mcg  ...   0.05 g   \n",
       "1           0  0.00 mg  40.5 mg  22.00 mcg  ...  71.97 g   \n",
       "\n",
       "  saturated_fatty_acids monounsaturated_fatty_acids  \\\n",
       "0               0.009 g                     0.016 g   \n",
       "1               6.180 g                    40.801 g   \n",
       "\n",
       "  polyunsaturated_fatty_acids fatty_acids_total_trans alcohol     ash  \\\n",
       "0                     0.025 g                 0.00 mg   0.0 g  0.09 g   \n",
       "1                    21.614 g                 0.00 mg   0.0 g  1.49 g   \n",
       "\n",
       "  caffeine theobromine   water  \n",
       "0  0.00 mg     0.00 mg  8.32 g  \n",
       "1  0.00 mg     0.00 mg  3.52 g  \n",
       "\n",
       "[2 rows x 77 columns]"
      ]
     },
     "execution_count": 52,
     "metadata": {},
     "output_type": "execute_result"
    }
   ],
   "source": [
    "nut.head(2)"
   ]
  },
  {
   "cell_type": "code",
   "execution_count": 53,
   "id": "a86af7fe",
   "metadata": {},
   "outputs": [
    {
     "name": "stdout",
     "output_type": "stream",
     "text": [
      "<class 'pandas.core.frame.DataFrame'>\n",
      "RangeIndex: 8789 entries, 0 to 8788\n",
      "Columns: 77 entries, Unnamed: 0 to water\n",
      "dtypes: int64(3), object(74)\n",
      "memory usage: 39.2 MB\n"
     ]
    }
   ],
   "source": [
    "nut.info(verbose=False,memory_usage='deep')"
   ]
  },
  {
   "cell_type": "markdown",
   "id": "53735e42",
   "metadata": {},
   "source": [
    "## Removing Duplicated Index"
   ]
  },
  {
   "cell_type": "code",
   "execution_count": 54,
   "id": "564a1d9e",
   "metadata": {},
   "outputs": [
    {
     "data": {
      "text/html": [
       "<div>\n",
       "<style scoped>\n",
       "    .dataframe tbody tr th:only-of-type {\n",
       "        vertical-align: middle;\n",
       "    }\n",
       "\n",
       "    .dataframe tbody tr th {\n",
       "        vertical-align: top;\n",
       "    }\n",
       "\n",
       "    .dataframe thead th {\n",
       "        text-align: right;\n",
       "    }\n",
       "</style>\n",
       "<table border=\"1\" class=\"dataframe\">\n",
       "  <thead>\n",
       "    <tr style=\"text-align: right;\">\n",
       "      <th></th>\n",
       "      <th>Unnamed: 0</th>\n",
       "      <th>name</th>\n",
       "      <th>serving_size</th>\n",
       "      <th>calories</th>\n",
       "      <th>total_fat</th>\n",
       "      <th>saturated_fat</th>\n",
       "      <th>cholesterol</th>\n",
       "      <th>sodium</th>\n",
       "      <th>choline</th>\n",
       "      <th>folate</th>\n",
       "      <th>...</th>\n",
       "      <th>fat</th>\n",
       "      <th>saturated_fatty_acids</th>\n",
       "      <th>monounsaturated_fatty_acids</th>\n",
       "      <th>polyunsaturated_fatty_acids</th>\n",
       "      <th>fatty_acids_total_trans</th>\n",
       "      <th>alcohol</th>\n",
       "      <th>ash</th>\n",
       "      <th>caffeine</th>\n",
       "      <th>theobromine</th>\n",
       "      <th>water</th>\n",
       "    </tr>\n",
       "  </thead>\n",
       "  <tbody>\n",
       "    <tr>\n",
       "      <th>0</th>\n",
       "      <td>0</td>\n",
       "      <td>Cornstarch</td>\n",
       "      <td>100 g</td>\n",
       "      <td>381</td>\n",
       "      <td>0.1g</td>\n",
       "      <td>NaN</td>\n",
       "      <td>0</td>\n",
       "      <td>9.00 mg</td>\n",
       "      <td>0.4 mg</td>\n",
       "      <td>0.00 mcg</td>\n",
       "      <td>...</td>\n",
       "      <td>0.05 g</td>\n",
       "      <td>0.009 g</td>\n",
       "      <td>0.016 g</td>\n",
       "      <td>0.025 g</td>\n",
       "      <td>0.00 mg</td>\n",
       "      <td>0.0 g</td>\n",
       "      <td>0.09 g</td>\n",
       "      <td>0.00 mg</td>\n",
       "      <td>0.00 mg</td>\n",
       "      <td>8.32 g</td>\n",
       "    </tr>\n",
       "    <tr>\n",
       "      <th>1</th>\n",
       "      <td>1</td>\n",
       "      <td>Nuts, pecans</td>\n",
       "      <td>100 g</td>\n",
       "      <td>691</td>\n",
       "      <td>72g</td>\n",
       "      <td>6.2g</td>\n",
       "      <td>0</td>\n",
       "      <td>0.00 mg</td>\n",
       "      <td>40.5 mg</td>\n",
       "      <td>22.00 mcg</td>\n",
       "      <td>...</td>\n",
       "      <td>71.97 g</td>\n",
       "      <td>6.180 g</td>\n",
       "      <td>40.801 g</td>\n",
       "      <td>21.614 g</td>\n",
       "      <td>0.00 mg</td>\n",
       "      <td>0.0 g</td>\n",
       "      <td>1.49 g</td>\n",
       "      <td>0.00 mg</td>\n",
       "      <td>0.00 mg</td>\n",
       "      <td>3.52 g</td>\n",
       "    </tr>\n",
       "    <tr>\n",
       "      <th>2</th>\n",
       "      <td>2</td>\n",
       "      <td>Eggplant, raw</td>\n",
       "      <td>100 g</td>\n",
       "      <td>25</td>\n",
       "      <td>0.2g</td>\n",
       "      <td>NaN</td>\n",
       "      <td>0</td>\n",
       "      <td>2.00 mg</td>\n",
       "      <td>6.9 mg</td>\n",
       "      <td>22.00 mcg</td>\n",
       "      <td>...</td>\n",
       "      <td>0.18 g</td>\n",
       "      <td>0.034 g</td>\n",
       "      <td>0.016 g</td>\n",
       "      <td>0.076 g</td>\n",
       "      <td>0.00 mg</td>\n",
       "      <td>0.0 g</td>\n",
       "      <td>0.66 g</td>\n",
       "      <td>0.00 mg</td>\n",
       "      <td>0.00 mg</td>\n",
       "      <td>92.30 g</td>\n",
       "    </tr>\n",
       "  </tbody>\n",
       "</table>\n",
       "<p>3 rows × 77 columns</p>\n",
       "</div>"
      ],
      "text/plain": [
       "   Unnamed: 0           name serving_size  calories total_fat saturated_fat  \\\n",
       "0           0     Cornstarch        100 g       381      0.1g           NaN   \n",
       "1           1   Nuts, pecans        100 g       691       72g          6.2g   \n",
       "2           2  Eggplant, raw        100 g        25      0.2g           NaN   \n",
       "\n",
       "  cholesterol   sodium  choline     folate  ...      fat  \\\n",
       "0           0  9.00 mg   0.4 mg   0.00 mcg  ...   0.05 g   \n",
       "1           0  0.00 mg  40.5 mg  22.00 mcg  ...  71.97 g   \n",
       "2           0  2.00 mg   6.9 mg  22.00 mcg  ...   0.18 g   \n",
       "\n",
       "  saturated_fatty_acids monounsaturated_fatty_acids  \\\n",
       "0               0.009 g                     0.016 g   \n",
       "1               6.180 g                    40.801 g   \n",
       "2               0.034 g                     0.016 g   \n",
       "\n",
       "  polyunsaturated_fatty_acids fatty_acids_total_trans alcohol     ash  \\\n",
       "0                     0.025 g                 0.00 mg   0.0 g  0.09 g   \n",
       "1                    21.614 g                 0.00 mg   0.0 g  1.49 g   \n",
       "2                     0.076 g                 0.00 mg   0.0 g  0.66 g   \n",
       "\n",
       "  caffeine theobromine    water  \n",
       "0  0.00 mg     0.00 mg   8.32 g  \n",
       "1  0.00 mg     0.00 mg   3.52 g  \n",
       "2  0.00 mg     0.00 mg  92.30 g  \n",
       "\n",
       "[3 rows x 77 columns]"
      ]
     },
     "execution_count": 54,
     "metadata": {},
     "output_type": "execute_result"
    }
   ],
   "source": [
    "nut.head(3)"
   ]
  },
  {
   "cell_type": "code",
   "execution_count": 55,
   "id": "052d05e5",
   "metadata": {},
   "outputs": [
    {
     "data": {
      "text/html": [
       "<div>\n",
       "<style scoped>\n",
       "    .dataframe tbody tr th:only-of-type {\n",
       "        vertical-align: middle;\n",
       "    }\n",
       "\n",
       "    .dataframe tbody tr th {\n",
       "        vertical-align: top;\n",
       "    }\n",
       "\n",
       "    .dataframe thead th {\n",
       "        text-align: right;\n",
       "    }\n",
       "</style>\n",
       "<table border=\"1\" class=\"dataframe\">\n",
       "  <thead>\n",
       "    <tr style=\"text-align: right;\">\n",
       "      <th></th>\n",
       "      <th>name</th>\n",
       "      <th>serving_size</th>\n",
       "      <th>calories</th>\n",
       "      <th>total_fat</th>\n",
       "      <th>saturated_fat</th>\n",
       "      <th>cholesterol</th>\n",
       "      <th>sodium</th>\n",
       "      <th>choline</th>\n",
       "      <th>folate</th>\n",
       "      <th>folic_acid</th>\n",
       "      <th>...</th>\n",
       "      <th>fat</th>\n",
       "      <th>saturated_fatty_acids</th>\n",
       "      <th>monounsaturated_fatty_acids</th>\n",
       "      <th>polyunsaturated_fatty_acids</th>\n",
       "      <th>fatty_acids_total_trans</th>\n",
       "      <th>alcohol</th>\n",
       "      <th>ash</th>\n",
       "      <th>caffeine</th>\n",
       "      <th>theobromine</th>\n",
       "      <th>water</th>\n",
       "    </tr>\n",
       "    <tr>\n",
       "      <th>Unnamed: 0</th>\n",
       "      <th></th>\n",
       "      <th></th>\n",
       "      <th></th>\n",
       "      <th></th>\n",
       "      <th></th>\n",
       "      <th></th>\n",
       "      <th></th>\n",
       "      <th></th>\n",
       "      <th></th>\n",
       "      <th></th>\n",
       "      <th></th>\n",
       "      <th></th>\n",
       "      <th></th>\n",
       "      <th></th>\n",
       "      <th></th>\n",
       "      <th></th>\n",
       "      <th></th>\n",
       "      <th></th>\n",
       "      <th></th>\n",
       "      <th></th>\n",
       "      <th></th>\n",
       "    </tr>\n",
       "  </thead>\n",
       "  <tbody>\n",
       "    <tr>\n",
       "      <th>0</th>\n",
       "      <td>Cornstarch</td>\n",
       "      <td>100 g</td>\n",
       "      <td>381</td>\n",
       "      <td>0.1g</td>\n",
       "      <td>NaN</td>\n",
       "      <td>0</td>\n",
       "      <td>9.00 mg</td>\n",
       "      <td>0.4 mg</td>\n",
       "      <td>0.00 mcg</td>\n",
       "      <td>0.00 mcg</td>\n",
       "      <td>...</td>\n",
       "      <td>0.05 g</td>\n",
       "      <td>0.009 g</td>\n",
       "      <td>0.016 g</td>\n",
       "      <td>0.025 g</td>\n",
       "      <td>0.00 mg</td>\n",
       "      <td>0.0 g</td>\n",
       "      <td>0.09 g</td>\n",
       "      <td>0.00 mg</td>\n",
       "      <td>0.00 mg</td>\n",
       "      <td>8.32 g</td>\n",
       "    </tr>\n",
       "    <tr>\n",
       "      <th>1</th>\n",
       "      <td>Nuts, pecans</td>\n",
       "      <td>100 g</td>\n",
       "      <td>691</td>\n",
       "      <td>72g</td>\n",
       "      <td>6.2g</td>\n",
       "      <td>0</td>\n",
       "      <td>0.00 mg</td>\n",
       "      <td>40.5 mg</td>\n",
       "      <td>22.00 mcg</td>\n",
       "      <td>0.00 mcg</td>\n",
       "      <td>...</td>\n",
       "      <td>71.97 g</td>\n",
       "      <td>6.180 g</td>\n",
       "      <td>40.801 g</td>\n",
       "      <td>21.614 g</td>\n",
       "      <td>0.00 mg</td>\n",
       "      <td>0.0 g</td>\n",
       "      <td>1.49 g</td>\n",
       "      <td>0.00 mg</td>\n",
       "      <td>0.00 mg</td>\n",
       "      <td>3.52 g</td>\n",
       "    </tr>\n",
       "    <tr>\n",
       "      <th>2</th>\n",
       "      <td>Eggplant, raw</td>\n",
       "      <td>100 g</td>\n",
       "      <td>25</td>\n",
       "      <td>0.2g</td>\n",
       "      <td>NaN</td>\n",
       "      <td>0</td>\n",
       "      <td>2.00 mg</td>\n",
       "      <td>6.9 mg</td>\n",
       "      <td>22.00 mcg</td>\n",
       "      <td>0.00 mcg</td>\n",
       "      <td>...</td>\n",
       "      <td>0.18 g</td>\n",
       "      <td>0.034 g</td>\n",
       "      <td>0.016 g</td>\n",
       "      <td>0.076 g</td>\n",
       "      <td>0.00 mg</td>\n",
       "      <td>0.0 g</td>\n",
       "      <td>0.66 g</td>\n",
       "      <td>0.00 mg</td>\n",
       "      <td>0.00 mg</td>\n",
       "      <td>92.30 g</td>\n",
       "    </tr>\n",
       "  </tbody>\n",
       "</table>\n",
       "<p>3 rows × 76 columns</p>\n",
       "</div>"
      ],
      "text/plain": [
       "                     name serving_size  calories total_fat saturated_fat  \\\n",
       "Unnamed: 0                                                                 \n",
       "0              Cornstarch        100 g       381      0.1g           NaN   \n",
       "1            Nuts, pecans        100 g       691       72g          6.2g   \n",
       "2           Eggplant, raw        100 g        25      0.2g           NaN   \n",
       "\n",
       "           cholesterol   sodium  choline     folate folic_acid  ...      fat  \\\n",
       "Unnamed: 0                                                      ...            \n",
       "0                    0  9.00 mg   0.4 mg   0.00 mcg   0.00 mcg  ...   0.05 g   \n",
       "1                    0  0.00 mg  40.5 mg  22.00 mcg   0.00 mcg  ...  71.97 g   \n",
       "2                    0  2.00 mg   6.9 mg  22.00 mcg   0.00 mcg  ...   0.18 g   \n",
       "\n",
       "           saturated_fatty_acids monounsaturated_fatty_acids  \\\n",
       "Unnamed: 0                                                     \n",
       "0                        0.009 g                     0.016 g   \n",
       "1                        6.180 g                    40.801 g   \n",
       "2                        0.034 g                     0.016 g   \n",
       "\n",
       "           polyunsaturated_fatty_acids fatty_acids_total_trans alcohol  \\\n",
       "Unnamed: 0                                                               \n",
       "0                              0.025 g                 0.00 mg   0.0 g   \n",
       "1                             21.614 g                 0.00 mg   0.0 g   \n",
       "2                              0.076 g                 0.00 mg   0.0 g   \n",
       "\n",
       "               ash caffeine theobromine    water  \n",
       "Unnamed: 0                                        \n",
       "0           0.09 g  0.00 mg     0.00 mg   8.32 g  \n",
       "1           1.49 g  0.00 mg     0.00 mg   3.52 g  \n",
       "2           0.66 g  0.00 mg     0.00 mg  92.30 g  \n",
       "\n",
       "[3 rows x 76 columns]"
      ]
     },
     "execution_count": 55,
     "metadata": {},
     "output_type": "execute_result"
    }
   ],
   "source": [
    "nut.set_index('Unnamed: 0').head(3)"
   ]
  },
  {
   "cell_type": "code",
   "execution_count": 56,
   "id": "df3d1ef7",
   "metadata": {
    "scrolled": true
   },
   "outputs": [
    {
     "data": {
      "text/html": [
       "<div>\n",
       "<style scoped>\n",
       "    .dataframe tbody tr th:only-of-type {\n",
       "        vertical-align: middle;\n",
       "    }\n",
       "\n",
       "    .dataframe tbody tr th {\n",
       "        vertical-align: top;\n",
       "    }\n",
       "\n",
       "    .dataframe thead th {\n",
       "        text-align: right;\n",
       "    }\n",
       "</style>\n",
       "<table border=\"1\" class=\"dataframe\">\n",
       "  <thead>\n",
       "    <tr style=\"text-align: right;\">\n",
       "      <th></th>\n",
       "      <th>name</th>\n",
       "      <th>serving_size</th>\n",
       "      <th>calories</th>\n",
       "      <th>total_fat</th>\n",
       "      <th>saturated_fat</th>\n",
       "      <th>cholesterol</th>\n",
       "      <th>sodium</th>\n",
       "      <th>choline</th>\n",
       "      <th>folate</th>\n",
       "      <th>folic_acid</th>\n",
       "      <th>...</th>\n",
       "      <th>fat</th>\n",
       "      <th>saturated_fatty_acids</th>\n",
       "      <th>monounsaturated_fatty_acids</th>\n",
       "      <th>polyunsaturated_fatty_acids</th>\n",
       "      <th>fatty_acids_total_trans</th>\n",
       "      <th>alcohol</th>\n",
       "      <th>ash</th>\n",
       "      <th>caffeine</th>\n",
       "      <th>theobromine</th>\n",
       "      <th>water</th>\n",
       "    </tr>\n",
       "  </thead>\n",
       "  <tbody>\n",
       "    <tr>\n",
       "      <th>0</th>\n",
       "      <td>Cornstarch</td>\n",
       "      <td>100 g</td>\n",
       "      <td>381</td>\n",
       "      <td>0.1g</td>\n",
       "      <td>NaN</td>\n",
       "      <td>0</td>\n",
       "      <td>9.00 mg</td>\n",
       "      <td>0.4 mg</td>\n",
       "      <td>0.00 mcg</td>\n",
       "      <td>0.00 mcg</td>\n",
       "      <td>...</td>\n",
       "      <td>0.05 g</td>\n",
       "      <td>0.009 g</td>\n",
       "      <td>0.016 g</td>\n",
       "      <td>0.025 g</td>\n",
       "      <td>0.00 mg</td>\n",
       "      <td>0.0 g</td>\n",
       "      <td>0.09 g</td>\n",
       "      <td>0.00 mg</td>\n",
       "      <td>0.00 mg</td>\n",
       "      <td>8.32 g</td>\n",
       "    </tr>\n",
       "    <tr>\n",
       "      <th>1</th>\n",
       "      <td>Nuts, pecans</td>\n",
       "      <td>100 g</td>\n",
       "      <td>691</td>\n",
       "      <td>72g</td>\n",
       "      <td>6.2g</td>\n",
       "      <td>0</td>\n",
       "      <td>0.00 mg</td>\n",
       "      <td>40.5 mg</td>\n",
       "      <td>22.00 mcg</td>\n",
       "      <td>0.00 mcg</td>\n",
       "      <td>...</td>\n",
       "      <td>71.97 g</td>\n",
       "      <td>6.180 g</td>\n",
       "      <td>40.801 g</td>\n",
       "      <td>21.614 g</td>\n",
       "      <td>0.00 mg</td>\n",
       "      <td>0.0 g</td>\n",
       "      <td>1.49 g</td>\n",
       "      <td>0.00 mg</td>\n",
       "      <td>0.00 mg</td>\n",
       "      <td>3.52 g</td>\n",
       "    </tr>\n",
       "    <tr>\n",
       "      <th>2</th>\n",
       "      <td>Eggplant, raw</td>\n",
       "      <td>100 g</td>\n",
       "      <td>25</td>\n",
       "      <td>0.2g</td>\n",
       "      <td>NaN</td>\n",
       "      <td>0</td>\n",
       "      <td>2.00 mg</td>\n",
       "      <td>6.9 mg</td>\n",
       "      <td>22.00 mcg</td>\n",
       "      <td>0.00 mcg</td>\n",
       "      <td>...</td>\n",
       "      <td>0.18 g</td>\n",
       "      <td>0.034 g</td>\n",
       "      <td>0.016 g</td>\n",
       "      <td>0.076 g</td>\n",
       "      <td>0.00 mg</td>\n",
       "      <td>0.0 g</td>\n",
       "      <td>0.66 g</td>\n",
       "      <td>0.00 mg</td>\n",
       "      <td>0.00 mg</td>\n",
       "      <td>92.30 g</td>\n",
       "    </tr>\n",
       "  </tbody>\n",
       "</table>\n",
       "<p>3 rows × 76 columns</p>\n",
       "</div>"
      ],
      "text/plain": [
       "            name serving_size  calories total_fat saturated_fat cholesterol  \\\n",
       "0     Cornstarch        100 g       381      0.1g           NaN           0   \n",
       "1   Nuts, pecans        100 g       691       72g          6.2g           0   \n",
       "2  Eggplant, raw        100 g        25      0.2g           NaN           0   \n",
       "\n",
       "    sodium  choline     folate folic_acid  ...      fat saturated_fatty_acids  \\\n",
       "0  9.00 mg   0.4 mg   0.00 mcg   0.00 mcg  ...   0.05 g               0.009 g   \n",
       "1  0.00 mg  40.5 mg  22.00 mcg   0.00 mcg  ...  71.97 g               6.180 g   \n",
       "2  2.00 mg   6.9 mg  22.00 mcg   0.00 mcg  ...   0.18 g               0.034 g   \n",
       "\n",
       "  monounsaturated_fatty_acids polyunsaturated_fatty_acids  \\\n",
       "0                     0.016 g                     0.025 g   \n",
       "1                    40.801 g                    21.614 g   \n",
       "2                     0.016 g                     0.076 g   \n",
       "\n",
       "  fatty_acids_total_trans alcohol     ash caffeine theobromine    water  \n",
       "0                 0.00 mg   0.0 g  0.09 g  0.00 mg     0.00 mg   8.32 g  \n",
       "1                 0.00 mg   0.0 g  1.49 g  0.00 mg     0.00 mg   3.52 g  \n",
       "2                 0.00 mg   0.0 g  0.66 g  0.00 mg     0.00 mg  92.30 g  \n",
       "\n",
       "[3 rows x 76 columns]"
      ]
     },
     "execution_count": 56,
     "metadata": {},
     "output_type": "execute_result"
    }
   ],
   "source": [
    "nut.drop('Unnamed: 0',axis=1).head(3)"
   ]
  },
  {
   "cell_type": "code",
   "execution_count": 57,
   "id": "d6f94898",
   "metadata": {},
   "outputs": [],
   "source": [
    "# it is good\n",
    "nut=pd.read_csv(dataurl,index_col=[0])"
   ]
  },
  {
   "cell_type": "code",
   "execution_count": 58,
   "id": "3ce874a6",
   "metadata": {},
   "outputs": [
    {
     "data": {
      "text/html": [
       "<div>\n",
       "<style scoped>\n",
       "    .dataframe tbody tr th:only-of-type {\n",
       "        vertical-align: middle;\n",
       "    }\n",
       "\n",
       "    .dataframe tbody tr th {\n",
       "        vertical-align: top;\n",
       "    }\n",
       "\n",
       "    .dataframe thead th {\n",
       "        text-align: right;\n",
       "    }\n",
       "</style>\n",
       "<table border=\"1\" class=\"dataframe\">\n",
       "  <thead>\n",
       "    <tr style=\"text-align: right;\">\n",
       "      <th></th>\n",
       "      <th>name</th>\n",
       "      <th>serving_size</th>\n",
       "      <th>calories</th>\n",
       "      <th>total_fat</th>\n",
       "      <th>saturated_fat</th>\n",
       "      <th>cholesterol</th>\n",
       "      <th>sodium</th>\n",
       "      <th>choline</th>\n",
       "      <th>folate</th>\n",
       "      <th>folic_acid</th>\n",
       "      <th>...</th>\n",
       "      <th>fat</th>\n",
       "      <th>saturated_fatty_acids</th>\n",
       "      <th>monounsaturated_fatty_acids</th>\n",
       "      <th>polyunsaturated_fatty_acids</th>\n",
       "      <th>fatty_acids_total_trans</th>\n",
       "      <th>alcohol</th>\n",
       "      <th>ash</th>\n",
       "      <th>caffeine</th>\n",
       "      <th>theobromine</th>\n",
       "      <th>water</th>\n",
       "    </tr>\n",
       "  </thead>\n",
       "  <tbody>\n",
       "    <tr>\n",
       "      <th>0</th>\n",
       "      <td>Cornstarch</td>\n",
       "      <td>100 g</td>\n",
       "      <td>381</td>\n",
       "      <td>0.1g</td>\n",
       "      <td>NaN</td>\n",
       "      <td>0</td>\n",
       "      <td>9.00 mg</td>\n",
       "      <td>0.4 mg</td>\n",
       "      <td>0.00 mcg</td>\n",
       "      <td>0.00 mcg</td>\n",
       "      <td>...</td>\n",
       "      <td>0.05 g</td>\n",
       "      <td>0.009 g</td>\n",
       "      <td>0.016 g</td>\n",
       "      <td>0.025 g</td>\n",
       "      <td>0.00 mg</td>\n",
       "      <td>0.0 g</td>\n",
       "      <td>0.09 g</td>\n",
       "      <td>0.00 mg</td>\n",
       "      <td>0.00 mg</td>\n",
       "      <td>8.32 g</td>\n",
       "    </tr>\n",
       "    <tr>\n",
       "      <th>1</th>\n",
       "      <td>Nuts, pecans</td>\n",
       "      <td>100 g</td>\n",
       "      <td>691</td>\n",
       "      <td>72g</td>\n",
       "      <td>6.2g</td>\n",
       "      <td>0</td>\n",
       "      <td>0.00 mg</td>\n",
       "      <td>40.5 mg</td>\n",
       "      <td>22.00 mcg</td>\n",
       "      <td>0.00 mcg</td>\n",
       "      <td>...</td>\n",
       "      <td>71.97 g</td>\n",
       "      <td>6.180 g</td>\n",
       "      <td>40.801 g</td>\n",
       "      <td>21.614 g</td>\n",
       "      <td>0.00 mg</td>\n",
       "      <td>0.0 g</td>\n",
       "      <td>1.49 g</td>\n",
       "      <td>0.00 mg</td>\n",
       "      <td>0.00 mg</td>\n",
       "      <td>3.52 g</td>\n",
       "    </tr>\n",
       "    <tr>\n",
       "      <th>2</th>\n",
       "      <td>Eggplant, raw</td>\n",
       "      <td>100 g</td>\n",
       "      <td>25</td>\n",
       "      <td>0.2g</td>\n",
       "      <td>NaN</td>\n",
       "      <td>0</td>\n",
       "      <td>2.00 mg</td>\n",
       "      <td>6.9 mg</td>\n",
       "      <td>22.00 mcg</td>\n",
       "      <td>0.00 mcg</td>\n",
       "      <td>...</td>\n",
       "      <td>0.18 g</td>\n",
       "      <td>0.034 g</td>\n",
       "      <td>0.016 g</td>\n",
       "      <td>0.076 g</td>\n",
       "      <td>0.00 mg</td>\n",
       "      <td>0.0 g</td>\n",
       "      <td>0.66 g</td>\n",
       "      <td>0.00 mg</td>\n",
       "      <td>0.00 mg</td>\n",
       "      <td>92.30 g</td>\n",
       "    </tr>\n",
       "  </tbody>\n",
       "</table>\n",
       "<p>3 rows × 76 columns</p>\n",
       "</div>"
      ],
      "text/plain": [
       "            name serving_size  calories total_fat saturated_fat cholesterol  \\\n",
       "0     Cornstarch        100 g       381      0.1g           NaN           0   \n",
       "1   Nuts, pecans        100 g       691       72g          6.2g           0   \n",
       "2  Eggplant, raw        100 g        25      0.2g           NaN           0   \n",
       "\n",
       "    sodium  choline     folate folic_acid  ...      fat saturated_fatty_acids  \\\n",
       "0  9.00 mg   0.4 mg   0.00 mcg   0.00 mcg  ...   0.05 g               0.009 g   \n",
       "1  0.00 mg  40.5 mg  22.00 mcg   0.00 mcg  ...  71.97 g               6.180 g   \n",
       "2  2.00 mg   6.9 mg  22.00 mcg   0.00 mcg  ...   0.18 g               0.034 g   \n",
       "\n",
       "  monounsaturated_fatty_acids polyunsaturated_fatty_acids  \\\n",
       "0                     0.016 g                     0.025 g   \n",
       "1                    40.801 g                    21.614 g   \n",
       "2                     0.016 g                     0.076 g   \n",
       "\n",
       "  fatty_acids_total_trans alcohol     ash caffeine theobromine    water  \n",
       "0                 0.00 mg   0.0 g  0.09 g  0.00 mg     0.00 mg   8.32 g  \n",
       "1                 0.00 mg   0.0 g  1.49 g  0.00 mg     0.00 mg   3.52 g  \n",
       "2                 0.00 mg   0.0 g  0.66 g  0.00 mg     0.00 mg  92.30 g  \n",
       "\n",
       "[3 rows x 76 columns]"
      ]
     },
     "execution_count": 58,
     "metadata": {},
     "output_type": "execute_result"
    }
   ],
   "source": [
    "nut.head(3)"
   ]
  },
  {
   "cell_type": "markdown",
   "id": "c266ce84",
   "metadata": {},
   "source": [
    "## The sample() Method"
   ]
  },
  {
   "cell_type": "code",
   "execution_count": 59,
   "id": "d6a6854a",
   "metadata": {},
   "outputs": [
    {
     "data": {
      "text/html": [
       "<div>\n",
       "<style scoped>\n",
       "    .dataframe tbody tr th:only-of-type {\n",
       "        vertical-align: middle;\n",
       "    }\n",
       "\n",
       "    .dataframe tbody tr th {\n",
       "        vertical-align: top;\n",
       "    }\n",
       "\n",
       "    .dataframe thead th {\n",
       "        text-align: right;\n",
       "    }\n",
       "</style>\n",
       "<table border=\"1\" class=\"dataframe\">\n",
       "  <thead>\n",
       "    <tr style=\"text-align: right;\">\n",
       "      <th></th>\n",
       "      <th>name</th>\n",
       "      <th>serving_size</th>\n",
       "      <th>calories</th>\n",
       "      <th>total_fat</th>\n",
       "      <th>saturated_fat</th>\n",
       "      <th>cholesterol</th>\n",
       "      <th>sodium</th>\n",
       "      <th>choline</th>\n",
       "      <th>folate</th>\n",
       "      <th>folic_acid</th>\n",
       "      <th>...</th>\n",
       "      <th>fat</th>\n",
       "      <th>saturated_fatty_acids</th>\n",
       "      <th>monounsaturated_fatty_acids</th>\n",
       "      <th>polyunsaturated_fatty_acids</th>\n",
       "      <th>fatty_acids_total_trans</th>\n",
       "      <th>alcohol</th>\n",
       "      <th>ash</th>\n",
       "      <th>caffeine</th>\n",
       "      <th>theobromine</th>\n",
       "      <th>water</th>\n",
       "    </tr>\n",
       "  </thead>\n",
       "  <tbody>\n",
       "    <tr>\n",
       "      <th>7822</th>\n",
       "      <td>Lamb, raw, trimmed to 1/8\" fat, separable lean...</td>\n",
       "      <td>100 g</td>\n",
       "      <td>273</td>\n",
       "      <td>22g</td>\n",
       "      <td>11g</td>\n",
       "      <td>82mg</td>\n",
       "      <td>39.00 mg</td>\n",
       "      <td>0</td>\n",
       "      <td>1.00 mcg</td>\n",
       "      <td>0.00 mcg</td>\n",
       "      <td>...</td>\n",
       "      <td>22.10 g</td>\n",
       "      <td>11.230 g</td>\n",
       "      <td>8.470 g</td>\n",
       "      <td>0.950 g</td>\n",
       "      <td>82.00 mg</td>\n",
       "      <td>0</td>\n",
       "      <td>0.92 g</td>\n",
       "      <td>0</td>\n",
       "      <td>0</td>\n",
       "      <td>59.95 g</td>\n",
       "    </tr>\n",
       "  </tbody>\n",
       "</table>\n",
       "<p>1 rows × 76 columns</p>\n",
       "</div>"
      ],
      "text/plain": [
       "                                                   name serving_size  \\\n",
       "7822  Lamb, raw, trimmed to 1/8\" fat, separable lean...        100 g   \n",
       "\n",
       "      calories total_fat saturated_fat cholesterol    sodium choline  \\\n",
       "7822       273       22g           11g        82mg  39.00 mg       0   \n",
       "\n",
       "        folate folic_acid  ...      fat saturated_fatty_acids  \\\n",
       "7822  1.00 mcg   0.00 mcg  ...  22.10 g              11.230 g   \n",
       "\n",
       "     monounsaturated_fatty_acids polyunsaturated_fatty_acids  \\\n",
       "7822                     8.470 g                     0.950 g   \n",
       "\n",
       "     fatty_acids_total_trans alcohol     ash caffeine theobromine    water  \n",
       "7822                82.00 mg       0  0.92 g        0           0  59.95 g  \n",
       "\n",
       "[1 rows x 76 columns]"
      ]
     },
     "execution_count": 59,
     "metadata": {},
     "output_type": "execute_result"
    }
   ],
   "source": [
    "# Ramdomly Coming\n",
    "nut.sample()"
   ]
  },
  {
   "cell_type": "code",
   "execution_count": 60,
   "id": "aba43ea9",
   "metadata": {},
   "outputs": [
    {
     "data": {
      "text/html": [
       "<div>\n",
       "<style scoped>\n",
       "    .dataframe tbody tr th:only-of-type {\n",
       "        vertical-align: middle;\n",
       "    }\n",
       "\n",
       "    .dataframe tbody tr th {\n",
       "        vertical-align: top;\n",
       "    }\n",
       "\n",
       "    .dataframe thead th {\n",
       "        text-align: right;\n",
       "    }\n",
       "</style>\n",
       "<table border=\"1\" class=\"dataframe\">\n",
       "  <thead>\n",
       "    <tr style=\"text-align: right;\">\n",
       "      <th></th>\n",
       "      <th>name</th>\n",
       "      <th>serving_size</th>\n",
       "      <th>calories</th>\n",
       "      <th>total_fat</th>\n",
       "      <th>saturated_fat</th>\n",
       "      <th>cholesterol</th>\n",
       "      <th>sodium</th>\n",
       "      <th>choline</th>\n",
       "      <th>folate</th>\n",
       "      <th>folic_acid</th>\n",
       "      <th>...</th>\n",
       "      <th>fat</th>\n",
       "      <th>saturated_fatty_acids</th>\n",
       "      <th>monounsaturated_fatty_acids</th>\n",
       "      <th>polyunsaturated_fatty_acids</th>\n",
       "      <th>fatty_acids_total_trans</th>\n",
       "      <th>alcohol</th>\n",
       "      <th>ash</th>\n",
       "      <th>caffeine</th>\n",
       "      <th>theobromine</th>\n",
       "      <th>water</th>\n",
       "    </tr>\n",
       "  </thead>\n",
       "  <tbody>\n",
       "    <tr>\n",
       "      <th>8785</th>\n",
       "      <td>Lamb, cooked, separable lean only, composite o...</td>\n",
       "      <td>100 g</td>\n",
       "      <td>206</td>\n",
       "      <td>8.9g</td>\n",
       "      <td>3.9g</td>\n",
       "      <td>109mg</td>\n",
       "      <td>50.00 mg</td>\n",
       "      <td>0</td>\n",
       "      <td>0.00 mcg</td>\n",
       "      <td>0.00 mcg</td>\n",
       "      <td>...</td>\n",
       "      <td>8.86 g</td>\n",
       "      <td>3.860 g</td>\n",
       "      <td>3.480 g</td>\n",
       "      <td>0.520 g</td>\n",
       "      <td>109.00 mg</td>\n",
       "      <td>0</td>\n",
       "      <td>1.60 g</td>\n",
       "      <td>0</td>\n",
       "      <td>0</td>\n",
       "      <td>59.95 g</td>\n",
       "    </tr>\n",
       "  </tbody>\n",
       "</table>\n",
       "<p>1 rows × 76 columns</p>\n",
       "</div>"
      ],
      "text/plain": [
       "                                                   name serving_size  \\\n",
       "8785  Lamb, cooked, separable lean only, composite o...        100 g   \n",
       "\n",
       "      calories total_fat saturated_fat cholesterol    sodium choline  \\\n",
       "8785       206      8.9g          3.9g       109mg  50.00 mg       0   \n",
       "\n",
       "        folate folic_acid  ...     fat saturated_fatty_acids  \\\n",
       "8785  0.00 mcg   0.00 mcg  ...  8.86 g               3.860 g   \n",
       "\n",
       "     monounsaturated_fatty_acids polyunsaturated_fatty_acids  \\\n",
       "8785                     3.480 g                     0.520 g   \n",
       "\n",
       "     fatty_acids_total_trans alcohol     ash caffeine theobromine    water  \n",
       "8785               109.00 mg       0  1.60 g        0           0  59.95 g  \n",
       "\n",
       "[1 rows x 76 columns]"
      ]
     },
     "execution_count": 60,
     "metadata": {},
     "output_type": "execute_result"
    }
   ],
   "source": [
    "# If you set random_sate it do not change when you refresh\n",
    "nut.sample(random_state=1)"
   ]
  },
  {
   "cell_type": "code",
   "execution_count": 61,
   "id": "ea04d4d8",
   "metadata": {},
   "outputs": [
    {
     "data": {
      "text/html": [
       "<div>\n",
       "<style scoped>\n",
       "    .dataframe tbody tr th:only-of-type {\n",
       "        vertical-align: middle;\n",
       "    }\n",
       "\n",
       "    .dataframe tbody tr th {\n",
       "        vertical-align: top;\n",
       "    }\n",
       "\n",
       "    .dataframe thead th {\n",
       "        text-align: right;\n",
       "    }\n",
       "</style>\n",
       "<table border=\"1\" class=\"dataframe\">\n",
       "  <thead>\n",
       "    <tr style=\"text-align: right;\">\n",
       "      <th></th>\n",
       "      <th>name</th>\n",
       "      <th>serving_size</th>\n",
       "      <th>calories</th>\n",
       "      <th>total_fat</th>\n",
       "      <th>saturated_fat</th>\n",
       "      <th>cholesterol</th>\n",
       "      <th>sodium</th>\n",
       "      <th>choline</th>\n",
       "      <th>folate</th>\n",
       "      <th>folic_acid</th>\n",
       "      <th>...</th>\n",
       "      <th>fat</th>\n",
       "      <th>saturated_fatty_acids</th>\n",
       "      <th>monounsaturated_fatty_acids</th>\n",
       "      <th>polyunsaturated_fatty_acids</th>\n",
       "      <th>fatty_acids_total_trans</th>\n",
       "      <th>alcohol</th>\n",
       "      <th>ash</th>\n",
       "      <th>caffeine</th>\n",
       "      <th>theobromine</th>\n",
       "      <th>water</th>\n",
       "    </tr>\n",
       "  </thead>\n",
       "  <tbody>\n",
       "    <tr>\n",
       "      <th>8785</th>\n",
       "      <td>Lamb, cooked, separable lean only, composite o...</td>\n",
       "      <td>100 g</td>\n",
       "      <td>206</td>\n",
       "      <td>8.9g</td>\n",
       "      <td>3.9g</td>\n",
       "      <td>109mg</td>\n",
       "      <td>50.00 mg</td>\n",
       "      <td>0</td>\n",
       "      <td>0.00 mcg</td>\n",
       "      <td>0.00 mcg</td>\n",
       "      <td>...</td>\n",
       "      <td>8.86 g</td>\n",
       "      <td>3.860 g</td>\n",
       "      <td>3.480 g</td>\n",
       "      <td>0.520 g</td>\n",
       "      <td>109.00 mg</td>\n",
       "      <td>0</td>\n",
       "      <td>1.60 g</td>\n",
       "      <td>0</td>\n",
       "      <td>0</td>\n",
       "      <td>59.95 g</td>\n",
       "    </tr>\n",
       "    <tr>\n",
       "      <th>8483</th>\n",
       "      <td>Beef, grilled, cooked, choice, trimmed to 1/8\"...</td>\n",
       "      <td>100 g</td>\n",
       "      <td>313</td>\n",
       "      <td>25g</td>\n",
       "      <td>11g</td>\n",
       "      <td>83mg</td>\n",
       "      <td>60.00 mg</td>\n",
       "      <td>48.6 mg</td>\n",
       "      <td>6.00 mcg</td>\n",
       "      <td>0.00 mcg</td>\n",
       "      <td>...</td>\n",
       "      <td>24.70 g</td>\n",
       "      <td>10.566 g</td>\n",
       "      <td>11.620 g</td>\n",
       "      <td>1.103 g</td>\n",
       "      <td>83.00 mg</td>\n",
       "      <td>0.0 g</td>\n",
       "      <td>0.90 g</td>\n",
       "      <td>0.00 mg</td>\n",
       "      <td>0.00 mg</td>\n",
       "      <td>52.36 g</td>\n",
       "    </tr>\n",
       "    <tr>\n",
       "      <th>6955</th>\n",
       "      <td>Beverages, all with morro seeds, variety of br...</td>\n",
       "      <td>100 g</td>\n",
       "      <td>413</td>\n",
       "      <td>7.5g</td>\n",
       "      <td>2.1g</td>\n",
       "      <td>0</td>\n",
       "      <td>3.00 mg</td>\n",
       "      <td>11.6 mg</td>\n",
       "      <td>12.00 mcg</td>\n",
       "      <td>0.00 mcg</td>\n",
       "      <td>...</td>\n",
       "      <td>7.46 g</td>\n",
       "      <td>2.086 g</td>\n",
       "      <td>3.174 g</td>\n",
       "      <td>2.069 g</td>\n",
       "      <td>0.00 mg</td>\n",
       "      <td>0.0 g</td>\n",
       "      <td>1.10 g</td>\n",
       "      <td>0.00 mg</td>\n",
       "      <td>0.00 mg</td>\n",
       "      <td>4.89 g</td>\n",
       "    </tr>\n",
       "  </tbody>\n",
       "</table>\n",
       "<p>3 rows × 76 columns</p>\n",
       "</div>"
      ],
      "text/plain": [
       "                                                   name serving_size  \\\n",
       "8785  Lamb, cooked, separable lean only, composite o...        100 g   \n",
       "8483  Beef, grilled, cooked, choice, trimmed to 1/8\"...        100 g   \n",
       "6955  Beverages, all with morro seeds, variety of br...        100 g   \n",
       "\n",
       "      calories total_fat saturated_fat cholesterol    sodium  choline  \\\n",
       "8785       206      8.9g          3.9g       109mg  50.00 mg        0   \n",
       "8483       313       25g           11g        83mg  60.00 mg  48.6 mg   \n",
       "6955       413      7.5g          2.1g           0   3.00 mg  11.6 mg   \n",
       "\n",
       "         folate folic_acid  ...      fat saturated_fatty_acids  \\\n",
       "8785   0.00 mcg   0.00 mcg  ...   8.86 g               3.860 g   \n",
       "8483   6.00 mcg   0.00 mcg  ...  24.70 g              10.566 g   \n",
       "6955  12.00 mcg   0.00 mcg  ...   7.46 g               2.086 g   \n",
       "\n",
       "     monounsaturated_fatty_acids polyunsaturated_fatty_acids  \\\n",
       "8785                     3.480 g                     0.520 g   \n",
       "8483                    11.620 g                     1.103 g   \n",
       "6955                     3.174 g                     2.069 g   \n",
       "\n",
       "     fatty_acids_total_trans alcohol     ash caffeine theobromine    water  \n",
       "8785               109.00 mg       0  1.60 g        0           0  59.95 g  \n",
       "8483                83.00 mg   0.0 g  0.90 g  0.00 mg     0.00 mg  52.36 g  \n",
       "6955                 0.00 mg   0.0 g  1.10 g  0.00 mg     0.00 mg   4.89 g  \n",
       "\n",
       "[3 rows x 76 columns]"
      ]
     },
     "execution_count": 61,
     "metadata": {},
     "output_type": "execute_result"
    }
   ],
   "source": [
    "nut.sample(n=3,random_state=1)# randomly coming data with 3 rows"
   ]
  },
  {
   "cell_type": "code",
   "execution_count": 62,
   "id": "1fffed8d",
   "metadata": {},
   "outputs": [
    {
     "data": {
      "text/html": [
       "<div>\n",
       "<style scoped>\n",
       "    .dataframe tbody tr th:only-of-type {\n",
       "        vertical-align: middle;\n",
       "    }\n",
       "\n",
       "    .dataframe tbody tr th {\n",
       "        vertical-align: top;\n",
       "    }\n",
       "\n",
       "    .dataframe thead th {\n",
       "        text-align: right;\n",
       "    }\n",
       "</style>\n",
       "<table border=\"1\" class=\"dataframe\">\n",
       "  <thead>\n",
       "    <tr style=\"text-align: right;\">\n",
       "      <th></th>\n",
       "      <th>name</th>\n",
       "      <th>serving_size</th>\n",
       "      <th>calories</th>\n",
       "      <th>total_fat</th>\n",
       "      <th>saturated_fat</th>\n",
       "      <th>cholesterol</th>\n",
       "      <th>sodium</th>\n",
       "      <th>choline</th>\n",
       "      <th>folate</th>\n",
       "      <th>folic_acid</th>\n",
       "      <th>...</th>\n",
       "      <th>fat</th>\n",
       "      <th>saturated_fatty_acids</th>\n",
       "      <th>monounsaturated_fatty_acids</th>\n",
       "      <th>polyunsaturated_fatty_acids</th>\n",
       "      <th>fatty_acids_total_trans</th>\n",
       "      <th>alcohol</th>\n",
       "      <th>ash</th>\n",
       "      <th>caffeine</th>\n",
       "      <th>theobromine</th>\n",
       "      <th>water</th>\n",
       "    </tr>\n",
       "  </thead>\n",
       "  <tbody>\n",
       "    <tr>\n",
       "      <th>173</th>\n",
       "      <td>Chicken, raw, ground</td>\n",
       "      <td>100 g</td>\n",
       "      <td>143</td>\n",
       "      <td>8.1g</td>\n",
       "      <td>2.3g</td>\n",
       "      <td>86mg</td>\n",
       "      <td>60.00 mg</td>\n",
       "      <td>58.8 mg</td>\n",
       "      <td>1.00 mcg</td>\n",
       "      <td>0.00 mcg</td>\n",
       "      <td>...</td>\n",
       "      <td>8.10 g</td>\n",
       "      <td>2.301 g</td>\n",
       "      <td>3.611 g</td>\n",
       "      <td>1.508 g</td>\n",
       "      <td>86.00 mg</td>\n",
       "      <td>0.0 g</td>\n",
       "      <td>1.17 g</td>\n",
       "      <td>0.00 mg</td>\n",
       "      <td>0.00 mg</td>\n",
       "      <td>73.24 g</td>\n",
       "    </tr>\n",
       "    <tr>\n",
       "      <th>4184</th>\n",
       "      <td>Cereals ready-to-eat, KELLOGG'S FROOT LOOPS, K...</td>\n",
       "      <td>100 g</td>\n",
       "      <td>375</td>\n",
       "      <td>3.4g</td>\n",
       "      <td>1.8g</td>\n",
       "      <td>0</td>\n",
       "      <td>469.00 mg</td>\n",
       "      <td>10.5 mg</td>\n",
       "      <td>345.00 mcg</td>\n",
       "      <td>326.00 mcg</td>\n",
       "      <td>...</td>\n",
       "      <td>3.40 g</td>\n",
       "      <td>1.800 g</td>\n",
       "      <td>0.600 g</td>\n",
       "      <td>0.900 g</td>\n",
       "      <td>0.00 mg</td>\n",
       "      <td>0.0 g</td>\n",
       "      <td>1.45 g</td>\n",
       "      <td>0.00 mg</td>\n",
       "      <td>0.00 mg</td>\n",
       "      <td>2.50 g</td>\n",
       "    </tr>\n",
       "    <tr>\n",
       "      <th>2320</th>\n",
       "      <td>Beverages, Mixed Berry, Zero, POWERADE</td>\n",
       "      <td>100 g</td>\n",
       "      <td>0</td>\n",
       "      <td>0g</td>\n",
       "      <td>NaN</td>\n",
       "      <td>0</td>\n",
       "      <td>42.00 mg</td>\n",
       "      <td>0.0 mg</td>\n",
       "      <td>0.00 mcg</td>\n",
       "      <td>0.00 mcg</td>\n",
       "      <td>...</td>\n",
       "      <td>0.00 g</td>\n",
       "      <td>0.000 g</td>\n",
       "      <td>0.000 g</td>\n",
       "      <td>0.000 g</td>\n",
       "      <td>0.00 mg</td>\n",
       "      <td>0.0 g</td>\n",
       "      <td>0.51 g</td>\n",
       "      <td>0.00 mg</td>\n",
       "      <td>0.00 mg</td>\n",
       "      <td>99.35 g</td>\n",
       "    </tr>\n",
       "    <tr>\n",
       "      <th>3687</th>\n",
       "      <td>Beverages, Fruit Medley, V8 SPLASH Juice Drinks</td>\n",
       "      <td>100 g</td>\n",
       "      <td>33</td>\n",
       "      <td>0g</td>\n",
       "      <td>NaN</td>\n",
       "      <td>0</td>\n",
       "      <td>21.00 mg</td>\n",
       "      <td>0</td>\n",
       "      <td>0</td>\n",
       "      <td>0</td>\n",
       "      <td>...</td>\n",
       "      <td>0.00 g</td>\n",
       "      <td>0</td>\n",
       "      <td>0</td>\n",
       "      <td>0</td>\n",
       "      <td>0</td>\n",
       "      <td>0</td>\n",
       "      <td>0.38 g</td>\n",
       "      <td>0</td>\n",
       "      <td>0</td>\n",
       "      <td>91.80 g</td>\n",
       "    </tr>\n",
       "    <tr>\n",
       "      <th>6596</th>\n",
       "      <td>Chicken, raw, with added solution, meat only, ...</td>\n",
       "      <td>100 g</td>\n",
       "      <td>106</td>\n",
       "      <td>3.3g</td>\n",
       "      <td>1g</td>\n",
       "      <td>92mg</td>\n",
       "      <td>152.00 mg</td>\n",
       "      <td>75.3 mg</td>\n",
       "      <td>3.00 mcg</td>\n",
       "      <td>0.00 mcg</td>\n",
       "      <td>...</td>\n",
       "      <td>3.26 g</td>\n",
       "      <td>0.954 g</td>\n",
       "      <td>1.290 g</td>\n",
       "      <td>0.802 g</td>\n",
       "      <td>92.00 mg</td>\n",
       "      <td>0.0 g</td>\n",
       "      <td>0.99 g</td>\n",
       "      <td>0.00 mg</td>\n",
       "      <td>0.00 mg</td>\n",
       "      <td>77.71 g</td>\n",
       "    </tr>\n",
       "    <tr>\n",
       "      <th>7251</th>\n",
       "      <td>Pork, raw, separable lean and fat, boneless, t...</td>\n",
       "      <td>100 g</td>\n",
       "      <td>166</td>\n",
       "      <td>8.3g</td>\n",
       "      <td>1.6g</td>\n",
       "      <td>64mg</td>\n",
       "      <td>47.00 mg</td>\n",
       "      <td>57.3 mg</td>\n",
       "      <td>0.00 mcg</td>\n",
       "      <td>0.00 mcg</td>\n",
       "      <td>...</td>\n",
       "      <td>8.33 g</td>\n",
       "      <td>1.598 g</td>\n",
       "      <td>1.861 g</td>\n",
       "      <td>0.651 g</td>\n",
       "      <td>64.00 mg</td>\n",
       "      <td>0.0 g</td>\n",
       "      <td>0.97 g</td>\n",
       "      <td>0.00 mg</td>\n",
       "      <td>0.00 mg</td>\n",
       "      <td>70.14 g</td>\n",
       "    </tr>\n",
       "    <tr>\n",
       "      <th>3400</th>\n",
       "      <td>Babyfood, strained, creamed, corn, vegetables</td>\n",
       "      <td>100 g</td>\n",
       "      <td>57</td>\n",
       "      <td>0.4g</td>\n",
       "      <td>0.1g</td>\n",
       "      <td>1mg</td>\n",
       "      <td>43.00 mg</td>\n",
       "      <td>8.6 mg</td>\n",
       "      <td>17.00 mcg</td>\n",
       "      <td>0.00 mcg</td>\n",
       "      <td>...</td>\n",
       "      <td>0.40 g</td>\n",
       "      <td>0.076 g</td>\n",
       "      <td>0.116 g</td>\n",
       "      <td>0.176 g</td>\n",
       "      <td>1.00 mg</td>\n",
       "      <td>0.0 g</td>\n",
       "      <td>0.50 g</td>\n",
       "      <td>0.00 mg</td>\n",
       "      <td>0.00 mg</td>\n",
       "      <td>83.60 g</td>\n",
       "    </tr>\n",
       "    <tr>\n",
       "      <th>4763</th>\n",
       "      <td>Oil, (over 70%), linoleic, salad or cooking, s...</td>\n",
       "      <td>100 g</td>\n",
       "      <td>884</td>\n",
       "      <td>100g</td>\n",
       "      <td>6.2g</td>\n",
       "      <td>0</td>\n",
       "      <td>0.00 mg</td>\n",
       "      <td>0</td>\n",
       "      <td>0.00 mcg</td>\n",
       "      <td>0.00 mcg</td>\n",
       "      <td>...</td>\n",
       "      <td>100.00 g</td>\n",
       "      <td>6.203 g</td>\n",
       "      <td>14.355 g</td>\n",
       "      <td>74.623 g</td>\n",
       "      <td>0.00 mg</td>\n",
       "      <td>0.0 g</td>\n",
       "      <td>0.00 g</td>\n",
       "      <td>0.00 mg</td>\n",
       "      <td>0.00 mg</td>\n",
       "      <td>0.00 g</td>\n",
       "    </tr>\n",
       "    <tr>\n",
       "      <th>4833</th>\n",
       "      <td>Yardlong beans, without salt, boiled, cooked, ...</td>\n",
       "      <td>100 g</td>\n",
       "      <td>118</td>\n",
       "      <td>0.5g</td>\n",
       "      <td>0.1g</td>\n",
       "      <td>0</td>\n",
       "      <td>5.00 mg</td>\n",
       "      <td>0</td>\n",
       "      <td>146.00 mcg</td>\n",
       "      <td>0.00 mcg</td>\n",
       "      <td>...</td>\n",
       "      <td>0.45 g</td>\n",
       "      <td>0.116 g</td>\n",
       "      <td>0.039 g</td>\n",
       "      <td>0.193 g</td>\n",
       "      <td>0.00 mg</td>\n",
       "      <td>0</td>\n",
       "      <td>1.37 g</td>\n",
       "      <td>0</td>\n",
       "      <td>0</td>\n",
       "      <td>68.80 g</td>\n",
       "    </tr>\n",
       "  </tbody>\n",
       "</table>\n",
       "<p>9 rows × 76 columns</p>\n",
       "</div>"
      ],
      "text/plain": [
       "                                                   name serving_size  \\\n",
       "173                                Chicken, raw, ground        100 g   \n",
       "4184  Cereals ready-to-eat, KELLOGG'S FROOT LOOPS, K...        100 g   \n",
       "2320             Beverages, Mixed Berry, Zero, POWERADE        100 g   \n",
       "3687    Beverages, Fruit Medley, V8 SPLASH Juice Drinks        100 g   \n",
       "6596  Chicken, raw, with added solution, meat only, ...        100 g   \n",
       "7251  Pork, raw, separable lean and fat, boneless, t...        100 g   \n",
       "3400      Babyfood, strained, creamed, corn, vegetables        100 g   \n",
       "4763  Oil, (over 70%), linoleic, salad or cooking, s...        100 g   \n",
       "4833  Yardlong beans, without salt, boiled, cooked, ...        100 g   \n",
       "\n",
       "      calories total_fat saturated_fat cholesterol     sodium  choline  \\\n",
       "173        143      8.1g          2.3g        86mg   60.00 mg  58.8 mg   \n",
       "4184       375      3.4g          1.8g           0  469.00 mg  10.5 mg   \n",
       "2320         0        0g           NaN           0   42.00 mg   0.0 mg   \n",
       "3687        33        0g           NaN           0   21.00 mg        0   \n",
       "6596       106      3.3g            1g        92mg  152.00 mg  75.3 mg   \n",
       "7251       166      8.3g          1.6g        64mg   47.00 mg  57.3 mg   \n",
       "3400        57      0.4g          0.1g         1mg   43.00 mg   8.6 mg   \n",
       "4763       884      100g          6.2g           0    0.00 mg        0   \n",
       "4833       118      0.5g          0.1g           0    5.00 mg        0   \n",
       "\n",
       "          folate  folic_acid  ...       fat saturated_fatty_acids  \\\n",
       "173     1.00 mcg    0.00 mcg  ...    8.10 g               2.301 g   \n",
       "4184  345.00 mcg  326.00 mcg  ...    3.40 g               1.800 g   \n",
       "2320    0.00 mcg    0.00 mcg  ...    0.00 g               0.000 g   \n",
       "3687           0           0  ...    0.00 g                     0   \n",
       "6596    3.00 mcg    0.00 mcg  ...    3.26 g               0.954 g   \n",
       "7251    0.00 mcg    0.00 mcg  ...    8.33 g               1.598 g   \n",
       "3400   17.00 mcg    0.00 mcg  ...    0.40 g               0.076 g   \n",
       "4763    0.00 mcg    0.00 mcg  ...  100.00 g               6.203 g   \n",
       "4833  146.00 mcg    0.00 mcg  ...    0.45 g               0.116 g   \n",
       "\n",
       "     monounsaturated_fatty_acids polyunsaturated_fatty_acids  \\\n",
       "173                      3.611 g                     1.508 g   \n",
       "4184                     0.600 g                     0.900 g   \n",
       "2320                     0.000 g                     0.000 g   \n",
       "3687                           0                           0   \n",
       "6596                     1.290 g                     0.802 g   \n",
       "7251                     1.861 g                     0.651 g   \n",
       "3400                     0.116 g                     0.176 g   \n",
       "4763                    14.355 g                    74.623 g   \n",
       "4833                     0.039 g                     0.193 g   \n",
       "\n",
       "     fatty_acids_total_trans alcohol     ash caffeine theobromine    water  \n",
       "173                 86.00 mg   0.0 g  1.17 g  0.00 mg     0.00 mg  73.24 g  \n",
       "4184                 0.00 mg   0.0 g  1.45 g  0.00 mg     0.00 mg   2.50 g  \n",
       "2320                 0.00 mg   0.0 g  0.51 g  0.00 mg     0.00 mg  99.35 g  \n",
       "3687                       0       0  0.38 g        0           0  91.80 g  \n",
       "6596                92.00 mg   0.0 g  0.99 g  0.00 mg     0.00 mg  77.71 g  \n",
       "7251                64.00 mg   0.0 g  0.97 g  0.00 mg     0.00 mg  70.14 g  \n",
       "3400                 1.00 mg   0.0 g  0.50 g  0.00 mg     0.00 mg  83.60 g  \n",
       "4763                 0.00 mg   0.0 g  0.00 g  0.00 mg     0.00 mg   0.00 g  \n",
       "4833                 0.00 mg       0  1.37 g        0           0  68.80 g  \n",
       "\n",
       "[9 rows x 76 columns]"
      ]
     },
     "execution_count": 62,
     "metadata": {},
     "output_type": "execute_result"
    }
   ],
   "source": [
    "nut.sample(frac=.001)"
   ]
  },
  {
   "cell_type": "code",
   "execution_count": 63,
   "id": "d314302d",
   "metadata": {},
   "outputs": [
    {
     "data": {
      "text/plain": [
       "(8789, 76)"
      ]
     },
     "execution_count": 63,
     "metadata": {},
     "output_type": "execute_result"
    }
   ],
   "source": [
    "nut.shape"
   ]
  },
  {
   "cell_type": "code",
   "execution_count": 64,
   "id": "100cb4a9",
   "metadata": {},
   "outputs": [
    {
     "data": {
      "text/plain": [
       "8.789"
      ]
     },
     "execution_count": 64,
     "metadata": {},
     "output_type": "execute_result"
    }
   ],
   "source": [
    "nut.shape[0]*.001"
   ]
  },
  {
   "cell_type": "code",
   "execution_count": 65,
   "id": "ed8659ee",
   "metadata": {},
   "outputs": [],
   "source": [
    "# When you use 'frac' you can not use n=n\n",
    "#nut.sample(frac=.001,n=3)"
   ]
  },
  {
   "cell_type": "markdown",
   "id": "dac475fd",
   "metadata": {},
   "source": [
    "## Sampling With Replacement or Weights"
   ]
  },
  {
   "cell_type": "code",
   "execution_count": 66,
   "id": "3b891729",
   "metadata": {},
   "outputs": [],
   "source": [
    "# With or Without Replacement"
   ]
  },
  {
   "cell_type": "code",
   "execution_count": 67,
   "id": "cd200ca7",
   "metadata": {},
   "outputs": [
    {
     "data": {
      "text/html": [
       "<div>\n",
       "<style scoped>\n",
       "    .dataframe tbody tr th:only-of-type {\n",
       "        vertical-align: middle;\n",
       "    }\n",
       "\n",
       "    .dataframe tbody tr th {\n",
       "        vertical-align: top;\n",
       "    }\n",
       "\n",
       "    .dataframe thead th {\n",
       "        text-align: right;\n",
       "    }\n",
       "</style>\n",
       "<table border=\"1\" class=\"dataframe\">\n",
       "  <thead>\n",
       "    <tr style=\"text-align: right;\">\n",
       "      <th></th>\n",
       "      <th>name</th>\n",
       "      <th>serving_size</th>\n",
       "      <th>calories</th>\n",
       "      <th>total_fat</th>\n",
       "      <th>saturated_fat</th>\n",
       "      <th>cholesterol</th>\n",
       "      <th>sodium</th>\n",
       "      <th>choline</th>\n",
       "      <th>folate</th>\n",
       "      <th>folic_acid</th>\n",
       "      <th>...</th>\n",
       "      <th>fat</th>\n",
       "      <th>saturated_fatty_acids</th>\n",
       "      <th>monounsaturated_fatty_acids</th>\n",
       "      <th>polyunsaturated_fatty_acids</th>\n",
       "      <th>fatty_acids_total_trans</th>\n",
       "      <th>alcohol</th>\n",
       "      <th>ash</th>\n",
       "      <th>caffeine</th>\n",
       "      <th>theobromine</th>\n",
       "      <th>water</th>\n",
       "    </tr>\n",
       "  </thead>\n",
       "  <tbody>\n",
       "    <tr>\n",
       "      <th>235</th>\n",
       "      <td>Game meat, raw, elk</td>\n",
       "      <td>100 g</td>\n",
       "      <td>111</td>\n",
       "      <td>1.5g</td>\n",
       "      <td>0.5g</td>\n",
       "      <td>55mg</td>\n",
       "      <td>58.00 mg</td>\n",
       "      <td>0</td>\n",
       "      <td>0</td>\n",
       "      <td>0</td>\n",
       "      <td>...</td>\n",
       "      <td>1.45 g</td>\n",
       "      <td>0.530 g</td>\n",
       "      <td>0.360 g</td>\n",
       "      <td>0.300 g</td>\n",
       "      <td>55.00 mg</td>\n",
       "      <td>0</td>\n",
       "      <td>1.00 g</td>\n",
       "      <td>0</td>\n",
       "      <td>0</td>\n",
       "      <td>74.38 g</td>\n",
       "    </tr>\n",
       "    <tr>\n",
       "      <th>5192</th>\n",
       "      <td>USDA Commodity, heated, frozen, breaded, salmo...</td>\n",
       "      <td>100 g</td>\n",
       "      <td>212</td>\n",
       "      <td>12g</td>\n",
       "      <td>1.6g</td>\n",
       "      <td>26mg</td>\n",
       "      <td>173.00 mg</td>\n",
       "      <td>0</td>\n",
       "      <td>9.00 mcg</td>\n",
       "      <td>3.00 mcg</td>\n",
       "      <td>...</td>\n",
       "      <td>11.72 g</td>\n",
       "      <td>1.570 g</td>\n",
       "      <td>4.625 g</td>\n",
       "      <td>3.028 g</td>\n",
       "      <td>26.00 mg</td>\n",
       "      <td>0.0 g</td>\n",
       "      <td>1.25 g</td>\n",
       "      <td>0</td>\n",
       "      <td>0</td>\n",
       "      <td>60.38 g</td>\n",
       "    </tr>\n",
       "    <tr>\n",
       "      <th>905</th>\n",
       "      <td>Soybeans, raw, mature seeds</td>\n",
       "      <td>100 g</td>\n",
       "      <td>446</td>\n",
       "      <td>20g</td>\n",
       "      <td>2.9g</td>\n",
       "      <td>0</td>\n",
       "      <td>2.00 mg</td>\n",
       "      <td>115.9 mg</td>\n",
       "      <td>375.00 mcg</td>\n",
       "      <td>0.00 mcg</td>\n",
       "      <td>...</td>\n",
       "      <td>19.94 g</td>\n",
       "      <td>2.884 g</td>\n",
       "      <td>4.404 g</td>\n",
       "      <td>11.255 g</td>\n",
       "      <td>0.00 mg</td>\n",
       "      <td>0.0 g</td>\n",
       "      <td>4.87 g</td>\n",
       "      <td>0.00 mg</td>\n",
       "      <td>0.00 mg</td>\n",
       "      <td>8.54 g</td>\n",
       "    </tr>\n",
       "  </tbody>\n",
       "</table>\n",
       "<p>3 rows × 76 columns</p>\n",
       "</div>"
      ],
      "text/plain": [
       "                                                   name serving_size  \\\n",
       "235                                 Game meat, raw, elk        100 g   \n",
       "5192  USDA Commodity, heated, frozen, breaded, salmo...        100 g   \n",
       "905                         Soybeans, raw, mature seeds        100 g   \n",
       "\n",
       "      calories total_fat saturated_fat cholesterol     sodium   choline  \\\n",
       "235        111      1.5g          0.5g        55mg   58.00 mg         0   \n",
       "5192       212       12g          1.6g        26mg  173.00 mg         0   \n",
       "905        446       20g          2.9g           0    2.00 mg  115.9 mg   \n",
       "\n",
       "          folate folic_acid  ...      fat saturated_fatty_acids  \\\n",
       "235            0          0  ...   1.45 g               0.530 g   \n",
       "5192    9.00 mcg   3.00 mcg  ...  11.72 g               1.570 g   \n",
       "905   375.00 mcg   0.00 mcg  ...  19.94 g               2.884 g   \n",
       "\n",
       "     monounsaturated_fatty_acids polyunsaturated_fatty_acids  \\\n",
       "235                      0.360 g                     0.300 g   \n",
       "5192                     4.625 g                     3.028 g   \n",
       "905                      4.404 g                    11.255 g   \n",
       "\n",
       "     fatty_acids_total_trans alcohol     ash caffeine theobromine    water  \n",
       "235                 55.00 mg       0  1.00 g        0           0  74.38 g  \n",
       "5192                26.00 mg   0.0 g  1.25 g        0           0  60.38 g  \n",
       "905                  0.00 mg   0.0 g  4.87 g  0.00 mg     0.00 mg   8.54 g  \n",
       "\n",
       "[3 rows x 76 columns]"
      ]
     },
     "execution_count": 67,
     "metadata": {},
     "output_type": "execute_result"
    }
   ],
   "source": [
    "nut.sample(n=3,replace=True,random_state=1)"
   ]
  },
  {
   "cell_type": "code",
   "execution_count": 68,
   "id": "2d5f00e5",
   "metadata": {},
   "outputs": [],
   "source": [
    "# Weight Sampling\n",
    "weight=pd.Series([10,10,10,1,2,3],index=[10,13,5,1,8,4])"
   ]
  },
  {
   "cell_type": "code",
   "execution_count": 69,
   "id": "66a26a1a",
   "metadata": {},
   "outputs": [
    {
     "data": {
      "text/plain": [
       "10    10\n",
       "13    10\n",
       "5     10\n",
       "1      1\n",
       "8      2\n",
       "4      3\n",
       "dtype: int64"
      ]
     },
     "execution_count": 69,
     "metadata": {},
     "output_type": "execute_result"
    }
   ],
   "source": [
    "weight"
   ]
  },
  {
   "cell_type": "code",
   "execution_count": 70,
   "id": "34972004",
   "metadata": {},
   "outputs": [
    {
     "data": {
      "text/html": [
       "<div>\n",
       "<style scoped>\n",
       "    .dataframe tbody tr th:only-of-type {\n",
       "        vertical-align: middle;\n",
       "    }\n",
       "\n",
       "    .dataframe tbody tr th {\n",
       "        vertical-align: top;\n",
       "    }\n",
       "\n",
       "    .dataframe thead th {\n",
       "        text-align: right;\n",
       "    }\n",
       "</style>\n",
       "<table border=\"1\" class=\"dataframe\">\n",
       "  <thead>\n",
       "    <tr style=\"text-align: right;\">\n",
       "      <th></th>\n",
       "      <th>name</th>\n",
       "      <th>serving_size</th>\n",
       "      <th>calories</th>\n",
       "      <th>total_fat</th>\n",
       "      <th>saturated_fat</th>\n",
       "      <th>cholesterol</th>\n",
       "      <th>sodium</th>\n",
       "      <th>choline</th>\n",
       "      <th>folate</th>\n",
       "      <th>folic_acid</th>\n",
       "      <th>...</th>\n",
       "      <th>fat</th>\n",
       "      <th>saturated_fatty_acids</th>\n",
       "      <th>monounsaturated_fatty_acids</th>\n",
       "      <th>polyunsaturated_fatty_acids</th>\n",
       "      <th>fatty_acids_total_trans</th>\n",
       "      <th>alcohol</th>\n",
       "      <th>ash</th>\n",
       "      <th>caffeine</th>\n",
       "      <th>theobromine</th>\n",
       "      <th>water</th>\n",
       "    </tr>\n",
       "  </thead>\n",
       "  <tbody>\n",
       "    <tr>\n",
       "      <th>8</th>\n",
       "      <td>Cheese, camembert</td>\n",
       "      <td>100 g</td>\n",
       "      <td>300</td>\n",
       "      <td>24g</td>\n",
       "      <td>15g</td>\n",
       "      <td>72mg</td>\n",
       "      <td>842.00 mg</td>\n",
       "      <td>15.4 mg</td>\n",
       "      <td>62.00 mcg</td>\n",
       "      <td>0.00 mcg</td>\n",
       "      <td>...</td>\n",
       "      <td>24.26 g</td>\n",
       "      <td>15.259 g</td>\n",
       "      <td>7.023 g</td>\n",
       "      <td>0.724 g</td>\n",
       "      <td>72.00 mg</td>\n",
       "      <td>0.0 g</td>\n",
       "      <td>3.68 g</td>\n",
       "      <td>0.00 mg</td>\n",
       "      <td>0.00 mg</td>\n",
       "      <td>51.80 g</td>\n",
       "    </tr>\n",
       "    <tr>\n",
       "      <th>10</th>\n",
       "      <td>PACE, Picante Sauce</td>\n",
       "      <td>100 g</td>\n",
       "      <td>25</td>\n",
       "      <td>0g</td>\n",
       "      <td>NaN</td>\n",
       "      <td>0</td>\n",
       "      <td>781.00 mg</td>\n",
       "      <td>0</td>\n",
       "      <td>0</td>\n",
       "      <td>0</td>\n",
       "      <td>...</td>\n",
       "      <td>0.00 g</td>\n",
       "      <td>0</td>\n",
       "      <td>0</td>\n",
       "      <td>0</td>\n",
       "      <td>0.00 mg</td>\n",
       "      <td>0</td>\n",
       "      <td>3.85 g</td>\n",
       "      <td>0</td>\n",
       "      <td>0</td>\n",
       "      <td>89.90 g</td>\n",
       "    </tr>\n",
       "    <tr>\n",
       "      <th>1</th>\n",
       "      <td>Nuts, pecans</td>\n",
       "      <td>100 g</td>\n",
       "      <td>691</td>\n",
       "      <td>72g</td>\n",
       "      <td>6.2g</td>\n",
       "      <td>0</td>\n",
       "      <td>0.00 mg</td>\n",
       "      <td>40.5 mg</td>\n",
       "      <td>22.00 mcg</td>\n",
       "      <td>0.00 mcg</td>\n",
       "      <td>...</td>\n",
       "      <td>71.97 g</td>\n",
       "      <td>6.180 g</td>\n",
       "      <td>40.801 g</td>\n",
       "      <td>21.614 g</td>\n",
       "      <td>0.00 mg</td>\n",
       "      <td>0.0 g</td>\n",
       "      <td>1.49 g</td>\n",
       "      <td>0.00 mg</td>\n",
       "      <td>0.00 mg</td>\n",
       "      <td>3.52 g</td>\n",
       "    </tr>\n",
       "  </tbody>\n",
       "</table>\n",
       "<p>3 rows × 76 columns</p>\n",
       "</div>"
      ],
      "text/plain": [
       "                   name serving_size  calories total_fat saturated_fat  \\\n",
       "8     Cheese, camembert        100 g       300       24g           15g   \n",
       "10  PACE, Picante Sauce        100 g        25        0g           NaN   \n",
       "1          Nuts, pecans        100 g       691       72g          6.2g   \n",
       "\n",
       "   cholesterol     sodium  choline     folate folic_acid  ...      fat  \\\n",
       "8         72mg  842.00 mg  15.4 mg  62.00 mcg   0.00 mcg  ...  24.26 g   \n",
       "10           0  781.00 mg        0          0          0  ...   0.00 g   \n",
       "1            0    0.00 mg  40.5 mg  22.00 mcg   0.00 mcg  ...  71.97 g   \n",
       "\n",
       "   saturated_fatty_acids monounsaturated_fatty_acids  \\\n",
       "8               15.259 g                     7.023 g   \n",
       "10                     0                           0   \n",
       "1                6.180 g                    40.801 g   \n",
       "\n",
       "   polyunsaturated_fatty_acids fatty_acids_total_trans alcohol     ash  \\\n",
       "8                      0.724 g                72.00 mg   0.0 g  3.68 g   \n",
       "10                           0                 0.00 mg       0  3.85 g   \n",
       "1                     21.614 g                 0.00 mg   0.0 g  1.49 g   \n",
       "\n",
       "   caffeine theobromine    water  \n",
       "8   0.00 mg     0.00 mg  51.80 g  \n",
       "10        0           0  89.90 g  \n",
       "1   0.00 mg     0.00 mg   3.52 g  \n",
       "\n",
       "[3 rows x 76 columns]"
      ]
     },
     "execution_count": 70,
     "metadata": {},
     "output_type": "execute_result"
    }
   ],
   "source": [
    "nut.sample(n=3, weights=weight,random_state=1)"
   ]
  },
  {
   "cell_type": "markdown",
   "id": "63cddc9c",
   "metadata": {},
   "source": [
    "## DataFrame Axes"
   ]
  },
  {
   "cell_type": "code",
   "execution_count": 72,
   "id": "767a5b02",
   "metadata": {},
   "outputs": [
    {
     "name": "stdout",
     "output_type": "stream",
     "text": [
      "<class 'pandas.core.frame.DataFrame'>\n",
      "Int64Index: 8789 entries, 0 to 8788\n",
      "Columns: 76 entries, name to water\n",
      "dtypes: int64(2), object(74)\n",
      "memory usage: 5.2+ MB\n"
     ]
    }
   ],
   "source": [
    "nut.info(verbose=False)"
   ]
  },
  {
   "cell_type": "code",
   "execution_count": 74,
   "id": "1e614abe",
   "metadata": {},
   "outputs": [
    {
     "data": {
      "text/plain": [
       "[Int64Index([   0,    1,    2,    3,    4,    5,    6,    7,    8,    9,\n",
       "             ...\n",
       "             8779, 8780, 8781, 8782, 8783, 8784, 8785, 8786, 8787, 8788],\n",
       "            dtype='int64', length=8789),\n",
       " Index(['name', 'serving_size', 'calories', 'total_fat', 'saturated_fat',\n",
       "        'cholesterol', 'sodium', 'choline', 'folate', 'folic_acid', 'niacin',\n",
       "        'pantothenic_acid', 'riboflavin', 'thiamin', 'vitamin_a',\n",
       "        'vitamin_a_rae', 'carotene_alpha', 'carotene_beta',\n",
       "        'cryptoxanthin_beta', 'lutein_zeaxanthin', 'lucopene', 'vitamin_b12',\n",
       "        'vitamin_b6', 'vitamin_c', 'vitamin_d', 'vitamin_e', 'tocopherol_alpha',\n",
       "        'vitamin_k', 'calcium', 'copper', 'irom', 'magnesium', 'manganese',\n",
       "        'phosphorous', 'potassium', 'selenium', 'zink', 'protein', 'alanine',\n",
       "        'arginine', 'aspartic_acid', 'cystine', 'glutamic_acid', 'glycine',\n",
       "        'histidine', 'hydroxyproline', 'isoleucine', 'leucine', 'lysine',\n",
       "        'methionine', 'phenylalanine', 'proline', 'serine', 'threonine',\n",
       "        'tryptophan', 'tyrosine', 'valine', 'carbohydrate', 'fiber', 'sugars',\n",
       "        'fructose', 'galactose', 'glucose', 'lactose', 'maltose', 'sucrose',\n",
       "        'fat', 'saturated_fatty_acids', 'monounsaturated_fatty_acids',\n",
       "        'polyunsaturated_fatty_acids', 'fatty_acids_total_trans', 'alcohol',\n",
       "        'ash', 'caffeine', 'theobromine', 'water'],\n",
       "       dtype='object')]"
      ]
     },
     "execution_count": 74,
     "metadata": {},
     "output_type": "execute_result"
    }
   ],
   "source": [
    "nut.axes"
   ]
  },
  {
   "cell_type": "code",
   "execution_count": 77,
   "id": "cf76f07d",
   "metadata": {},
   "outputs": [
    {
     "data": {
      "text/plain": [
       "Int64Index([   0,    1,    2,    3,    4,    5,    6,    7,    8,    9,\n",
       "            ...\n",
       "            8779, 8780, 8781, 8782, 8783, 8784, 8785, 8786, 8787, 8788],\n",
       "           dtype='int64', length=8789)"
      ]
     },
     "execution_count": 77,
     "metadata": {},
     "output_type": "execute_result"
    }
   ],
   "source": [
    "# Row Label Axes\n",
    "nut.axes[0]"
   ]
  },
  {
   "cell_type": "code",
   "execution_count": 78,
   "id": "0b5df7a0",
   "metadata": {},
   "outputs": [
    {
     "data": {
      "text/plain": [
       "Index(['name', 'serving_size', 'calories', 'total_fat', 'saturated_fat',\n",
       "       'cholesterol', 'sodium', 'choline', 'folate', 'folic_acid', 'niacin',\n",
       "       'pantothenic_acid', 'riboflavin', 'thiamin', 'vitamin_a',\n",
       "       'vitamin_a_rae', 'carotene_alpha', 'carotene_beta',\n",
       "       'cryptoxanthin_beta', 'lutein_zeaxanthin', 'lucopene', 'vitamin_b12',\n",
       "       'vitamin_b6', 'vitamin_c', 'vitamin_d', 'vitamin_e', 'tocopherol_alpha',\n",
       "       'vitamin_k', 'calcium', 'copper', 'irom', 'magnesium', 'manganese',\n",
       "       'phosphorous', 'potassium', 'selenium', 'zink', 'protein', 'alanine',\n",
       "       'arginine', 'aspartic_acid', 'cystine', 'glutamic_acid', 'glycine',\n",
       "       'histidine', 'hydroxyproline', 'isoleucine', 'leucine', 'lysine',\n",
       "       'methionine', 'phenylalanine', 'proline', 'serine', 'threonine',\n",
       "       'tryptophan', 'tyrosine', 'valine', 'carbohydrate', 'fiber', 'sugars',\n",
       "       'fructose', 'galactose', 'glucose', 'lactose', 'maltose', 'sucrose',\n",
       "       'fat', 'saturated_fatty_acids', 'monounsaturated_fatty_acids',\n",
       "       'polyunsaturated_fatty_acids', 'fatty_acids_total_trans', 'alcohol',\n",
       "       'ash', 'caffeine', 'theobromine', 'water'],\n",
       "      dtype='object')"
      ]
     },
     "execution_count": 78,
     "metadata": {},
     "output_type": "execute_result"
    }
   ],
   "source": [
    "# Column Label Axes\n",
    "nut.axes[1]"
   ]
  },
  {
   "cell_type": "code",
   "execution_count": 79,
   "id": "c4ce53ca",
   "metadata": {},
   "outputs": [],
   "source": [
    "# The Axis Param\n",
    "# nut.dropna(axis=0)\n",
    "# 0=>Row; 1=>Column"
   ]
  },
  {
   "cell_type": "markdown",
   "id": "1892a7f8",
   "metadata": {},
   "source": [
    "### Changing Index"
   ]
  },
  {
   "cell_type": "code",
   "execution_count": 80,
   "id": "9a526edb",
   "metadata": {},
   "outputs": [
    {
     "data": {
      "text/plain": [
       "Int64Index([   0,    1,    2,    3,    4,    5,    6,    7,    8,    9,\n",
       "            ...\n",
       "            8779, 8780, 8781, 8782, 8783, 8784, 8785, 8786, 8787, 8788],\n",
       "           dtype='int64', length=8789)"
      ]
     },
     "execution_count": 80,
     "metadata": {},
     "output_type": "execute_result"
    }
   ],
   "source": [
    "nut.index"
   ]
  },
  {
   "cell_type": "code",
   "execution_count": 81,
   "id": "26af40c6",
   "metadata": {},
   "outputs": [
    {
     "data": {
      "text/plain": [
       "pandas.core.indexes.numeric.Int64Index"
      ]
     },
     "execution_count": 81,
     "metadata": {},
     "output_type": "execute_result"
    }
   ],
   "source": [
    "type(nut.index)"
   ]
  },
  {
   "cell_type": "code",
   "execution_count": 82,
   "id": "56b1ae48",
   "metadata": {},
   "outputs": [],
   "source": [
    "nut.index=pd.RangeIndex(start=0,stop=8789,step=1)"
   ]
  },
  {
   "cell_type": "code",
   "execution_count": 83,
   "id": "37512e71",
   "metadata": {},
   "outputs": [
    {
     "data": {
      "text/plain": [
       "RangeIndex(start=0, stop=8789, step=1)"
      ]
     },
     "execution_count": 83,
     "metadata": {},
     "output_type": "execute_result"
    }
   ],
   "source": [
    "nut.index"
   ]
  },
  {
   "cell_type": "code",
   "execution_count": null,
   "id": "780a9663",
   "metadata": {},
   "outputs": [],
   "source": []
  }
 ],
 "metadata": {
  "kernelspec": {
   "display_name": "Python 3",
   "language": "python",
   "name": "python3"
  },
  "language_info": {
   "codemirror_mode": {
    "name": "ipython",
    "version": 3
   },
   "file_extension": ".py",
   "mimetype": "text/x-python",
   "name": "python",
   "nbconvert_exporter": "python",
   "pygments_lexer": "ipython3",
   "version": "3.8.8"
  }
 },
 "nbformat": 4,
 "nbformat_minor": 5
}
