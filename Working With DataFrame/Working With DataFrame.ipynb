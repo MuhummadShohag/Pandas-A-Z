{
 "cells": [
  {
   "cell_type": "markdown",
   "id": "4ecc8a11",
   "metadata": {},
   "source": [
    "# DataFrame\n",
    "    *DataFrame is look like table of data which contain collection of rows and columns\n",
    "    *DataFrame have two dimensions: Labeled indices and columns\n",
    "    *Each columns in a DataFrame is a series\n",
    "    *Unlike Series, DataFrames could be heterogenous\n",
    "    "
   ]
  },
  {
   "cell_type": "code",
   "execution_count": 1,
   "id": "9518a5b7",
   "metadata": {},
   "outputs": [],
   "source": [
    "# Importing Librarey\n",
    "import pandas as pd\n",
    "import numpy as np"
   ]
  },
  {
   "cell_type": "code",
   "execution_count": 2,
   "id": "69a4f9f5",
   "metadata": {},
   "outputs": [
    {
     "data": {
      "text/plain": [
       "'1.2.4'"
      ]
     },
     "execution_count": 2,
     "metadata": {},
     "output_type": "execute_result"
    }
   ],
   "source": [
    "pd.__version__"
   ]
  },
  {
   "cell_type": "code",
   "execution_count": 3,
   "id": "b52e5aac",
   "metadata": {},
   "outputs": [],
   "source": [
    "# Some python lists\n",
    "names=['a','b','c','d','e']\n",
    "ages=[10,17,12,15,12]\n",
    "marries=[False,True,False,True,True]"
   ]
  },
  {
   "cell_type": "code",
   "execution_count": 4,
   "id": "07de2629",
   "metadata": {},
   "outputs": [],
   "source": [
    "# Pandas Series\n",
    "ser=pd.Series(data=names,name='Names')"
   ]
  },
  {
   "cell_type": "code",
   "execution_count": 5,
   "id": "293c3ed9",
   "metadata": {},
   "outputs": [
    {
     "data": {
      "text/plain": [
       "0    a\n",
       "1    b\n",
       "Name: Names, dtype: object"
      ]
     },
     "execution_count": 5,
     "metadata": {},
     "output_type": "execute_result"
    }
   ],
   "source": [
    "ser.head(2)"
   ]
  },
  {
   "cell_type": "code",
   "execution_count": 6,
   "id": "dc453337",
   "metadata": {},
   "outputs": [],
   "source": [
    "# Pandas DataFrame\n",
    "df=pd.DataFrame({'Names':names,'Ages':ages,'Marries':marries})"
   ]
  },
  {
   "cell_type": "code",
   "execution_count": 7,
   "id": "ee49dea5",
   "metadata": {},
   "outputs": [
    {
     "data": {
      "text/html": [
       "<div>\n",
       "<style scoped>\n",
       "    .dataframe tbody tr th:only-of-type {\n",
       "        vertical-align: middle;\n",
       "    }\n",
       "\n",
       "    .dataframe tbody tr th {\n",
       "        vertical-align: top;\n",
       "    }\n",
       "\n",
       "    .dataframe thead th {\n",
       "        text-align: right;\n",
       "    }\n",
       "</style>\n",
       "<table border=\"1\" class=\"dataframe\">\n",
       "  <thead>\n",
       "    <tr style=\"text-align: right;\">\n",
       "      <th></th>\n",
       "      <th>Names</th>\n",
       "      <th>Ages</th>\n",
       "      <th>Marries</th>\n",
       "    </tr>\n",
       "  </thead>\n",
       "  <tbody>\n",
       "    <tr>\n",
       "      <th>0</th>\n",
       "      <td>a</td>\n",
       "      <td>10</td>\n",
       "      <td>False</td>\n",
       "    </tr>\n",
       "    <tr>\n",
       "      <th>1</th>\n",
       "      <td>b</td>\n",
       "      <td>17</td>\n",
       "      <td>True</td>\n",
       "    </tr>\n",
       "    <tr>\n",
       "      <th>2</th>\n",
       "      <td>c</td>\n",
       "      <td>12</td>\n",
       "      <td>False</td>\n",
       "    </tr>\n",
       "    <tr>\n",
       "      <th>3</th>\n",
       "      <td>d</td>\n",
       "      <td>15</td>\n",
       "      <td>True</td>\n",
       "    </tr>\n",
       "    <tr>\n",
       "      <th>4</th>\n",
       "      <td>e</td>\n",
       "      <td>12</td>\n",
       "      <td>True</td>\n",
       "    </tr>\n",
       "  </tbody>\n",
       "</table>\n",
       "</div>"
      ],
      "text/plain": [
       "  Names  Ages  Marries\n",
       "0     a    10    False\n",
       "1     b    17     True\n",
       "2     c    12    False\n",
       "3     d    15     True\n",
       "4     e    12     True"
      ]
     },
     "execution_count": 7,
     "metadata": {},
     "output_type": "execute_result"
    }
   ],
   "source": [
    "df"
   ]
  },
  {
   "cell_type": "code",
   "execution_count": 8,
   "id": "eeedc4b3",
   "metadata": {},
   "outputs": [
    {
     "data": {
      "text/plain": [
       "'c'"
      ]
     },
     "execution_count": 8,
     "metadata": {},
     "output_type": "execute_result"
    }
   ],
   "source": [
    "ser.iloc[2]"
   ]
  },
  {
   "cell_type": "code",
   "execution_count": 9,
   "id": "9070c761",
   "metadata": {},
   "outputs": [
    {
     "data": {
      "text/plain": [
       "Names          c\n",
       "Ages          12\n",
       "Marries    False\n",
       "Name: 2, dtype: object"
      ]
     },
     "execution_count": 9,
     "metadata": {},
     "output_type": "execute_result"
    }
   ],
   "source": [
    "df.iloc[2]"
   ]
  },
  {
   "cell_type": "code",
   "execution_count": 10,
   "id": "0080becb",
   "metadata": {},
   "outputs": [
    {
     "data": {
      "text/plain": [
       "1"
      ]
     },
     "execution_count": 10,
     "metadata": {},
     "output_type": "execute_result"
    }
   ],
   "source": [
    "# Show Dimension\n",
    "ser.ndim"
   ]
  },
  {
   "cell_type": "code",
   "execution_count": 11,
   "id": "04262a3f",
   "metadata": {},
   "outputs": [
    {
     "data": {
      "text/plain": [
       "2"
      ]
     },
     "execution_count": 11,
     "metadata": {},
     "output_type": "execute_result"
    }
   ],
   "source": [
    "df.ndim"
   ]
  },
  {
   "cell_type": "code",
   "execution_count": 12,
   "id": "b5d4e959",
   "metadata": {},
   "outputs": [
    {
     "data": {
      "text/plain": [
       "(5,)"
      ]
     },
     "execution_count": 12,
     "metadata": {},
     "output_type": "execute_result"
    }
   ],
   "source": [
    "# Show Shape how many rows and columns\n",
    "ser.shape"
   ]
  },
  {
   "cell_type": "code",
   "execution_count": 13,
   "id": "1572a190",
   "metadata": {},
   "outputs": [
    {
     "data": {
      "text/plain": [
       "(5, 3)"
      ]
     },
     "execution_count": 13,
     "metadata": {},
     "output_type": "execute_result"
    }
   ],
   "source": [
    "df.shape"
   ]
  },
  {
   "cell_type": "code",
   "execution_count": 14,
   "id": "86907361",
   "metadata": {},
   "outputs": [
    {
     "data": {
      "text/plain": [
       "0    a\n",
       "1    b\n",
       "2    c\n",
       "3    d\n",
       "4    e\n",
       "Name: Names, dtype: object"
      ]
     },
     "execution_count": 14,
     "metadata": {},
     "output_type": "execute_result"
    }
   ],
   "source": [
    "# Each column look like Series\n",
    "df.Names"
   ]
  },
  {
   "cell_type": "code",
   "execution_count": 15,
   "id": "47ec5431",
   "metadata": {},
   "outputs": [],
   "source": [
    "df=df.rename(columns={'Names':'names','Ages':'ages','Marries':'marries'},inplace=False)"
   ]
  },
  {
   "cell_type": "code",
   "execution_count": 16,
   "id": "5483e216",
   "metadata": {},
   "outputs": [
    {
     "data": {
      "text/html": [
       "<div>\n",
       "<style scoped>\n",
       "    .dataframe tbody tr th:only-of-type {\n",
       "        vertical-align: middle;\n",
       "    }\n",
       "\n",
       "    .dataframe tbody tr th {\n",
       "        vertical-align: top;\n",
       "    }\n",
       "\n",
       "    .dataframe thead th {\n",
       "        text-align: right;\n",
       "    }\n",
       "</style>\n",
       "<table border=\"1\" class=\"dataframe\">\n",
       "  <thead>\n",
       "    <tr style=\"text-align: right;\">\n",
       "      <th></th>\n",
       "      <th>names</th>\n",
       "      <th>ages</th>\n",
       "      <th>marries</th>\n",
       "    </tr>\n",
       "  </thead>\n",
       "  <tbody>\n",
       "    <tr>\n",
       "      <th>0</th>\n",
       "      <td>a</td>\n",
       "      <td>10</td>\n",
       "      <td>False</td>\n",
       "    </tr>\n",
       "    <tr>\n",
       "      <th>1</th>\n",
       "      <td>b</td>\n",
       "      <td>17</td>\n",
       "      <td>True</td>\n",
       "    </tr>\n",
       "    <tr>\n",
       "      <th>2</th>\n",
       "      <td>c</td>\n",
       "      <td>12</td>\n",
       "      <td>False</td>\n",
       "    </tr>\n",
       "    <tr>\n",
       "      <th>3</th>\n",
       "      <td>d</td>\n",
       "      <td>15</td>\n",
       "      <td>True</td>\n",
       "    </tr>\n",
       "    <tr>\n",
       "      <th>4</th>\n",
       "      <td>e</td>\n",
       "      <td>12</td>\n",
       "      <td>True</td>\n",
       "    </tr>\n",
       "  </tbody>\n",
       "</table>\n",
       "</div>"
      ],
      "text/plain": [
       "  names  ages  marries\n",
       "0     a    10    False\n",
       "1     b    17     True\n",
       "2     c    12    False\n",
       "3     d    15     True\n",
       "4     e    12     True"
      ]
     },
     "execution_count": 16,
     "metadata": {},
     "output_type": "execute_result"
    }
   ],
   "source": [
    "df"
   ]
  },
  {
   "cell_type": "code",
   "execution_count": 17,
   "id": "23be6d4f",
   "metadata": {},
   "outputs": [
    {
     "data": {
      "text/plain": [
       "dtype('O')"
      ]
     },
     "execution_count": 17,
     "metadata": {},
     "output_type": "execute_result"
    }
   ],
   "source": [
    "ser.dtype"
   ]
  },
  {
   "cell_type": "code",
   "execution_count": 18,
   "id": "736fc578",
   "metadata": {},
   "outputs": [
    {
     "data": {
      "text/plain": [
       "names      object\n",
       "ages        int64\n",
       "marries      bool\n",
       "dtype: object"
      ]
     },
     "execution_count": 18,
     "metadata": {},
     "output_type": "execute_result"
    }
   ],
   "source": [
    "# Show each column datatype which is hetarogenous ,contain different data types\n",
    "df.dtypes"
   ]
  },
  {
   "cell_type": "code",
   "execution_count": 19,
   "id": "0e796bce",
   "metadata": {},
   "outputs": [
    {
     "data": {
      "text/plain": [
       "5"
      ]
     },
     "execution_count": 19,
     "metadata": {},
     "output_type": "execute_result"
    }
   ],
   "source": [
    "len(ser)"
   ]
  },
  {
   "cell_type": "code",
   "execution_count": 20,
   "id": "4bf7d25f",
   "metadata": {},
   "outputs": [],
   "source": [
    "names=names+['g']"
   ]
  },
  {
   "cell_type": "code",
   "execution_count": 21,
   "id": "6d6976e5",
   "metadata": {},
   "outputs": [
    {
     "data": {
      "text/plain": [
       "['a', 'b', 'c', 'd', 'e', 'g']"
      ]
     },
     "execution_count": 21,
     "metadata": {},
     "output_type": "execute_result"
    }
   ],
   "source": [
    "names"
   ]
  },
  {
   "cell_type": "code",
   "execution_count": 22,
   "id": "1529164e",
   "metadata": {},
   "outputs": [
    {
     "data": {
      "text/plain": [
       "6"
      ]
     },
     "execution_count": 22,
     "metadata": {},
     "output_type": "execute_result"
    }
   ],
   "source": [
    "len(names)"
   ]
  },
  {
   "cell_type": "code",
   "execution_count": 23,
   "id": "447efbbf",
   "metadata": {},
   "outputs": [
    {
     "data": {
      "text/plain": [
       "'\\n    DataFrame is not creating beacuse one sereis has a extra data,\\n    which is not same every series like names series data is:6\\n    other series data is:5 and 5\\n'"
      ]
     },
     "execution_count": 23,
     "metadata": {},
     "output_type": "execute_result"
    }
   ],
   "source": [
    "'''\n",
    "    DataFrame is not creating beacuse one sereis has a extra data,\n",
    "    which is not same every series like names series data is:6\n",
    "    other series data is:5 and 5\n",
    "'''\n",
    "#df=pd.DataFrame({'names':names,'ages':ages,'merries':marries})"
   ]
  },
  {
   "cell_type": "code",
   "execution_count": null,
   "id": "0187ec11",
   "metadata": {},
   "outputs": [],
   "source": []
  },
  {
   "cell_type": "markdown",
   "id": "b6adbdff",
   "metadata": {},
   "source": [
    "### Creating DataFrame\n",
    "    * Dictionary to Tuple\n",
    "       --Like dict of list, but with tuples, Column-Wise\n",
    "       \n",
    "    * Dictionary to Dictionary\n",
    "       --Key:value pairs with column names as keys and index-labeled keys:value pairs containing values\n",
    "       \n",
    "    * Dictionary to Series\n",
    "        --A Continuation of keys concept\n",
    "    * List to Dictionary\n",
    "        --List of keys:Values pairs containing column labels and values"
   ]
  },
  {
   "cell_type": "markdown",
   "id": "27fc4508",
   "metadata": {},
   "source": [
    "### Dict of Tuples"
   ]
  },
  {
   "cell_type": "code",
   "execution_count": 24,
   "id": "7192e1ad",
   "metadata": {},
   "outputs": [],
   "source": [
    "names=['a','b','c','d','e']\n",
    "tuple_names=tuple(names)\n",
    "tuple_ages=tuple(ages)\n",
    "tuple_marries=tuple(marries)"
   ]
  },
  {
   "cell_type": "code",
   "execution_count": 25,
   "id": "a58b5ed0",
   "metadata": {},
   "outputs": [
    {
     "data": {
      "text/plain": [
       "('a', 'b', 'c', 'd', 'e')"
      ]
     },
     "execution_count": 25,
     "metadata": {},
     "output_type": "execute_result"
    }
   ],
   "source": [
    "tuple_names"
   ]
  },
  {
   "cell_type": "code",
   "execution_count": 26,
   "id": "a98761b9",
   "metadata": {},
   "outputs": [
    {
     "data": {
      "text/html": [
       "<div>\n",
       "<style scoped>\n",
       "    .dataframe tbody tr th:only-of-type {\n",
       "        vertical-align: middle;\n",
       "    }\n",
       "\n",
       "    .dataframe tbody tr th {\n",
       "        vertical-align: top;\n",
       "    }\n",
       "\n",
       "    .dataframe thead th {\n",
       "        text-align: right;\n",
       "    }\n",
       "</style>\n",
       "<table border=\"1\" class=\"dataframe\">\n",
       "  <thead>\n",
       "    <tr style=\"text-align: right;\">\n",
       "      <th></th>\n",
       "      <th>names</th>\n",
       "      <th>ages</th>\n",
       "      <th>marries</th>\n",
       "    </tr>\n",
       "  </thead>\n",
       "  <tbody>\n",
       "    <tr>\n",
       "      <th>0</th>\n",
       "      <td>a</td>\n",
       "      <td>10</td>\n",
       "      <td>False</td>\n",
       "    </tr>\n",
       "    <tr>\n",
       "      <th>1</th>\n",
       "      <td>b</td>\n",
       "      <td>17</td>\n",
       "      <td>True</td>\n",
       "    </tr>\n",
       "    <tr>\n",
       "      <th>2</th>\n",
       "      <td>c</td>\n",
       "      <td>12</td>\n",
       "      <td>False</td>\n",
       "    </tr>\n",
       "    <tr>\n",
       "      <th>3</th>\n",
       "      <td>d</td>\n",
       "      <td>15</td>\n",
       "      <td>True</td>\n",
       "    </tr>\n",
       "    <tr>\n",
       "      <th>4</th>\n",
       "      <td>e</td>\n",
       "      <td>12</td>\n",
       "      <td>True</td>\n",
       "    </tr>\n",
       "  </tbody>\n",
       "</table>\n",
       "</div>"
      ],
      "text/plain": [
       "  names  ages  marries\n",
       "0     a    10    False\n",
       "1     b    17     True\n",
       "2     c    12    False\n",
       "3     d    15     True\n",
       "4     e    12     True"
      ]
     },
     "execution_count": 26,
     "metadata": {},
     "output_type": "execute_result"
    }
   ],
   "source": [
    "pd.DataFrame({\n",
    "    'names':tuple_names,\n",
    "    'ages':tuple_ages,\n",
    "    'marries':tuple_marries\n",
    "})"
   ]
  },
  {
   "cell_type": "markdown",
   "id": "1607b8b0",
   "metadata": {},
   "source": [
    "## Dictionary to Series"
   ]
  },
  {
   "cell_type": "code",
   "execution_count": 27,
   "id": "717bc9b5",
   "metadata": {},
   "outputs": [],
   "source": [
    "names=pd.Series(names)"
   ]
  },
  {
   "cell_type": "code",
   "execution_count": 28,
   "id": "e0f47dd3",
   "metadata": {},
   "outputs": [],
   "source": [
    "ages=pd.Series(ages)"
   ]
  },
  {
   "cell_type": "code",
   "execution_count": 29,
   "id": "1b055a79",
   "metadata": {},
   "outputs": [],
   "source": [
    "marries=pd.Series(marries)"
   ]
  },
  {
   "cell_type": "code",
   "execution_count": 30,
   "id": "6ee8d8e5",
   "metadata": {},
   "outputs": [
    {
     "data": {
      "text/html": [
       "<div>\n",
       "<style scoped>\n",
       "    .dataframe tbody tr th:only-of-type {\n",
       "        vertical-align: middle;\n",
       "    }\n",
       "\n",
       "    .dataframe tbody tr th {\n",
       "        vertical-align: top;\n",
       "    }\n",
       "\n",
       "    .dataframe thead th {\n",
       "        text-align: right;\n",
       "    }\n",
       "</style>\n",
       "<table border=\"1\" class=\"dataframe\">\n",
       "  <thead>\n",
       "    <tr style=\"text-align: right;\">\n",
       "      <th></th>\n",
       "      <th>names</th>\n",
       "      <th>ages</th>\n",
       "      <th>marries</th>\n",
       "    </tr>\n",
       "  </thead>\n",
       "  <tbody>\n",
       "    <tr>\n",
       "      <th>0</th>\n",
       "      <td>a</td>\n",
       "      <td>10</td>\n",
       "      <td>False</td>\n",
       "    </tr>\n",
       "    <tr>\n",
       "      <th>1</th>\n",
       "      <td>b</td>\n",
       "      <td>17</td>\n",
       "      <td>True</td>\n",
       "    </tr>\n",
       "    <tr>\n",
       "      <th>2</th>\n",
       "      <td>c</td>\n",
       "      <td>12</td>\n",
       "      <td>False</td>\n",
       "    </tr>\n",
       "    <tr>\n",
       "      <th>3</th>\n",
       "      <td>d</td>\n",
       "      <td>15</td>\n",
       "      <td>True</td>\n",
       "    </tr>\n",
       "    <tr>\n",
       "      <th>4</th>\n",
       "      <td>e</td>\n",
       "      <td>12</td>\n",
       "      <td>True</td>\n",
       "    </tr>\n",
       "  </tbody>\n",
       "</table>\n",
       "</div>"
      ],
      "text/plain": [
       "  names  ages  marries\n",
       "0     a    10    False\n",
       "1     b    17     True\n",
       "2     c    12    False\n",
       "3     d    15     True\n",
       "4     e    12     True"
      ]
     },
     "execution_count": 30,
     "metadata": {},
     "output_type": "execute_result"
    }
   ],
   "source": [
    "pd.DataFrame({'names':names,'ages':ages,'marries':marries})"
   ]
  },
  {
   "cell_type": "markdown",
   "id": "a855f7d7",
   "metadata": {},
   "source": [
    "## Dictionary To Dictionary"
   ]
  },
  {
   "cell_type": "code",
   "execution_count": 31,
   "id": "66be1f31",
   "metadata": {},
   "outputs": [
    {
     "data": {
      "text/html": [
       "<div>\n",
       "<style scoped>\n",
       "    .dataframe tbody tr th:only-of-type {\n",
       "        vertical-align: middle;\n",
       "    }\n",
       "\n",
       "    .dataframe tbody tr th {\n",
       "        vertical-align: top;\n",
       "    }\n",
       "\n",
       "    .dataframe thead th {\n",
       "        text-align: right;\n",
       "    }\n",
       "</style>\n",
       "<table border=\"1\" class=\"dataframe\">\n",
       "  <thead>\n",
       "    <tr style=\"text-align: right;\">\n",
       "      <th></th>\n",
       "      <th>name</th>\n",
       "    </tr>\n",
       "  </thead>\n",
       "  <tbody>\n",
       "    <tr>\n",
       "      <th>0</th>\n",
       "      <td>a</td>\n",
       "    </tr>\n",
       "    <tr>\n",
       "      <th>1</th>\n",
       "      <td>b</td>\n",
       "    </tr>\n",
       "  </tbody>\n",
       "</table>\n",
       "</div>"
      ],
      "text/plain": [
       "  name\n",
       "0    a\n",
       "1    b"
      ]
     },
     "execution_count": 31,
     "metadata": {},
     "output_type": "execute_result"
    }
   ],
   "source": [
    "pd.DataFrame({'name':['a','b']})"
   ]
  },
  {
   "cell_type": "code",
   "execution_count": 32,
   "id": "b330eb8d",
   "metadata": {},
   "outputs": [
    {
     "data": {
      "text/html": [
       "<div>\n",
       "<style scoped>\n",
       "    .dataframe tbody tr th:only-of-type {\n",
       "        vertical-align: middle;\n",
       "    }\n",
       "\n",
       "    .dataframe tbody tr th {\n",
       "        vertical-align: top;\n",
       "    }\n",
       "\n",
       "    .dataframe thead th {\n",
       "        text-align: right;\n",
       "    }\n",
       "</style>\n",
       "<table border=\"1\" class=\"dataframe\">\n",
       "  <thead>\n",
       "    <tr style=\"text-align: right;\">\n",
       "      <th></th>\n",
       "      <th>name</th>\n",
       "    </tr>\n",
       "  </thead>\n",
       "  <tbody>\n",
       "    <tr>\n",
       "      <th>0</th>\n",
       "      <td>a</td>\n",
       "    </tr>\n",
       "    <tr>\n",
       "      <th>1</th>\n",
       "      <td>b</td>\n",
       "    </tr>\n",
       "  </tbody>\n",
       "</table>\n",
       "</div>"
      ],
      "text/plain": [
       "  name\n",
       "0    a\n",
       "1    b"
      ]
     },
     "execution_count": 32,
     "metadata": {},
     "output_type": "execute_result"
    }
   ],
   "source": [
    "pd.DataFrame({'name':{0:'a',1:'b'}})"
   ]
  },
  {
   "cell_type": "code",
   "execution_count": 33,
   "id": "a5d509dd",
   "metadata": {},
   "outputs": [],
   "source": [
    "# The Enumerate Function"
   ]
  },
  {
   "cell_type": "code",
   "execution_count": 34,
   "id": "8044c0e9",
   "metadata": {},
   "outputs": [
    {
     "data": {
      "text/plain": [
       "<enumerate at 0x24983d85e00>"
      ]
     },
     "execution_count": 34,
     "metadata": {},
     "output_type": "execute_result"
    }
   ],
   "source": [
    "enumerate(names)"
   ]
  },
  {
   "cell_type": "code",
   "execution_count": 35,
   "id": "75f055d0",
   "metadata": {},
   "outputs": [
    {
     "data": {
      "text/plain": [
       "[(0, 'a'), (1, 'b'), (2, 'c'), (3, 'd'), (4, 'e')]"
      ]
     },
     "execution_count": 35,
     "metadata": {},
     "output_type": "execute_result"
    }
   ],
   "source": [
    "list(enumerate(names))"
   ]
  },
  {
   "cell_type": "code",
   "execution_count": 36,
   "id": "789f0368",
   "metadata": {},
   "outputs": [],
   "source": [
    "dict_names={k:v for k,v in enumerate(names)}"
   ]
  },
  {
   "cell_type": "code",
   "execution_count": 37,
   "id": "622a56cc",
   "metadata": {},
   "outputs": [
    {
     "data": {
      "text/plain": [
       "{0: 'a', 1: 'b', 2: 'c', 3: 'd', 4: 'e'}"
      ]
     },
     "execution_count": 37,
     "metadata": {},
     "output_type": "execute_result"
    }
   ],
   "source": [
    "dict_names"
   ]
  },
  {
   "cell_type": "code",
   "execution_count": 38,
   "id": "b47f2d36",
   "metadata": {},
   "outputs": [
    {
     "data": {
      "text/html": [
       "<div>\n",
       "<style scoped>\n",
       "    .dataframe tbody tr th:only-of-type {\n",
       "        vertical-align: middle;\n",
       "    }\n",
       "\n",
       "    .dataframe tbody tr th {\n",
       "        vertical-align: top;\n",
       "    }\n",
       "\n",
       "    .dataframe thead th {\n",
       "        text-align: right;\n",
       "    }\n",
       "</style>\n",
       "<table border=\"1\" class=\"dataframe\">\n",
       "  <thead>\n",
       "    <tr style=\"text-align: right;\">\n",
       "      <th></th>\n",
       "      <th>names</th>\n",
       "    </tr>\n",
       "  </thead>\n",
       "  <tbody>\n",
       "    <tr>\n",
       "      <th>0</th>\n",
       "      <td>a</td>\n",
       "    </tr>\n",
       "    <tr>\n",
       "      <th>1</th>\n",
       "      <td>b</td>\n",
       "    </tr>\n",
       "    <tr>\n",
       "      <th>2</th>\n",
       "      <td>c</td>\n",
       "    </tr>\n",
       "    <tr>\n",
       "      <th>3</th>\n",
       "      <td>d</td>\n",
       "    </tr>\n",
       "    <tr>\n",
       "      <th>4</th>\n",
       "      <td>e</td>\n",
       "    </tr>\n",
       "  </tbody>\n",
       "</table>\n",
       "</div>"
      ],
      "text/plain": [
       "  names\n",
       "0     a\n",
       "1     b\n",
       "2     c\n",
       "3     d\n",
       "4     e"
      ]
     },
     "execution_count": 38,
     "metadata": {},
     "output_type": "execute_result"
    }
   ],
   "source": [
    "pd.DataFrame({'names':dict_names})"
   ]
  },
  {
   "cell_type": "code",
   "execution_count": 39,
   "id": "84d107c1",
   "metadata": {},
   "outputs": [],
   "source": [
    "def convert_list_dict(i):\n",
    "    return {k:v for k,v in enumerate(i)}"
   ]
  },
  {
   "cell_type": "code",
   "execution_count": 40,
   "id": "6767ea2f",
   "metadata": {},
   "outputs": [],
   "source": [
    "dict_name=convert_list_dict(names)\n",
    "dict_ages=convert_list_dict(ages)\n",
    "dict_marries=convert_list_dict(marries)"
   ]
  },
  {
   "cell_type": "code",
   "execution_count": 41,
   "id": "361b4655",
   "metadata": {},
   "outputs": [
    {
     "data": {
      "text/html": [
       "<div>\n",
       "<style scoped>\n",
       "    .dataframe tbody tr th:only-of-type {\n",
       "        vertical-align: middle;\n",
       "    }\n",
       "\n",
       "    .dataframe tbody tr th {\n",
       "        vertical-align: top;\n",
       "    }\n",
       "\n",
       "    .dataframe thead th {\n",
       "        text-align: right;\n",
       "    }\n",
       "</style>\n",
       "<table border=\"1\" class=\"dataframe\">\n",
       "  <thead>\n",
       "    <tr style=\"text-align: right;\">\n",
       "      <th></th>\n",
       "      <th>names</th>\n",
       "      <th>ages</th>\n",
       "      <th>marries</th>\n",
       "    </tr>\n",
       "  </thead>\n",
       "  <tbody>\n",
       "    <tr>\n",
       "      <th>0</th>\n",
       "      <td>a</td>\n",
       "      <td>10</td>\n",
       "      <td>False</td>\n",
       "    </tr>\n",
       "    <tr>\n",
       "      <th>1</th>\n",
       "      <td>b</td>\n",
       "      <td>17</td>\n",
       "      <td>True</td>\n",
       "    </tr>\n",
       "    <tr>\n",
       "      <th>2</th>\n",
       "      <td>c</td>\n",
       "      <td>12</td>\n",
       "      <td>False</td>\n",
       "    </tr>\n",
       "    <tr>\n",
       "      <th>3</th>\n",
       "      <td>d</td>\n",
       "      <td>15</td>\n",
       "      <td>True</td>\n",
       "    </tr>\n",
       "    <tr>\n",
       "      <th>4</th>\n",
       "      <td>e</td>\n",
       "      <td>12</td>\n",
       "      <td>True</td>\n",
       "    </tr>\n",
       "  </tbody>\n",
       "</table>\n",
       "</div>"
      ],
      "text/plain": [
       "  names  ages  marries\n",
       "0     a    10    False\n",
       "1     b    17     True\n",
       "2     c    12    False\n",
       "3     d    15     True\n",
       "4     e    12     True"
      ]
     },
     "execution_count": 41,
     "metadata": {},
     "output_type": "execute_result"
    }
   ],
   "source": [
    "pd.DataFrame({'names':names,'ages':ages,\"marries\":marries})"
   ]
  },
  {
   "cell_type": "markdown",
   "id": "f7af4c45",
   "metadata": {},
   "source": [
    "## List to Dictioanry"
   ]
  },
  {
   "cell_type": "code",
   "execution_count": 42,
   "id": "fbdb30de",
   "metadata": {},
   "outputs": [
    {
     "data": {
      "text/html": [
       "<div>\n",
       "<style scoped>\n",
       "    .dataframe tbody tr th:only-of-type {\n",
       "        vertical-align: middle;\n",
       "    }\n",
       "\n",
       "    .dataframe tbody tr th {\n",
       "        vertical-align: top;\n",
       "    }\n",
       "\n",
       "    .dataframe thead th {\n",
       "        text-align: right;\n",
       "    }\n",
       "</style>\n",
       "<table border=\"1\" class=\"dataframe\">\n",
       "  <thead>\n",
       "    <tr style=\"text-align: right;\">\n",
       "      <th></th>\n",
       "      <th>names</th>\n",
       "      <th>ages</th>\n",
       "      <th>marries</th>\n",
       "    </tr>\n",
       "  </thead>\n",
       "  <tbody>\n",
       "    <tr>\n",
       "      <th>0</th>\n",
       "      <td>a</td>\n",
       "      <td>6</td>\n",
       "      <td>True</td>\n",
       "    </tr>\n",
       "  </tbody>\n",
       "</table>\n",
       "</div>"
      ],
      "text/plain": [
       "  names  ages  marries\n",
       "0     a     6     True"
      ]
     },
     "execution_count": 42,
     "metadata": {},
     "output_type": "execute_result"
    }
   ],
   "source": [
    "pd.DataFrame([{'names':'a','ages':6,'marries':True}])"
   ]
  },
  {
   "cell_type": "code",
   "execution_count": 43,
   "id": "c0aac3c4",
   "metadata": {},
   "outputs": [
    {
     "data": {
      "text/plain": [
       "[('a', 10, False),\n",
       " ('b', 17, True),\n",
       " ('c', 12, False),\n",
       " ('d', 15, True),\n",
       " ('e', 12, True)]"
      ]
     },
     "execution_count": 43,
     "metadata": {},
     "output_type": "execute_result"
    }
   ],
   "source": [
    "list(zip(names,ages,marries))"
   ]
  },
  {
   "cell_type": "code",
   "execution_count": 44,
   "id": "01887124",
   "metadata": {},
   "outputs": [
    {
     "data": {
      "text/html": [
       "<div>\n",
       "<style scoped>\n",
       "    .dataframe tbody tr th:only-of-type {\n",
       "        vertical-align: middle;\n",
       "    }\n",
       "\n",
       "    .dataframe tbody tr th {\n",
       "        vertical-align: top;\n",
       "    }\n",
       "\n",
       "    .dataframe thead th {\n",
       "        text-align: right;\n",
       "    }\n",
       "</style>\n",
       "<table border=\"1\" class=\"dataframe\">\n",
       "  <thead>\n",
       "    <tr style=\"text-align: right;\">\n",
       "      <th></th>\n",
       "      <th>names</th>\n",
       "      <th>ages</th>\n",
       "      <th>marries</th>\n",
       "    </tr>\n",
       "  </thead>\n",
       "  <tbody>\n",
       "    <tr>\n",
       "      <th>0</th>\n",
       "      <td>a</td>\n",
       "      <td>10</td>\n",
       "      <td>False</td>\n",
       "    </tr>\n",
       "    <tr>\n",
       "      <th>1</th>\n",
       "      <td>b</td>\n",
       "      <td>17</td>\n",
       "      <td>True</td>\n",
       "    </tr>\n",
       "    <tr>\n",
       "      <th>2</th>\n",
       "      <td>c</td>\n",
       "      <td>12</td>\n",
       "      <td>False</td>\n",
       "    </tr>\n",
       "    <tr>\n",
       "      <th>3</th>\n",
       "      <td>d</td>\n",
       "      <td>15</td>\n",
       "      <td>True</td>\n",
       "    </tr>\n",
       "    <tr>\n",
       "      <th>4</th>\n",
       "      <td>e</td>\n",
       "      <td>12</td>\n",
       "      <td>True</td>\n",
       "    </tr>\n",
       "  </tbody>\n",
       "</table>\n",
       "</div>"
      ],
      "text/plain": [
       "  names  ages  marries\n",
       "0     a    10    False\n",
       "1     b    17     True\n",
       "2     c    12    False\n",
       "3     d    15     True\n",
       "4     e    12     True"
      ]
     },
     "execution_count": 44,
     "metadata": {},
     "output_type": "execute_result"
    }
   ],
   "source": [
    "pd.DataFrame([{'names':names,'ages':ages,'marries':marries} for names,ages,marries in zip(names,ages,marries)])"
   ]
  },
  {
   "cell_type": "markdown",
   "id": "888dbb6e",
   "metadata": {},
   "source": [
    "## Info() Method"
   ]
  },
  {
   "cell_type": "code",
   "execution_count": 45,
   "id": "f2dd10cc",
   "metadata": {},
   "outputs": [
    {
     "name": "stdout",
     "output_type": "stream",
     "text": [
      "<class 'pandas.core.frame.DataFrame'>\n",
      "RangeIndex: 5 entries, 0 to 4\n",
      "Data columns (total 3 columns):\n",
      " #   Column   Non-Null Count  Dtype \n",
      "---  ------   --------------  ----- \n",
      " 0   names    5 non-null      object\n",
      " 1   ages     5 non-null      int64 \n",
      " 2   marries  5 non-null      bool  \n",
      "dtypes: bool(1), int64(1), object(1)\n",
      "memory usage: 213.0+ bytes\n"
     ]
    }
   ],
   "source": [
    "# Info Methods Describe About Summary DataSets\n",
    "df.info()"
   ]
  },
  {
   "cell_type": "code",
   "execution_count": 46,
   "id": "560ab5fd",
   "metadata": {},
   "outputs": [
    {
     "name": "stdout",
     "output_type": "stream",
     "text": [
      "<class 'pandas.core.frame.DataFrame'>\n",
      "RangeIndex: 5 entries, 0 to 4\n",
      "Columns: 3 entries, names to marries\n",
      "dtypes: bool(1), int64(1), object(1)\n",
      "memory usage: 213.0+ bytes\n"
     ]
    }
   ],
   "source": [
    "df.info(verbose=False)"
   ]
  },
  {
   "cell_type": "code",
   "execution_count": 47,
   "id": "00553df9",
   "metadata": {},
   "outputs": [
    {
     "name": "stdout",
     "output_type": "stream",
     "text": [
      "<class 'pandas.core.frame.DataFrame'>\n",
      "RangeIndex: 5 entries, 0 to 4\n",
      "Columns: 3 entries, names to marries\n",
      "dtypes: bool(1), int64(1), object(1)\n",
      "memory usage: 213.0+ bytes\n"
     ]
    }
   ],
   "source": [
    "df.info(max_cols=2)"
   ]
  },
  {
   "cell_type": "code",
   "execution_count": 48,
   "id": "9cb55fc0",
   "metadata": {},
   "outputs": [
    {
     "name": "stdout",
     "output_type": "stream",
     "text": [
      "<class 'pandas.core.frame.DataFrame'>\n",
      "RangeIndex: 5 entries, 0 to 4\n",
      "Data columns (total 3 columns):\n",
      " #   Column   Non-Null Count  Dtype \n",
      "---  ------   --------------  ----- \n",
      " 0   names    5 non-null      object\n",
      " 1   ages     5 non-null      int64 \n",
      " 2   marries  5 non-null      bool  \n",
      "dtypes: bool(1), int64(1), object(1)"
     ]
    }
   ],
   "source": [
    "df.info(memory_usage=False)"
   ]
  },
  {
   "cell_type": "code",
   "execution_count": 49,
   "id": "2d6496c3",
   "metadata": {},
   "outputs": [
    {
     "name": "stdout",
     "output_type": "stream",
     "text": [
      "<class 'pandas.core.frame.DataFrame'>\n",
      "RangeIndex: 5 entries, 0 to 4\n",
      "Columns: 3 entries, names to marries\n",
      "dtypes: bool(1), int64(1), object(1)\n",
      "memory usage: 463.0 bytes\n"
     ]
    }
   ],
   "source": [
    "df.info(memory_usage='deep',verbose=False)"
   ]
  },
  {
   "cell_type": "markdown",
   "id": "7fa5a80d",
   "metadata": {},
   "source": [
    "## Reading DataSets"
   ]
  },
  {
   "cell_type": "code",
   "execution_count": 50,
   "id": "30ea2a7e",
   "metadata": {},
   "outputs": [],
   "source": [
    "#Urls\n",
    "dataurl='https://andybek.com/pandas-nutrition'"
   ]
  },
  {
   "cell_type": "code",
   "execution_count": 51,
   "id": "bf650e06",
   "metadata": {},
   "outputs": [],
   "source": [
    "nut=pd.read_csv(dataurl)"
   ]
  },
  {
   "cell_type": "code",
   "execution_count": 52,
   "id": "4092091e",
   "metadata": {},
   "outputs": [
    {
     "data": {
      "text/html": [
       "<div>\n",
       "<style scoped>\n",
       "    .dataframe tbody tr th:only-of-type {\n",
       "        vertical-align: middle;\n",
       "    }\n",
       "\n",
       "    .dataframe tbody tr th {\n",
       "        vertical-align: top;\n",
       "    }\n",
       "\n",
       "    .dataframe thead th {\n",
       "        text-align: right;\n",
       "    }\n",
       "</style>\n",
       "<table border=\"1\" class=\"dataframe\">\n",
       "  <thead>\n",
       "    <tr style=\"text-align: right;\">\n",
       "      <th></th>\n",
       "      <th>Unnamed: 0</th>\n",
       "      <th>name</th>\n",
       "      <th>serving_size</th>\n",
       "      <th>calories</th>\n",
       "      <th>total_fat</th>\n",
       "      <th>saturated_fat</th>\n",
       "      <th>cholesterol</th>\n",
       "      <th>sodium</th>\n",
       "      <th>choline</th>\n",
       "      <th>folate</th>\n",
       "      <th>...</th>\n",
       "      <th>fat</th>\n",
       "      <th>saturated_fatty_acids</th>\n",
       "      <th>monounsaturated_fatty_acids</th>\n",
       "      <th>polyunsaturated_fatty_acids</th>\n",
       "      <th>fatty_acids_total_trans</th>\n",
       "      <th>alcohol</th>\n",
       "      <th>ash</th>\n",
       "      <th>caffeine</th>\n",
       "      <th>theobromine</th>\n",
       "      <th>water</th>\n",
       "    </tr>\n",
       "  </thead>\n",
       "  <tbody>\n",
       "    <tr>\n",
       "      <th>0</th>\n",
       "      <td>0</td>\n",
       "      <td>Cornstarch</td>\n",
       "      <td>100 g</td>\n",
       "      <td>381</td>\n",
       "      <td>0.1g</td>\n",
       "      <td>NaN</td>\n",
       "      <td>0</td>\n",
       "      <td>9.00 mg</td>\n",
       "      <td>0.4 mg</td>\n",
       "      <td>0.00 mcg</td>\n",
       "      <td>...</td>\n",
       "      <td>0.05 g</td>\n",
       "      <td>0.009 g</td>\n",
       "      <td>0.016 g</td>\n",
       "      <td>0.025 g</td>\n",
       "      <td>0.00 mg</td>\n",
       "      <td>0.0 g</td>\n",
       "      <td>0.09 g</td>\n",
       "      <td>0.00 mg</td>\n",
       "      <td>0.00 mg</td>\n",
       "      <td>8.32 g</td>\n",
       "    </tr>\n",
       "    <tr>\n",
       "      <th>1</th>\n",
       "      <td>1</td>\n",
       "      <td>Nuts, pecans</td>\n",
       "      <td>100 g</td>\n",
       "      <td>691</td>\n",
       "      <td>72g</td>\n",
       "      <td>6.2g</td>\n",
       "      <td>0</td>\n",
       "      <td>0.00 mg</td>\n",
       "      <td>40.5 mg</td>\n",
       "      <td>22.00 mcg</td>\n",
       "      <td>...</td>\n",
       "      <td>71.97 g</td>\n",
       "      <td>6.180 g</td>\n",
       "      <td>40.801 g</td>\n",
       "      <td>21.614 g</td>\n",
       "      <td>0.00 mg</td>\n",
       "      <td>0.0 g</td>\n",
       "      <td>1.49 g</td>\n",
       "      <td>0.00 mg</td>\n",
       "      <td>0.00 mg</td>\n",
       "      <td>3.52 g</td>\n",
       "    </tr>\n",
       "  </tbody>\n",
       "</table>\n",
       "<p>2 rows × 77 columns</p>\n",
       "</div>"
      ],
      "text/plain": [
       "   Unnamed: 0          name serving_size  calories total_fat saturated_fat  \\\n",
       "0           0    Cornstarch        100 g       381      0.1g           NaN   \n",
       "1           1  Nuts, pecans        100 g       691       72g          6.2g   \n",
       "\n",
       "  cholesterol   sodium  choline     folate  ...      fat  \\\n",
       "0           0  9.00 mg   0.4 mg   0.00 mcg  ...   0.05 g   \n",
       "1           0  0.00 mg  40.5 mg  22.00 mcg  ...  71.97 g   \n",
       "\n",
       "  saturated_fatty_acids monounsaturated_fatty_acids  \\\n",
       "0               0.009 g                     0.016 g   \n",
       "1               6.180 g                    40.801 g   \n",
       "\n",
       "  polyunsaturated_fatty_acids fatty_acids_total_trans alcohol     ash  \\\n",
       "0                     0.025 g                 0.00 mg   0.0 g  0.09 g   \n",
       "1                    21.614 g                 0.00 mg   0.0 g  1.49 g   \n",
       "\n",
       "  caffeine theobromine   water  \n",
       "0  0.00 mg     0.00 mg  8.32 g  \n",
       "1  0.00 mg     0.00 mg  3.52 g  \n",
       "\n",
       "[2 rows x 77 columns]"
      ]
     },
     "execution_count": 52,
     "metadata": {},
     "output_type": "execute_result"
    }
   ],
   "source": [
    "nut.head(2)"
   ]
  },
  {
   "cell_type": "code",
   "execution_count": 53,
   "id": "a86af7fe",
   "metadata": {},
   "outputs": [
    {
     "name": "stdout",
     "output_type": "stream",
     "text": [
      "<class 'pandas.core.frame.DataFrame'>\n",
      "RangeIndex: 8789 entries, 0 to 8788\n",
      "Columns: 77 entries, Unnamed: 0 to water\n",
      "dtypes: int64(3), object(74)\n",
      "memory usage: 39.2 MB\n"
     ]
    }
   ],
   "source": [
    "nut.info(verbose=False,memory_usage='deep')"
   ]
  },
  {
   "cell_type": "markdown",
   "id": "53735e42",
   "metadata": {},
   "source": [
    "## Removing Duplicated Index"
   ]
  },
  {
   "cell_type": "code",
   "execution_count": 54,
   "id": "564a1d9e",
   "metadata": {},
   "outputs": [
    {
     "data": {
      "text/html": [
       "<div>\n",
       "<style scoped>\n",
       "    .dataframe tbody tr th:only-of-type {\n",
       "        vertical-align: middle;\n",
       "    }\n",
       "\n",
       "    .dataframe tbody tr th {\n",
       "        vertical-align: top;\n",
       "    }\n",
       "\n",
       "    .dataframe thead th {\n",
       "        text-align: right;\n",
       "    }\n",
       "</style>\n",
       "<table border=\"1\" class=\"dataframe\">\n",
       "  <thead>\n",
       "    <tr style=\"text-align: right;\">\n",
       "      <th></th>\n",
       "      <th>Unnamed: 0</th>\n",
       "      <th>name</th>\n",
       "      <th>serving_size</th>\n",
       "      <th>calories</th>\n",
       "      <th>total_fat</th>\n",
       "      <th>saturated_fat</th>\n",
       "      <th>cholesterol</th>\n",
       "      <th>sodium</th>\n",
       "      <th>choline</th>\n",
       "      <th>folate</th>\n",
       "      <th>...</th>\n",
       "      <th>fat</th>\n",
       "      <th>saturated_fatty_acids</th>\n",
       "      <th>monounsaturated_fatty_acids</th>\n",
       "      <th>polyunsaturated_fatty_acids</th>\n",
       "      <th>fatty_acids_total_trans</th>\n",
       "      <th>alcohol</th>\n",
       "      <th>ash</th>\n",
       "      <th>caffeine</th>\n",
       "      <th>theobromine</th>\n",
       "      <th>water</th>\n",
       "    </tr>\n",
       "  </thead>\n",
       "  <tbody>\n",
       "    <tr>\n",
       "      <th>0</th>\n",
       "      <td>0</td>\n",
       "      <td>Cornstarch</td>\n",
       "      <td>100 g</td>\n",
       "      <td>381</td>\n",
       "      <td>0.1g</td>\n",
       "      <td>NaN</td>\n",
       "      <td>0</td>\n",
       "      <td>9.00 mg</td>\n",
       "      <td>0.4 mg</td>\n",
       "      <td>0.00 mcg</td>\n",
       "      <td>...</td>\n",
       "      <td>0.05 g</td>\n",
       "      <td>0.009 g</td>\n",
       "      <td>0.016 g</td>\n",
       "      <td>0.025 g</td>\n",
       "      <td>0.00 mg</td>\n",
       "      <td>0.0 g</td>\n",
       "      <td>0.09 g</td>\n",
       "      <td>0.00 mg</td>\n",
       "      <td>0.00 mg</td>\n",
       "      <td>8.32 g</td>\n",
       "    </tr>\n",
       "    <tr>\n",
       "      <th>1</th>\n",
       "      <td>1</td>\n",
       "      <td>Nuts, pecans</td>\n",
       "      <td>100 g</td>\n",
       "      <td>691</td>\n",
       "      <td>72g</td>\n",
       "      <td>6.2g</td>\n",
       "      <td>0</td>\n",
       "      <td>0.00 mg</td>\n",
       "      <td>40.5 mg</td>\n",
       "      <td>22.00 mcg</td>\n",
       "      <td>...</td>\n",
       "      <td>71.97 g</td>\n",
       "      <td>6.180 g</td>\n",
       "      <td>40.801 g</td>\n",
       "      <td>21.614 g</td>\n",
       "      <td>0.00 mg</td>\n",
       "      <td>0.0 g</td>\n",
       "      <td>1.49 g</td>\n",
       "      <td>0.00 mg</td>\n",
       "      <td>0.00 mg</td>\n",
       "      <td>3.52 g</td>\n",
       "    </tr>\n",
       "    <tr>\n",
       "      <th>2</th>\n",
       "      <td>2</td>\n",
       "      <td>Eggplant, raw</td>\n",
       "      <td>100 g</td>\n",
       "      <td>25</td>\n",
       "      <td>0.2g</td>\n",
       "      <td>NaN</td>\n",
       "      <td>0</td>\n",
       "      <td>2.00 mg</td>\n",
       "      <td>6.9 mg</td>\n",
       "      <td>22.00 mcg</td>\n",
       "      <td>...</td>\n",
       "      <td>0.18 g</td>\n",
       "      <td>0.034 g</td>\n",
       "      <td>0.016 g</td>\n",
       "      <td>0.076 g</td>\n",
       "      <td>0.00 mg</td>\n",
       "      <td>0.0 g</td>\n",
       "      <td>0.66 g</td>\n",
       "      <td>0.00 mg</td>\n",
       "      <td>0.00 mg</td>\n",
       "      <td>92.30 g</td>\n",
       "    </tr>\n",
       "  </tbody>\n",
       "</table>\n",
       "<p>3 rows × 77 columns</p>\n",
       "</div>"
      ],
      "text/plain": [
       "   Unnamed: 0           name serving_size  calories total_fat saturated_fat  \\\n",
       "0           0     Cornstarch        100 g       381      0.1g           NaN   \n",
       "1           1   Nuts, pecans        100 g       691       72g          6.2g   \n",
       "2           2  Eggplant, raw        100 g        25      0.2g           NaN   \n",
       "\n",
       "  cholesterol   sodium  choline     folate  ...      fat  \\\n",
       "0           0  9.00 mg   0.4 mg   0.00 mcg  ...   0.05 g   \n",
       "1           0  0.00 mg  40.5 mg  22.00 mcg  ...  71.97 g   \n",
       "2           0  2.00 mg   6.9 mg  22.00 mcg  ...   0.18 g   \n",
       "\n",
       "  saturated_fatty_acids monounsaturated_fatty_acids  \\\n",
       "0               0.009 g                     0.016 g   \n",
       "1               6.180 g                    40.801 g   \n",
       "2               0.034 g                     0.016 g   \n",
       "\n",
       "  polyunsaturated_fatty_acids fatty_acids_total_trans alcohol     ash  \\\n",
       "0                     0.025 g                 0.00 mg   0.0 g  0.09 g   \n",
       "1                    21.614 g                 0.00 mg   0.0 g  1.49 g   \n",
       "2                     0.076 g                 0.00 mg   0.0 g  0.66 g   \n",
       "\n",
       "  caffeine theobromine    water  \n",
       "0  0.00 mg     0.00 mg   8.32 g  \n",
       "1  0.00 mg     0.00 mg   3.52 g  \n",
       "2  0.00 mg     0.00 mg  92.30 g  \n",
       "\n",
       "[3 rows x 77 columns]"
      ]
     },
     "execution_count": 54,
     "metadata": {},
     "output_type": "execute_result"
    }
   ],
   "source": [
    "nut.head(3)"
   ]
  },
  {
   "cell_type": "code",
   "execution_count": 55,
   "id": "052d05e5",
   "metadata": {},
   "outputs": [
    {
     "data": {
      "text/html": [
       "<div>\n",
       "<style scoped>\n",
       "    .dataframe tbody tr th:only-of-type {\n",
       "        vertical-align: middle;\n",
       "    }\n",
       "\n",
       "    .dataframe tbody tr th {\n",
       "        vertical-align: top;\n",
       "    }\n",
       "\n",
       "    .dataframe thead th {\n",
       "        text-align: right;\n",
       "    }\n",
       "</style>\n",
       "<table border=\"1\" class=\"dataframe\">\n",
       "  <thead>\n",
       "    <tr style=\"text-align: right;\">\n",
       "      <th></th>\n",
       "      <th>name</th>\n",
       "      <th>serving_size</th>\n",
       "      <th>calories</th>\n",
       "      <th>total_fat</th>\n",
       "      <th>saturated_fat</th>\n",
       "      <th>cholesterol</th>\n",
       "      <th>sodium</th>\n",
       "      <th>choline</th>\n",
       "      <th>folate</th>\n",
       "      <th>folic_acid</th>\n",
       "      <th>...</th>\n",
       "      <th>fat</th>\n",
       "      <th>saturated_fatty_acids</th>\n",
       "      <th>monounsaturated_fatty_acids</th>\n",
       "      <th>polyunsaturated_fatty_acids</th>\n",
       "      <th>fatty_acids_total_trans</th>\n",
       "      <th>alcohol</th>\n",
       "      <th>ash</th>\n",
       "      <th>caffeine</th>\n",
       "      <th>theobromine</th>\n",
       "      <th>water</th>\n",
       "    </tr>\n",
       "    <tr>\n",
       "      <th>Unnamed: 0</th>\n",
       "      <th></th>\n",
       "      <th></th>\n",
       "      <th></th>\n",
       "      <th></th>\n",
       "      <th></th>\n",
       "      <th></th>\n",
       "      <th></th>\n",
       "      <th></th>\n",
       "      <th></th>\n",
       "      <th></th>\n",
       "      <th></th>\n",
       "      <th></th>\n",
       "      <th></th>\n",
       "      <th></th>\n",
       "      <th></th>\n",
       "      <th></th>\n",
       "      <th></th>\n",
       "      <th></th>\n",
       "      <th></th>\n",
       "      <th></th>\n",
       "      <th></th>\n",
       "    </tr>\n",
       "  </thead>\n",
       "  <tbody>\n",
       "    <tr>\n",
       "      <th>0</th>\n",
       "      <td>Cornstarch</td>\n",
       "      <td>100 g</td>\n",
       "      <td>381</td>\n",
       "      <td>0.1g</td>\n",
       "      <td>NaN</td>\n",
       "      <td>0</td>\n",
       "      <td>9.00 mg</td>\n",
       "      <td>0.4 mg</td>\n",
       "      <td>0.00 mcg</td>\n",
       "      <td>0.00 mcg</td>\n",
       "      <td>...</td>\n",
       "      <td>0.05 g</td>\n",
       "      <td>0.009 g</td>\n",
       "      <td>0.016 g</td>\n",
       "      <td>0.025 g</td>\n",
       "      <td>0.00 mg</td>\n",
       "      <td>0.0 g</td>\n",
       "      <td>0.09 g</td>\n",
       "      <td>0.00 mg</td>\n",
       "      <td>0.00 mg</td>\n",
       "      <td>8.32 g</td>\n",
       "    </tr>\n",
       "    <tr>\n",
       "      <th>1</th>\n",
       "      <td>Nuts, pecans</td>\n",
       "      <td>100 g</td>\n",
       "      <td>691</td>\n",
       "      <td>72g</td>\n",
       "      <td>6.2g</td>\n",
       "      <td>0</td>\n",
       "      <td>0.00 mg</td>\n",
       "      <td>40.5 mg</td>\n",
       "      <td>22.00 mcg</td>\n",
       "      <td>0.00 mcg</td>\n",
       "      <td>...</td>\n",
       "      <td>71.97 g</td>\n",
       "      <td>6.180 g</td>\n",
       "      <td>40.801 g</td>\n",
       "      <td>21.614 g</td>\n",
       "      <td>0.00 mg</td>\n",
       "      <td>0.0 g</td>\n",
       "      <td>1.49 g</td>\n",
       "      <td>0.00 mg</td>\n",
       "      <td>0.00 mg</td>\n",
       "      <td>3.52 g</td>\n",
       "    </tr>\n",
       "    <tr>\n",
       "      <th>2</th>\n",
       "      <td>Eggplant, raw</td>\n",
       "      <td>100 g</td>\n",
       "      <td>25</td>\n",
       "      <td>0.2g</td>\n",
       "      <td>NaN</td>\n",
       "      <td>0</td>\n",
       "      <td>2.00 mg</td>\n",
       "      <td>6.9 mg</td>\n",
       "      <td>22.00 mcg</td>\n",
       "      <td>0.00 mcg</td>\n",
       "      <td>...</td>\n",
       "      <td>0.18 g</td>\n",
       "      <td>0.034 g</td>\n",
       "      <td>0.016 g</td>\n",
       "      <td>0.076 g</td>\n",
       "      <td>0.00 mg</td>\n",
       "      <td>0.0 g</td>\n",
       "      <td>0.66 g</td>\n",
       "      <td>0.00 mg</td>\n",
       "      <td>0.00 mg</td>\n",
       "      <td>92.30 g</td>\n",
       "    </tr>\n",
       "  </tbody>\n",
       "</table>\n",
       "<p>3 rows × 76 columns</p>\n",
       "</div>"
      ],
      "text/plain": [
       "                     name serving_size  calories total_fat saturated_fat  \\\n",
       "Unnamed: 0                                                                 \n",
       "0              Cornstarch        100 g       381      0.1g           NaN   \n",
       "1            Nuts, pecans        100 g       691       72g          6.2g   \n",
       "2           Eggplant, raw        100 g        25      0.2g           NaN   \n",
       "\n",
       "           cholesterol   sodium  choline     folate folic_acid  ...      fat  \\\n",
       "Unnamed: 0                                                      ...            \n",
       "0                    0  9.00 mg   0.4 mg   0.00 mcg   0.00 mcg  ...   0.05 g   \n",
       "1                    0  0.00 mg  40.5 mg  22.00 mcg   0.00 mcg  ...  71.97 g   \n",
       "2                    0  2.00 mg   6.9 mg  22.00 mcg   0.00 mcg  ...   0.18 g   \n",
       "\n",
       "           saturated_fatty_acids monounsaturated_fatty_acids  \\\n",
       "Unnamed: 0                                                     \n",
       "0                        0.009 g                     0.016 g   \n",
       "1                        6.180 g                    40.801 g   \n",
       "2                        0.034 g                     0.016 g   \n",
       "\n",
       "           polyunsaturated_fatty_acids fatty_acids_total_trans alcohol  \\\n",
       "Unnamed: 0                                                               \n",
       "0                              0.025 g                 0.00 mg   0.0 g   \n",
       "1                             21.614 g                 0.00 mg   0.0 g   \n",
       "2                              0.076 g                 0.00 mg   0.0 g   \n",
       "\n",
       "               ash caffeine theobromine    water  \n",
       "Unnamed: 0                                        \n",
       "0           0.09 g  0.00 mg     0.00 mg   8.32 g  \n",
       "1           1.49 g  0.00 mg     0.00 mg   3.52 g  \n",
       "2           0.66 g  0.00 mg     0.00 mg  92.30 g  \n",
       "\n",
       "[3 rows x 76 columns]"
      ]
     },
     "execution_count": 55,
     "metadata": {},
     "output_type": "execute_result"
    }
   ],
   "source": [
    "nut.set_index('Unnamed: 0').head(3)"
   ]
  },
  {
   "cell_type": "code",
   "execution_count": 56,
   "id": "df3d1ef7",
   "metadata": {
    "scrolled": true
   },
   "outputs": [
    {
     "data": {
      "text/html": [
       "<div>\n",
       "<style scoped>\n",
       "    .dataframe tbody tr th:only-of-type {\n",
       "        vertical-align: middle;\n",
       "    }\n",
       "\n",
       "    .dataframe tbody tr th {\n",
       "        vertical-align: top;\n",
       "    }\n",
       "\n",
       "    .dataframe thead th {\n",
       "        text-align: right;\n",
       "    }\n",
       "</style>\n",
       "<table border=\"1\" class=\"dataframe\">\n",
       "  <thead>\n",
       "    <tr style=\"text-align: right;\">\n",
       "      <th></th>\n",
       "      <th>name</th>\n",
       "      <th>serving_size</th>\n",
       "      <th>calories</th>\n",
       "      <th>total_fat</th>\n",
       "      <th>saturated_fat</th>\n",
       "      <th>cholesterol</th>\n",
       "      <th>sodium</th>\n",
       "      <th>choline</th>\n",
       "      <th>folate</th>\n",
       "      <th>folic_acid</th>\n",
       "      <th>...</th>\n",
       "      <th>fat</th>\n",
       "      <th>saturated_fatty_acids</th>\n",
       "      <th>monounsaturated_fatty_acids</th>\n",
       "      <th>polyunsaturated_fatty_acids</th>\n",
       "      <th>fatty_acids_total_trans</th>\n",
       "      <th>alcohol</th>\n",
       "      <th>ash</th>\n",
       "      <th>caffeine</th>\n",
       "      <th>theobromine</th>\n",
       "      <th>water</th>\n",
       "    </tr>\n",
       "  </thead>\n",
       "  <tbody>\n",
       "    <tr>\n",
       "      <th>0</th>\n",
       "      <td>Cornstarch</td>\n",
       "      <td>100 g</td>\n",
       "      <td>381</td>\n",
       "      <td>0.1g</td>\n",
       "      <td>NaN</td>\n",
       "      <td>0</td>\n",
       "      <td>9.00 mg</td>\n",
       "      <td>0.4 mg</td>\n",
       "      <td>0.00 mcg</td>\n",
       "      <td>0.00 mcg</td>\n",
       "      <td>...</td>\n",
       "      <td>0.05 g</td>\n",
       "      <td>0.009 g</td>\n",
       "      <td>0.016 g</td>\n",
       "      <td>0.025 g</td>\n",
       "      <td>0.00 mg</td>\n",
       "      <td>0.0 g</td>\n",
       "      <td>0.09 g</td>\n",
       "      <td>0.00 mg</td>\n",
       "      <td>0.00 mg</td>\n",
       "      <td>8.32 g</td>\n",
       "    </tr>\n",
       "    <tr>\n",
       "      <th>1</th>\n",
       "      <td>Nuts, pecans</td>\n",
       "      <td>100 g</td>\n",
       "      <td>691</td>\n",
       "      <td>72g</td>\n",
       "      <td>6.2g</td>\n",
       "      <td>0</td>\n",
       "      <td>0.00 mg</td>\n",
       "      <td>40.5 mg</td>\n",
       "      <td>22.00 mcg</td>\n",
       "      <td>0.00 mcg</td>\n",
       "      <td>...</td>\n",
       "      <td>71.97 g</td>\n",
       "      <td>6.180 g</td>\n",
       "      <td>40.801 g</td>\n",
       "      <td>21.614 g</td>\n",
       "      <td>0.00 mg</td>\n",
       "      <td>0.0 g</td>\n",
       "      <td>1.49 g</td>\n",
       "      <td>0.00 mg</td>\n",
       "      <td>0.00 mg</td>\n",
       "      <td>3.52 g</td>\n",
       "    </tr>\n",
       "    <tr>\n",
       "      <th>2</th>\n",
       "      <td>Eggplant, raw</td>\n",
       "      <td>100 g</td>\n",
       "      <td>25</td>\n",
       "      <td>0.2g</td>\n",
       "      <td>NaN</td>\n",
       "      <td>0</td>\n",
       "      <td>2.00 mg</td>\n",
       "      <td>6.9 mg</td>\n",
       "      <td>22.00 mcg</td>\n",
       "      <td>0.00 mcg</td>\n",
       "      <td>...</td>\n",
       "      <td>0.18 g</td>\n",
       "      <td>0.034 g</td>\n",
       "      <td>0.016 g</td>\n",
       "      <td>0.076 g</td>\n",
       "      <td>0.00 mg</td>\n",
       "      <td>0.0 g</td>\n",
       "      <td>0.66 g</td>\n",
       "      <td>0.00 mg</td>\n",
       "      <td>0.00 mg</td>\n",
       "      <td>92.30 g</td>\n",
       "    </tr>\n",
       "  </tbody>\n",
       "</table>\n",
       "<p>3 rows × 76 columns</p>\n",
       "</div>"
      ],
      "text/plain": [
       "            name serving_size  calories total_fat saturated_fat cholesterol  \\\n",
       "0     Cornstarch        100 g       381      0.1g           NaN           0   \n",
       "1   Nuts, pecans        100 g       691       72g          6.2g           0   \n",
       "2  Eggplant, raw        100 g        25      0.2g           NaN           0   \n",
       "\n",
       "    sodium  choline     folate folic_acid  ...      fat saturated_fatty_acids  \\\n",
       "0  9.00 mg   0.4 mg   0.00 mcg   0.00 mcg  ...   0.05 g               0.009 g   \n",
       "1  0.00 mg  40.5 mg  22.00 mcg   0.00 mcg  ...  71.97 g               6.180 g   \n",
       "2  2.00 mg   6.9 mg  22.00 mcg   0.00 mcg  ...   0.18 g               0.034 g   \n",
       "\n",
       "  monounsaturated_fatty_acids polyunsaturated_fatty_acids  \\\n",
       "0                     0.016 g                     0.025 g   \n",
       "1                    40.801 g                    21.614 g   \n",
       "2                     0.016 g                     0.076 g   \n",
       "\n",
       "  fatty_acids_total_trans alcohol     ash caffeine theobromine    water  \n",
       "0                 0.00 mg   0.0 g  0.09 g  0.00 mg     0.00 mg   8.32 g  \n",
       "1                 0.00 mg   0.0 g  1.49 g  0.00 mg     0.00 mg   3.52 g  \n",
       "2                 0.00 mg   0.0 g  0.66 g  0.00 mg     0.00 mg  92.30 g  \n",
       "\n",
       "[3 rows x 76 columns]"
      ]
     },
     "execution_count": 56,
     "metadata": {},
     "output_type": "execute_result"
    }
   ],
   "source": [
    "nut.drop('Unnamed: 0',axis=1).head(3)"
   ]
  },
  {
   "cell_type": "code",
   "execution_count": 57,
   "id": "d6f94898",
   "metadata": {},
   "outputs": [],
   "source": [
    "# it is good\n",
    "nut=pd.read_csv(dataurl,index_col=[0])"
   ]
  },
  {
   "cell_type": "code",
   "execution_count": 58,
   "id": "3ce874a6",
   "metadata": {},
   "outputs": [
    {
     "data": {
      "text/html": [
       "<div>\n",
       "<style scoped>\n",
       "    .dataframe tbody tr th:only-of-type {\n",
       "        vertical-align: middle;\n",
       "    }\n",
       "\n",
       "    .dataframe tbody tr th {\n",
       "        vertical-align: top;\n",
       "    }\n",
       "\n",
       "    .dataframe thead th {\n",
       "        text-align: right;\n",
       "    }\n",
       "</style>\n",
       "<table border=\"1\" class=\"dataframe\">\n",
       "  <thead>\n",
       "    <tr style=\"text-align: right;\">\n",
       "      <th></th>\n",
       "      <th>name</th>\n",
       "      <th>serving_size</th>\n",
       "      <th>calories</th>\n",
       "      <th>total_fat</th>\n",
       "      <th>saturated_fat</th>\n",
       "      <th>cholesterol</th>\n",
       "      <th>sodium</th>\n",
       "      <th>choline</th>\n",
       "      <th>folate</th>\n",
       "      <th>folic_acid</th>\n",
       "      <th>...</th>\n",
       "      <th>fat</th>\n",
       "      <th>saturated_fatty_acids</th>\n",
       "      <th>monounsaturated_fatty_acids</th>\n",
       "      <th>polyunsaturated_fatty_acids</th>\n",
       "      <th>fatty_acids_total_trans</th>\n",
       "      <th>alcohol</th>\n",
       "      <th>ash</th>\n",
       "      <th>caffeine</th>\n",
       "      <th>theobromine</th>\n",
       "      <th>water</th>\n",
       "    </tr>\n",
       "  </thead>\n",
       "  <tbody>\n",
       "    <tr>\n",
       "      <th>0</th>\n",
       "      <td>Cornstarch</td>\n",
       "      <td>100 g</td>\n",
       "      <td>381</td>\n",
       "      <td>0.1g</td>\n",
       "      <td>NaN</td>\n",
       "      <td>0</td>\n",
       "      <td>9.00 mg</td>\n",
       "      <td>0.4 mg</td>\n",
       "      <td>0.00 mcg</td>\n",
       "      <td>0.00 mcg</td>\n",
       "      <td>...</td>\n",
       "      <td>0.05 g</td>\n",
       "      <td>0.009 g</td>\n",
       "      <td>0.016 g</td>\n",
       "      <td>0.025 g</td>\n",
       "      <td>0.00 mg</td>\n",
       "      <td>0.0 g</td>\n",
       "      <td>0.09 g</td>\n",
       "      <td>0.00 mg</td>\n",
       "      <td>0.00 mg</td>\n",
       "      <td>8.32 g</td>\n",
       "    </tr>\n",
       "    <tr>\n",
       "      <th>1</th>\n",
       "      <td>Nuts, pecans</td>\n",
       "      <td>100 g</td>\n",
       "      <td>691</td>\n",
       "      <td>72g</td>\n",
       "      <td>6.2g</td>\n",
       "      <td>0</td>\n",
       "      <td>0.00 mg</td>\n",
       "      <td>40.5 mg</td>\n",
       "      <td>22.00 mcg</td>\n",
       "      <td>0.00 mcg</td>\n",
       "      <td>...</td>\n",
       "      <td>71.97 g</td>\n",
       "      <td>6.180 g</td>\n",
       "      <td>40.801 g</td>\n",
       "      <td>21.614 g</td>\n",
       "      <td>0.00 mg</td>\n",
       "      <td>0.0 g</td>\n",
       "      <td>1.49 g</td>\n",
       "      <td>0.00 mg</td>\n",
       "      <td>0.00 mg</td>\n",
       "      <td>3.52 g</td>\n",
       "    </tr>\n",
       "    <tr>\n",
       "      <th>2</th>\n",
       "      <td>Eggplant, raw</td>\n",
       "      <td>100 g</td>\n",
       "      <td>25</td>\n",
       "      <td>0.2g</td>\n",
       "      <td>NaN</td>\n",
       "      <td>0</td>\n",
       "      <td>2.00 mg</td>\n",
       "      <td>6.9 mg</td>\n",
       "      <td>22.00 mcg</td>\n",
       "      <td>0.00 mcg</td>\n",
       "      <td>...</td>\n",
       "      <td>0.18 g</td>\n",
       "      <td>0.034 g</td>\n",
       "      <td>0.016 g</td>\n",
       "      <td>0.076 g</td>\n",
       "      <td>0.00 mg</td>\n",
       "      <td>0.0 g</td>\n",
       "      <td>0.66 g</td>\n",
       "      <td>0.00 mg</td>\n",
       "      <td>0.00 mg</td>\n",
       "      <td>92.30 g</td>\n",
       "    </tr>\n",
       "  </tbody>\n",
       "</table>\n",
       "<p>3 rows × 76 columns</p>\n",
       "</div>"
      ],
      "text/plain": [
       "            name serving_size  calories total_fat saturated_fat cholesterol  \\\n",
       "0     Cornstarch        100 g       381      0.1g           NaN           0   \n",
       "1   Nuts, pecans        100 g       691       72g          6.2g           0   \n",
       "2  Eggplant, raw        100 g        25      0.2g           NaN           0   \n",
       "\n",
       "    sodium  choline     folate folic_acid  ...      fat saturated_fatty_acids  \\\n",
       "0  9.00 mg   0.4 mg   0.00 mcg   0.00 mcg  ...   0.05 g               0.009 g   \n",
       "1  0.00 mg  40.5 mg  22.00 mcg   0.00 mcg  ...  71.97 g               6.180 g   \n",
       "2  2.00 mg   6.9 mg  22.00 mcg   0.00 mcg  ...   0.18 g               0.034 g   \n",
       "\n",
       "  monounsaturated_fatty_acids polyunsaturated_fatty_acids  \\\n",
       "0                     0.016 g                     0.025 g   \n",
       "1                    40.801 g                    21.614 g   \n",
       "2                     0.016 g                     0.076 g   \n",
       "\n",
       "  fatty_acids_total_trans alcohol     ash caffeine theobromine    water  \n",
       "0                 0.00 mg   0.0 g  0.09 g  0.00 mg     0.00 mg   8.32 g  \n",
       "1                 0.00 mg   0.0 g  1.49 g  0.00 mg     0.00 mg   3.52 g  \n",
       "2                 0.00 mg   0.0 g  0.66 g  0.00 mg     0.00 mg  92.30 g  \n",
       "\n",
       "[3 rows x 76 columns]"
      ]
     },
     "execution_count": 58,
     "metadata": {},
     "output_type": "execute_result"
    }
   ],
   "source": [
    "nut.head(3)"
   ]
  },
  {
   "cell_type": "markdown",
   "id": "c266ce84",
   "metadata": {},
   "source": [
    "## The sample() Method"
   ]
  },
  {
   "cell_type": "code",
   "execution_count": 59,
   "id": "d6a6854a",
   "metadata": {},
   "outputs": [
    {
     "data": {
      "text/html": [
       "<div>\n",
       "<style scoped>\n",
       "    .dataframe tbody tr th:only-of-type {\n",
       "        vertical-align: middle;\n",
       "    }\n",
       "\n",
       "    .dataframe tbody tr th {\n",
       "        vertical-align: top;\n",
       "    }\n",
       "\n",
       "    .dataframe thead th {\n",
       "        text-align: right;\n",
       "    }\n",
       "</style>\n",
       "<table border=\"1\" class=\"dataframe\">\n",
       "  <thead>\n",
       "    <tr style=\"text-align: right;\">\n",
       "      <th></th>\n",
       "      <th>name</th>\n",
       "      <th>serving_size</th>\n",
       "      <th>calories</th>\n",
       "      <th>total_fat</th>\n",
       "      <th>saturated_fat</th>\n",
       "      <th>cholesterol</th>\n",
       "      <th>sodium</th>\n",
       "      <th>choline</th>\n",
       "      <th>folate</th>\n",
       "      <th>folic_acid</th>\n",
       "      <th>...</th>\n",
       "      <th>fat</th>\n",
       "      <th>saturated_fatty_acids</th>\n",
       "      <th>monounsaturated_fatty_acids</th>\n",
       "      <th>polyunsaturated_fatty_acids</th>\n",
       "      <th>fatty_acids_total_trans</th>\n",
       "      <th>alcohol</th>\n",
       "      <th>ash</th>\n",
       "      <th>caffeine</th>\n",
       "      <th>theobromine</th>\n",
       "      <th>water</th>\n",
       "    </tr>\n",
       "  </thead>\n",
       "  <tbody>\n",
       "    <tr>\n",
       "      <th>317</th>\n",
       "      <td>Babyfood, pretzels</td>\n",
       "      <td>100 g</td>\n",
       "      <td>397</td>\n",
       "      <td>2g</td>\n",
       "      <td>0.4g</td>\n",
       "      <td>0</td>\n",
       "      <td>269.00 mg</td>\n",
       "      <td>0.0 mg</td>\n",
       "      <td>85.00 mcg</td>\n",
       "      <td>65.00 mcg</td>\n",
       "      <td>...</td>\n",
       "      <td>2.00 g</td>\n",
       "      <td>0.400 g</td>\n",
       "      <td>0.238 g</td>\n",
       "      <td>1.054 g</td>\n",
       "      <td>0.00 mg</td>\n",
       "      <td>0.0 g</td>\n",
       "      <td>1.00 g</td>\n",
       "      <td>0.00 mg</td>\n",
       "      <td>0.00 mg</td>\n",
       "      <td>4.00 g</td>\n",
       "    </tr>\n",
       "  </tbody>\n",
       "</table>\n",
       "<p>1 rows × 76 columns</p>\n",
       "</div>"
      ],
      "text/plain": [
       "                   name serving_size  calories total_fat saturated_fat  \\\n",
       "317  Babyfood, pretzels        100 g       397        2g          0.4g   \n",
       "\n",
       "    cholesterol     sodium choline     folate folic_acid  ...     fat  \\\n",
       "317           0  269.00 mg  0.0 mg  85.00 mcg  65.00 mcg  ...  2.00 g   \n",
       "\n",
       "    saturated_fatty_acids monounsaturated_fatty_acids  \\\n",
       "317               0.400 g                     0.238 g   \n",
       "\n",
       "    polyunsaturated_fatty_acids fatty_acids_total_trans alcohol     ash  \\\n",
       "317                     1.054 g                 0.00 mg   0.0 g  1.00 g   \n",
       "\n",
       "    caffeine theobromine   water  \n",
       "317  0.00 mg     0.00 mg  4.00 g  \n",
       "\n",
       "[1 rows x 76 columns]"
      ]
     },
     "execution_count": 59,
     "metadata": {},
     "output_type": "execute_result"
    }
   ],
   "source": [
    "# Ramdomly Coming\n",
    "nut.sample()"
   ]
  },
  {
   "cell_type": "code",
   "execution_count": 60,
   "id": "aba43ea9",
   "metadata": {},
   "outputs": [
    {
     "data": {
      "text/html": [
       "<div>\n",
       "<style scoped>\n",
       "    .dataframe tbody tr th:only-of-type {\n",
       "        vertical-align: middle;\n",
       "    }\n",
       "\n",
       "    .dataframe tbody tr th {\n",
       "        vertical-align: top;\n",
       "    }\n",
       "\n",
       "    .dataframe thead th {\n",
       "        text-align: right;\n",
       "    }\n",
       "</style>\n",
       "<table border=\"1\" class=\"dataframe\">\n",
       "  <thead>\n",
       "    <tr style=\"text-align: right;\">\n",
       "      <th></th>\n",
       "      <th>name</th>\n",
       "      <th>serving_size</th>\n",
       "      <th>calories</th>\n",
       "      <th>total_fat</th>\n",
       "      <th>saturated_fat</th>\n",
       "      <th>cholesterol</th>\n",
       "      <th>sodium</th>\n",
       "      <th>choline</th>\n",
       "      <th>folate</th>\n",
       "      <th>folic_acid</th>\n",
       "      <th>...</th>\n",
       "      <th>fat</th>\n",
       "      <th>saturated_fatty_acids</th>\n",
       "      <th>monounsaturated_fatty_acids</th>\n",
       "      <th>polyunsaturated_fatty_acids</th>\n",
       "      <th>fatty_acids_total_trans</th>\n",
       "      <th>alcohol</th>\n",
       "      <th>ash</th>\n",
       "      <th>caffeine</th>\n",
       "      <th>theobromine</th>\n",
       "      <th>water</th>\n",
       "    </tr>\n",
       "  </thead>\n",
       "  <tbody>\n",
       "    <tr>\n",
       "      <th>8785</th>\n",
       "      <td>Lamb, cooked, separable lean only, composite o...</td>\n",
       "      <td>100 g</td>\n",
       "      <td>206</td>\n",
       "      <td>8.9g</td>\n",
       "      <td>3.9g</td>\n",
       "      <td>109mg</td>\n",
       "      <td>50.00 mg</td>\n",
       "      <td>0</td>\n",
       "      <td>0.00 mcg</td>\n",
       "      <td>0.00 mcg</td>\n",
       "      <td>...</td>\n",
       "      <td>8.86 g</td>\n",
       "      <td>3.860 g</td>\n",
       "      <td>3.480 g</td>\n",
       "      <td>0.520 g</td>\n",
       "      <td>109.00 mg</td>\n",
       "      <td>0</td>\n",
       "      <td>1.60 g</td>\n",
       "      <td>0</td>\n",
       "      <td>0</td>\n",
       "      <td>59.95 g</td>\n",
       "    </tr>\n",
       "  </tbody>\n",
       "</table>\n",
       "<p>1 rows × 76 columns</p>\n",
       "</div>"
      ],
      "text/plain": [
       "                                                   name serving_size  \\\n",
       "8785  Lamb, cooked, separable lean only, composite o...        100 g   \n",
       "\n",
       "      calories total_fat saturated_fat cholesterol    sodium choline  \\\n",
       "8785       206      8.9g          3.9g       109mg  50.00 mg       0   \n",
       "\n",
       "        folate folic_acid  ...     fat saturated_fatty_acids  \\\n",
       "8785  0.00 mcg   0.00 mcg  ...  8.86 g               3.860 g   \n",
       "\n",
       "     monounsaturated_fatty_acids polyunsaturated_fatty_acids  \\\n",
       "8785                     3.480 g                     0.520 g   \n",
       "\n",
       "     fatty_acids_total_trans alcohol     ash caffeine theobromine    water  \n",
       "8785               109.00 mg       0  1.60 g        0           0  59.95 g  \n",
       "\n",
       "[1 rows x 76 columns]"
      ]
     },
     "execution_count": 60,
     "metadata": {},
     "output_type": "execute_result"
    }
   ],
   "source": [
    "# If you set random_sate it do not change when you refresh\n",
    "nut.sample(random_state=1)"
   ]
  },
  {
   "cell_type": "code",
   "execution_count": 61,
   "id": "ea04d4d8",
   "metadata": {},
   "outputs": [
    {
     "data": {
      "text/html": [
       "<div>\n",
       "<style scoped>\n",
       "    .dataframe tbody tr th:only-of-type {\n",
       "        vertical-align: middle;\n",
       "    }\n",
       "\n",
       "    .dataframe tbody tr th {\n",
       "        vertical-align: top;\n",
       "    }\n",
       "\n",
       "    .dataframe thead th {\n",
       "        text-align: right;\n",
       "    }\n",
       "</style>\n",
       "<table border=\"1\" class=\"dataframe\">\n",
       "  <thead>\n",
       "    <tr style=\"text-align: right;\">\n",
       "      <th></th>\n",
       "      <th>name</th>\n",
       "      <th>serving_size</th>\n",
       "      <th>calories</th>\n",
       "      <th>total_fat</th>\n",
       "      <th>saturated_fat</th>\n",
       "      <th>cholesterol</th>\n",
       "      <th>sodium</th>\n",
       "      <th>choline</th>\n",
       "      <th>folate</th>\n",
       "      <th>folic_acid</th>\n",
       "      <th>...</th>\n",
       "      <th>fat</th>\n",
       "      <th>saturated_fatty_acids</th>\n",
       "      <th>monounsaturated_fatty_acids</th>\n",
       "      <th>polyunsaturated_fatty_acids</th>\n",
       "      <th>fatty_acids_total_trans</th>\n",
       "      <th>alcohol</th>\n",
       "      <th>ash</th>\n",
       "      <th>caffeine</th>\n",
       "      <th>theobromine</th>\n",
       "      <th>water</th>\n",
       "    </tr>\n",
       "  </thead>\n",
       "  <tbody>\n",
       "    <tr>\n",
       "      <th>8785</th>\n",
       "      <td>Lamb, cooked, separable lean only, composite o...</td>\n",
       "      <td>100 g</td>\n",
       "      <td>206</td>\n",
       "      <td>8.9g</td>\n",
       "      <td>3.9g</td>\n",
       "      <td>109mg</td>\n",
       "      <td>50.00 mg</td>\n",
       "      <td>0</td>\n",
       "      <td>0.00 mcg</td>\n",
       "      <td>0.00 mcg</td>\n",
       "      <td>...</td>\n",
       "      <td>8.86 g</td>\n",
       "      <td>3.860 g</td>\n",
       "      <td>3.480 g</td>\n",
       "      <td>0.520 g</td>\n",
       "      <td>109.00 mg</td>\n",
       "      <td>0</td>\n",
       "      <td>1.60 g</td>\n",
       "      <td>0</td>\n",
       "      <td>0</td>\n",
       "      <td>59.95 g</td>\n",
       "    </tr>\n",
       "    <tr>\n",
       "      <th>8483</th>\n",
       "      <td>Beef, grilled, cooked, choice, trimmed to 1/8\"...</td>\n",
       "      <td>100 g</td>\n",
       "      <td>313</td>\n",
       "      <td>25g</td>\n",
       "      <td>11g</td>\n",
       "      <td>83mg</td>\n",
       "      <td>60.00 mg</td>\n",
       "      <td>48.6 mg</td>\n",
       "      <td>6.00 mcg</td>\n",
       "      <td>0.00 mcg</td>\n",
       "      <td>...</td>\n",
       "      <td>24.70 g</td>\n",
       "      <td>10.566 g</td>\n",
       "      <td>11.620 g</td>\n",
       "      <td>1.103 g</td>\n",
       "      <td>83.00 mg</td>\n",
       "      <td>0.0 g</td>\n",
       "      <td>0.90 g</td>\n",
       "      <td>0.00 mg</td>\n",
       "      <td>0.00 mg</td>\n",
       "      <td>52.36 g</td>\n",
       "    </tr>\n",
       "    <tr>\n",
       "      <th>6955</th>\n",
       "      <td>Beverages, all with morro seeds, variety of br...</td>\n",
       "      <td>100 g</td>\n",
       "      <td>413</td>\n",
       "      <td>7.5g</td>\n",
       "      <td>2.1g</td>\n",
       "      <td>0</td>\n",
       "      <td>3.00 mg</td>\n",
       "      <td>11.6 mg</td>\n",
       "      <td>12.00 mcg</td>\n",
       "      <td>0.00 mcg</td>\n",
       "      <td>...</td>\n",
       "      <td>7.46 g</td>\n",
       "      <td>2.086 g</td>\n",
       "      <td>3.174 g</td>\n",
       "      <td>2.069 g</td>\n",
       "      <td>0.00 mg</td>\n",
       "      <td>0.0 g</td>\n",
       "      <td>1.10 g</td>\n",
       "      <td>0.00 mg</td>\n",
       "      <td>0.00 mg</td>\n",
       "      <td>4.89 g</td>\n",
       "    </tr>\n",
       "  </tbody>\n",
       "</table>\n",
       "<p>3 rows × 76 columns</p>\n",
       "</div>"
      ],
      "text/plain": [
       "                                                   name serving_size  \\\n",
       "8785  Lamb, cooked, separable lean only, composite o...        100 g   \n",
       "8483  Beef, grilled, cooked, choice, trimmed to 1/8\"...        100 g   \n",
       "6955  Beverages, all with morro seeds, variety of br...        100 g   \n",
       "\n",
       "      calories total_fat saturated_fat cholesterol    sodium  choline  \\\n",
       "8785       206      8.9g          3.9g       109mg  50.00 mg        0   \n",
       "8483       313       25g           11g        83mg  60.00 mg  48.6 mg   \n",
       "6955       413      7.5g          2.1g           0   3.00 mg  11.6 mg   \n",
       "\n",
       "         folate folic_acid  ...      fat saturated_fatty_acids  \\\n",
       "8785   0.00 mcg   0.00 mcg  ...   8.86 g               3.860 g   \n",
       "8483   6.00 mcg   0.00 mcg  ...  24.70 g              10.566 g   \n",
       "6955  12.00 mcg   0.00 mcg  ...   7.46 g               2.086 g   \n",
       "\n",
       "     monounsaturated_fatty_acids polyunsaturated_fatty_acids  \\\n",
       "8785                     3.480 g                     0.520 g   \n",
       "8483                    11.620 g                     1.103 g   \n",
       "6955                     3.174 g                     2.069 g   \n",
       "\n",
       "     fatty_acids_total_trans alcohol     ash caffeine theobromine    water  \n",
       "8785               109.00 mg       0  1.60 g        0           0  59.95 g  \n",
       "8483                83.00 mg   0.0 g  0.90 g  0.00 mg     0.00 mg  52.36 g  \n",
       "6955                 0.00 mg   0.0 g  1.10 g  0.00 mg     0.00 mg   4.89 g  \n",
       "\n",
       "[3 rows x 76 columns]"
      ]
     },
     "execution_count": 61,
     "metadata": {},
     "output_type": "execute_result"
    }
   ],
   "source": [
    "nut.sample(n=3,random_state=1)# randomly coming data with 3 rows"
   ]
  },
  {
   "cell_type": "code",
   "execution_count": 62,
   "id": "1fffed8d",
   "metadata": {},
   "outputs": [
    {
     "data": {
      "text/html": [
       "<div>\n",
       "<style scoped>\n",
       "    .dataframe tbody tr th:only-of-type {\n",
       "        vertical-align: middle;\n",
       "    }\n",
       "\n",
       "    .dataframe tbody tr th {\n",
       "        vertical-align: top;\n",
       "    }\n",
       "\n",
       "    .dataframe thead th {\n",
       "        text-align: right;\n",
       "    }\n",
       "</style>\n",
       "<table border=\"1\" class=\"dataframe\">\n",
       "  <thead>\n",
       "    <tr style=\"text-align: right;\">\n",
       "      <th></th>\n",
       "      <th>name</th>\n",
       "      <th>serving_size</th>\n",
       "      <th>calories</th>\n",
       "      <th>total_fat</th>\n",
       "      <th>saturated_fat</th>\n",
       "      <th>cholesterol</th>\n",
       "      <th>sodium</th>\n",
       "      <th>choline</th>\n",
       "      <th>folate</th>\n",
       "      <th>folic_acid</th>\n",
       "      <th>...</th>\n",
       "      <th>fat</th>\n",
       "      <th>saturated_fatty_acids</th>\n",
       "      <th>monounsaturated_fatty_acids</th>\n",
       "      <th>polyunsaturated_fatty_acids</th>\n",
       "      <th>fatty_acids_total_trans</th>\n",
       "      <th>alcohol</th>\n",
       "      <th>ash</th>\n",
       "      <th>caffeine</th>\n",
       "      <th>theobromine</th>\n",
       "      <th>water</th>\n",
       "    </tr>\n",
       "  </thead>\n",
       "  <tbody>\n",
       "    <tr>\n",
       "      <th>3519</th>\n",
       "      <td>Fish, dry heat, cooked, farmed, Atlantic, salmon</td>\n",
       "      <td>100 g</td>\n",
       "      <td>206</td>\n",
       "      <td>12g</td>\n",
       "      <td>2.4g</td>\n",
       "      <td>63mg</td>\n",
       "      <td>61.00 mg</td>\n",
       "      <td>90.5 mg</td>\n",
       "      <td>34.00 mcg</td>\n",
       "      <td>0.00 mcg</td>\n",
       "      <td>...</td>\n",
       "      <td>12.35 g</td>\n",
       "      <td>2.397 g</td>\n",
       "      <td>4.181 g</td>\n",
       "      <td>4.553 g</td>\n",
       "      <td>63.00 mg</td>\n",
       "      <td>0.0 g</td>\n",
       "      <td>1.15 g</td>\n",
       "      <td>0.00 mg</td>\n",
       "      <td>0.00 mg</td>\n",
       "      <td>64.75 g</td>\n",
       "    </tr>\n",
       "    <tr>\n",
       "      <th>7133</th>\n",
       "      <td>Corn, with salt, drained, boiled, cut off cob,...</td>\n",
       "      <td>100 g</td>\n",
       "      <td>79</td>\n",
       "      <td>0.7g</td>\n",
       "      <td>0.1g</td>\n",
       "      <td>0</td>\n",
       "      <td>245.00 mg</td>\n",
       "      <td>0</td>\n",
       "      <td>35.00 mcg</td>\n",
       "      <td>0.00 mcg</td>\n",
       "      <td>...</td>\n",
       "      <td>0.67 g</td>\n",
       "      <td>0.066 g</td>\n",
       "      <td>0.126 g</td>\n",
       "      <td>0.203 g</td>\n",
       "      <td>0.00 mg</td>\n",
       "      <td>0</td>\n",
       "      <td>1.03 g</td>\n",
       "      <td>0</td>\n",
       "      <td>0</td>\n",
       "      <td>77.03 g</td>\n",
       "    </tr>\n",
       "    <tr>\n",
       "      <th>2733</th>\n",
       "      <td>Turkey from whole, raw, meat only, dark meat</td>\n",
       "      <td>100 g</td>\n",
       "      <td>108</td>\n",
       "      <td>2.5g</td>\n",
       "      <td>0.7g</td>\n",
       "      <td>79mg</td>\n",
       "      <td>124.00 mg</td>\n",
       "      <td>69.6 mg</td>\n",
       "      <td>7.00 mcg</td>\n",
       "      <td>0.00 mcg</td>\n",
       "      <td>...</td>\n",
       "      <td>2.50 g</td>\n",
       "      <td>0.683 g</td>\n",
       "      <td>0.756 g</td>\n",
       "      <td>0.613 g</td>\n",
       "      <td>79.00 mg</td>\n",
       "      <td>0.0 g</td>\n",
       "      <td>1.03 g</td>\n",
       "      <td>0.00 mg</td>\n",
       "      <td>0.00 mg</td>\n",
       "      <td>76.01 g</td>\n",
       "    </tr>\n",
       "    <tr>\n",
       "      <th>4610</th>\n",
       "      <td>CAMPBELL'S Red and White, condensed, Tomato Bi...</td>\n",
       "      <td>100 g</td>\n",
       "      <td>103</td>\n",
       "      <td>2.8g</td>\n",
       "      <td>1.2g</td>\n",
       "      <td>4mg</td>\n",
       "      <td>698.00 mg</td>\n",
       "      <td>0</td>\n",
       "      <td>0</td>\n",
       "      <td>0</td>\n",
       "      <td>...</td>\n",
       "      <td>2.78 g</td>\n",
       "      <td>1.190 g</td>\n",
       "      <td>0.397 g</td>\n",
       "      <td>0.794 g</td>\n",
       "      <td>4.00 mg</td>\n",
       "      <td>0</td>\n",
       "      <td>1.98 g</td>\n",
       "      <td>0</td>\n",
       "      <td>0</td>\n",
       "      <td>75.40 g</td>\n",
       "    </tr>\n",
       "    <tr>\n",
       "      <th>6043</th>\n",
       "      <td>Chicken, fried, cooked, meat only, neck, broil...</td>\n",
       "      <td>100 g</td>\n",
       "      <td>229</td>\n",
       "      <td>12g</td>\n",
       "      <td>3g</td>\n",
       "      <td>105mg</td>\n",
       "      <td>99.00 mg</td>\n",
       "      <td>0</td>\n",
       "      <td>8.00 mcg</td>\n",
       "      <td>0.00 mcg</td>\n",
       "      <td>...</td>\n",
       "      <td>11.88 g</td>\n",
       "      <td>3.000 g</td>\n",
       "      <td>4.570 g</td>\n",
       "      <td>3.040 g</td>\n",
       "      <td>105.00 mg</td>\n",
       "      <td>0</td>\n",
       "      <td>0.78 g</td>\n",
       "      <td>0</td>\n",
       "      <td>0</td>\n",
       "      <td>58.71 g</td>\n",
       "    </tr>\n",
       "    <tr>\n",
       "      <th>5342</th>\n",
       "      <td>Snacks, salt added, white popcorn, oil-popped,...</td>\n",
       "      <td>100 g</td>\n",
       "      <td>500</td>\n",
       "      <td>28g</td>\n",
       "      <td>4.9g</td>\n",
       "      <td>0</td>\n",
       "      <td>884.00 mg</td>\n",
       "      <td>0</td>\n",
       "      <td>17.00 mcg</td>\n",
       "      <td>0.00 mcg</td>\n",
       "      <td>...</td>\n",
       "      <td>28.10 g</td>\n",
       "      <td>4.890 g</td>\n",
       "      <td>8.170 g</td>\n",
       "      <td>13.420 g</td>\n",
       "      <td>0.00 mg</td>\n",
       "      <td>0</td>\n",
       "      <td>2.90 g</td>\n",
       "      <td>0</td>\n",
       "      <td>0</td>\n",
       "      <td>2.80 g</td>\n",
       "    </tr>\n",
       "    <tr>\n",
       "      <th>1310</th>\n",
       "      <td>Bologna, beef and pork</td>\n",
       "      <td>100 g</td>\n",
       "      <td>308</td>\n",
       "      <td>25g</td>\n",
       "      <td>9.3g</td>\n",
       "      <td>60mg</td>\n",
       "      <td>960.00 mg</td>\n",
       "      <td>65.6 mg</td>\n",
       "      <td>6.00 mcg</td>\n",
       "      <td>0.00 mcg</td>\n",
       "      <td>...</td>\n",
       "      <td>24.59 g</td>\n",
       "      <td>9.301 g</td>\n",
       "      <td>10.526 g</td>\n",
       "      <td>1.120 g</td>\n",
       "      <td>60.00 mg</td>\n",
       "      <td>0.0 g</td>\n",
       "      <td>2.85 g</td>\n",
       "      <td>0.00 mg</td>\n",
       "      <td>0.00 mg</td>\n",
       "      <td>51.87 g</td>\n",
       "    </tr>\n",
       "    <tr>\n",
       "      <th>4755</th>\n",
       "      <td>Spinach, solids and liquids, regular pack, canned</td>\n",
       "      <td>100 g</td>\n",
       "      <td>19</td>\n",
       "      <td>0.4g</td>\n",
       "      <td>0.1g</td>\n",
       "      <td>0</td>\n",
       "      <td>319.00 mg</td>\n",
       "      <td>15.2 mg</td>\n",
       "      <td>58.00 mcg</td>\n",
       "      <td>0.00 mcg</td>\n",
       "      <td>...</td>\n",
       "      <td>0.37 g</td>\n",
       "      <td>0.060 g</td>\n",
       "      <td>0.010 g</td>\n",
       "      <td>0.155 g</td>\n",
       "      <td>0.00 mg</td>\n",
       "      <td>0.0 g</td>\n",
       "      <td>1.38 g</td>\n",
       "      <td>0.00 mg</td>\n",
       "      <td>0.00 mg</td>\n",
       "      <td>93.22 g</td>\n",
       "    </tr>\n",
       "    <tr>\n",
       "      <th>6889</th>\n",
       "      <td>Shortening confectionery, coconut (hydrogenate...</td>\n",
       "      <td>100 g</td>\n",
       "      <td>884</td>\n",
       "      <td>100g</td>\n",
       "      <td>91g</td>\n",
       "      <td>0</td>\n",
       "      <td>0.00 mg</td>\n",
       "      <td>0.3 mg</td>\n",
       "      <td>0.00 mcg</td>\n",
       "      <td>0.00 mcg</td>\n",
       "      <td>...</td>\n",
       "      <td>100.00 g</td>\n",
       "      <td>91.300 g</td>\n",
       "      <td>2.200 g</td>\n",
       "      <td>1.000 g</td>\n",
       "      <td>0.00 mg</td>\n",
       "      <td>0.0 g</td>\n",
       "      <td>0.00 g</td>\n",
       "      <td>0.00 mg</td>\n",
       "      <td>0.00 mg</td>\n",
       "      <td>0.00 g</td>\n",
       "    </tr>\n",
       "  </tbody>\n",
       "</table>\n",
       "<p>9 rows × 76 columns</p>\n",
       "</div>"
      ],
      "text/plain": [
       "                                                   name serving_size  \\\n",
       "3519   Fish, dry heat, cooked, farmed, Atlantic, salmon        100 g   \n",
       "7133  Corn, with salt, drained, boiled, cut off cob,...        100 g   \n",
       "2733       Turkey from whole, raw, meat only, dark meat        100 g   \n",
       "4610  CAMPBELL'S Red and White, condensed, Tomato Bi...        100 g   \n",
       "6043  Chicken, fried, cooked, meat only, neck, broil...        100 g   \n",
       "5342  Snacks, salt added, white popcorn, oil-popped,...        100 g   \n",
       "1310                             Bologna, beef and pork        100 g   \n",
       "4755  Spinach, solids and liquids, regular pack, canned        100 g   \n",
       "6889  Shortening confectionery, coconut (hydrogenate...        100 g   \n",
       "\n",
       "      calories total_fat saturated_fat cholesterol     sodium  choline  \\\n",
       "3519       206       12g          2.4g        63mg   61.00 mg  90.5 mg   \n",
       "7133        79      0.7g          0.1g           0  245.00 mg        0   \n",
       "2733       108      2.5g          0.7g        79mg  124.00 mg  69.6 mg   \n",
       "4610       103      2.8g          1.2g         4mg  698.00 mg        0   \n",
       "6043       229       12g            3g       105mg   99.00 mg        0   \n",
       "5342       500       28g          4.9g           0  884.00 mg        0   \n",
       "1310       308       25g          9.3g        60mg  960.00 mg  65.6 mg   \n",
       "4755        19      0.4g          0.1g           0  319.00 mg  15.2 mg   \n",
       "6889       884      100g           91g           0    0.00 mg   0.3 mg   \n",
       "\n",
       "         folate folic_acid  ...       fat saturated_fatty_acids  \\\n",
       "3519  34.00 mcg   0.00 mcg  ...   12.35 g               2.397 g   \n",
       "7133  35.00 mcg   0.00 mcg  ...    0.67 g               0.066 g   \n",
       "2733   7.00 mcg   0.00 mcg  ...    2.50 g               0.683 g   \n",
       "4610          0          0  ...    2.78 g               1.190 g   \n",
       "6043   8.00 mcg   0.00 mcg  ...   11.88 g               3.000 g   \n",
       "5342  17.00 mcg   0.00 mcg  ...   28.10 g               4.890 g   \n",
       "1310   6.00 mcg   0.00 mcg  ...   24.59 g               9.301 g   \n",
       "4755  58.00 mcg   0.00 mcg  ...    0.37 g               0.060 g   \n",
       "6889   0.00 mcg   0.00 mcg  ...  100.00 g              91.300 g   \n",
       "\n",
       "     monounsaturated_fatty_acids polyunsaturated_fatty_acids  \\\n",
       "3519                     4.181 g                     4.553 g   \n",
       "7133                     0.126 g                     0.203 g   \n",
       "2733                     0.756 g                     0.613 g   \n",
       "4610                     0.397 g                     0.794 g   \n",
       "6043                     4.570 g                     3.040 g   \n",
       "5342                     8.170 g                    13.420 g   \n",
       "1310                    10.526 g                     1.120 g   \n",
       "4755                     0.010 g                     0.155 g   \n",
       "6889                     2.200 g                     1.000 g   \n",
       "\n",
       "     fatty_acids_total_trans alcohol     ash caffeine theobromine    water  \n",
       "3519                63.00 mg   0.0 g  1.15 g  0.00 mg     0.00 mg  64.75 g  \n",
       "7133                 0.00 mg       0  1.03 g        0           0  77.03 g  \n",
       "2733                79.00 mg   0.0 g  1.03 g  0.00 mg     0.00 mg  76.01 g  \n",
       "4610                 4.00 mg       0  1.98 g        0           0  75.40 g  \n",
       "6043               105.00 mg       0  0.78 g        0           0  58.71 g  \n",
       "5342                 0.00 mg       0  2.90 g        0           0   2.80 g  \n",
       "1310                60.00 mg   0.0 g  2.85 g  0.00 mg     0.00 mg  51.87 g  \n",
       "4755                 0.00 mg   0.0 g  1.38 g  0.00 mg     0.00 mg  93.22 g  \n",
       "6889                 0.00 mg   0.0 g  0.00 g  0.00 mg     0.00 mg   0.00 g  \n",
       "\n",
       "[9 rows x 76 columns]"
      ]
     },
     "execution_count": 62,
     "metadata": {},
     "output_type": "execute_result"
    }
   ],
   "source": [
    "nut.sample(frac=.001)"
   ]
  },
  {
   "cell_type": "code",
   "execution_count": 63,
   "id": "d314302d",
   "metadata": {},
   "outputs": [
    {
     "data": {
      "text/plain": [
       "(8789, 76)"
      ]
     },
     "execution_count": 63,
     "metadata": {},
     "output_type": "execute_result"
    }
   ],
   "source": [
    "nut.shape"
   ]
  },
  {
   "cell_type": "code",
   "execution_count": 64,
   "id": "100cb4a9",
   "metadata": {},
   "outputs": [
    {
     "data": {
      "text/plain": [
       "8.789"
      ]
     },
     "execution_count": 64,
     "metadata": {},
     "output_type": "execute_result"
    }
   ],
   "source": [
    "nut.shape[0]*.001"
   ]
  },
  {
   "cell_type": "code",
   "execution_count": 65,
   "id": "ed8659ee",
   "metadata": {},
   "outputs": [],
   "source": [
    "# When you use 'frac' you can not use n=n\n",
    "#nut.sample(frac=.001,n=3)"
   ]
  },
  {
   "cell_type": "markdown",
   "id": "dac475fd",
   "metadata": {},
   "source": [
    "## Sampling With Replacement or Weights"
   ]
  },
  {
   "cell_type": "code",
   "execution_count": 66,
   "id": "3b891729",
   "metadata": {},
   "outputs": [],
   "source": [
    "# With or Without Replacement"
   ]
  },
  {
   "cell_type": "code",
   "execution_count": 67,
   "id": "cd200ca7",
   "metadata": {},
   "outputs": [
    {
     "data": {
      "text/html": [
       "<div>\n",
       "<style scoped>\n",
       "    .dataframe tbody tr th:only-of-type {\n",
       "        vertical-align: middle;\n",
       "    }\n",
       "\n",
       "    .dataframe tbody tr th {\n",
       "        vertical-align: top;\n",
       "    }\n",
       "\n",
       "    .dataframe thead th {\n",
       "        text-align: right;\n",
       "    }\n",
       "</style>\n",
       "<table border=\"1\" class=\"dataframe\">\n",
       "  <thead>\n",
       "    <tr style=\"text-align: right;\">\n",
       "      <th></th>\n",
       "      <th>name</th>\n",
       "      <th>serving_size</th>\n",
       "      <th>calories</th>\n",
       "      <th>total_fat</th>\n",
       "      <th>saturated_fat</th>\n",
       "      <th>cholesterol</th>\n",
       "      <th>sodium</th>\n",
       "      <th>choline</th>\n",
       "      <th>folate</th>\n",
       "      <th>folic_acid</th>\n",
       "      <th>...</th>\n",
       "      <th>fat</th>\n",
       "      <th>saturated_fatty_acids</th>\n",
       "      <th>monounsaturated_fatty_acids</th>\n",
       "      <th>polyunsaturated_fatty_acids</th>\n",
       "      <th>fatty_acids_total_trans</th>\n",
       "      <th>alcohol</th>\n",
       "      <th>ash</th>\n",
       "      <th>caffeine</th>\n",
       "      <th>theobromine</th>\n",
       "      <th>water</th>\n",
       "    </tr>\n",
       "  </thead>\n",
       "  <tbody>\n",
       "    <tr>\n",
       "      <th>235</th>\n",
       "      <td>Game meat, raw, elk</td>\n",
       "      <td>100 g</td>\n",
       "      <td>111</td>\n",
       "      <td>1.5g</td>\n",
       "      <td>0.5g</td>\n",
       "      <td>55mg</td>\n",
       "      <td>58.00 mg</td>\n",
       "      <td>0</td>\n",
       "      <td>0</td>\n",
       "      <td>0</td>\n",
       "      <td>...</td>\n",
       "      <td>1.45 g</td>\n",
       "      <td>0.530 g</td>\n",
       "      <td>0.360 g</td>\n",
       "      <td>0.300 g</td>\n",
       "      <td>55.00 mg</td>\n",
       "      <td>0</td>\n",
       "      <td>1.00 g</td>\n",
       "      <td>0</td>\n",
       "      <td>0</td>\n",
       "      <td>74.38 g</td>\n",
       "    </tr>\n",
       "    <tr>\n",
       "      <th>5192</th>\n",
       "      <td>USDA Commodity, heated, frozen, breaded, salmo...</td>\n",
       "      <td>100 g</td>\n",
       "      <td>212</td>\n",
       "      <td>12g</td>\n",
       "      <td>1.6g</td>\n",
       "      <td>26mg</td>\n",
       "      <td>173.00 mg</td>\n",
       "      <td>0</td>\n",
       "      <td>9.00 mcg</td>\n",
       "      <td>3.00 mcg</td>\n",
       "      <td>...</td>\n",
       "      <td>11.72 g</td>\n",
       "      <td>1.570 g</td>\n",
       "      <td>4.625 g</td>\n",
       "      <td>3.028 g</td>\n",
       "      <td>26.00 mg</td>\n",
       "      <td>0.0 g</td>\n",
       "      <td>1.25 g</td>\n",
       "      <td>0</td>\n",
       "      <td>0</td>\n",
       "      <td>60.38 g</td>\n",
       "    </tr>\n",
       "    <tr>\n",
       "      <th>905</th>\n",
       "      <td>Soybeans, raw, mature seeds</td>\n",
       "      <td>100 g</td>\n",
       "      <td>446</td>\n",
       "      <td>20g</td>\n",
       "      <td>2.9g</td>\n",
       "      <td>0</td>\n",
       "      <td>2.00 mg</td>\n",
       "      <td>115.9 mg</td>\n",
       "      <td>375.00 mcg</td>\n",
       "      <td>0.00 mcg</td>\n",
       "      <td>...</td>\n",
       "      <td>19.94 g</td>\n",
       "      <td>2.884 g</td>\n",
       "      <td>4.404 g</td>\n",
       "      <td>11.255 g</td>\n",
       "      <td>0.00 mg</td>\n",
       "      <td>0.0 g</td>\n",
       "      <td>4.87 g</td>\n",
       "      <td>0.00 mg</td>\n",
       "      <td>0.00 mg</td>\n",
       "      <td>8.54 g</td>\n",
       "    </tr>\n",
       "  </tbody>\n",
       "</table>\n",
       "<p>3 rows × 76 columns</p>\n",
       "</div>"
      ],
      "text/plain": [
       "                                                   name serving_size  \\\n",
       "235                                 Game meat, raw, elk        100 g   \n",
       "5192  USDA Commodity, heated, frozen, breaded, salmo...        100 g   \n",
       "905                         Soybeans, raw, mature seeds        100 g   \n",
       "\n",
       "      calories total_fat saturated_fat cholesterol     sodium   choline  \\\n",
       "235        111      1.5g          0.5g        55mg   58.00 mg         0   \n",
       "5192       212       12g          1.6g        26mg  173.00 mg         0   \n",
       "905        446       20g          2.9g           0    2.00 mg  115.9 mg   \n",
       "\n",
       "          folate folic_acid  ...      fat saturated_fatty_acids  \\\n",
       "235            0          0  ...   1.45 g               0.530 g   \n",
       "5192    9.00 mcg   3.00 mcg  ...  11.72 g               1.570 g   \n",
       "905   375.00 mcg   0.00 mcg  ...  19.94 g               2.884 g   \n",
       "\n",
       "     monounsaturated_fatty_acids polyunsaturated_fatty_acids  \\\n",
       "235                      0.360 g                     0.300 g   \n",
       "5192                     4.625 g                     3.028 g   \n",
       "905                      4.404 g                    11.255 g   \n",
       "\n",
       "     fatty_acids_total_trans alcohol     ash caffeine theobromine    water  \n",
       "235                 55.00 mg       0  1.00 g        0           0  74.38 g  \n",
       "5192                26.00 mg   0.0 g  1.25 g        0           0  60.38 g  \n",
       "905                  0.00 mg   0.0 g  4.87 g  0.00 mg     0.00 mg   8.54 g  \n",
       "\n",
       "[3 rows x 76 columns]"
      ]
     },
     "execution_count": 67,
     "metadata": {},
     "output_type": "execute_result"
    }
   ],
   "source": [
    "nut.sample(n=3,replace=True,random_state=1)"
   ]
  },
  {
   "cell_type": "code",
   "execution_count": 68,
   "id": "2d5f00e5",
   "metadata": {},
   "outputs": [],
   "source": [
    "# Weight Sampling\n",
    "weight=pd.Series([10,10,10,1,2,3],index=[10,13,5,1,8,4])"
   ]
  },
  {
   "cell_type": "code",
   "execution_count": 69,
   "id": "66a26a1a",
   "metadata": {},
   "outputs": [
    {
     "data": {
      "text/plain": [
       "10    10\n",
       "13    10\n",
       "5     10\n",
       "1      1\n",
       "8      2\n",
       "4      3\n",
       "dtype: int64"
      ]
     },
     "execution_count": 69,
     "metadata": {},
     "output_type": "execute_result"
    }
   ],
   "source": [
    "weight"
   ]
  },
  {
   "cell_type": "code",
   "execution_count": 70,
   "id": "34972004",
   "metadata": {},
   "outputs": [
    {
     "data": {
      "text/html": [
       "<div>\n",
       "<style scoped>\n",
       "    .dataframe tbody tr th:only-of-type {\n",
       "        vertical-align: middle;\n",
       "    }\n",
       "\n",
       "    .dataframe tbody tr th {\n",
       "        vertical-align: top;\n",
       "    }\n",
       "\n",
       "    .dataframe thead th {\n",
       "        text-align: right;\n",
       "    }\n",
       "</style>\n",
       "<table border=\"1\" class=\"dataframe\">\n",
       "  <thead>\n",
       "    <tr style=\"text-align: right;\">\n",
       "      <th></th>\n",
       "      <th>name</th>\n",
       "      <th>serving_size</th>\n",
       "      <th>calories</th>\n",
       "      <th>total_fat</th>\n",
       "      <th>saturated_fat</th>\n",
       "      <th>cholesterol</th>\n",
       "      <th>sodium</th>\n",
       "      <th>choline</th>\n",
       "      <th>folate</th>\n",
       "      <th>folic_acid</th>\n",
       "      <th>...</th>\n",
       "      <th>fat</th>\n",
       "      <th>saturated_fatty_acids</th>\n",
       "      <th>monounsaturated_fatty_acids</th>\n",
       "      <th>polyunsaturated_fatty_acids</th>\n",
       "      <th>fatty_acids_total_trans</th>\n",
       "      <th>alcohol</th>\n",
       "      <th>ash</th>\n",
       "      <th>caffeine</th>\n",
       "      <th>theobromine</th>\n",
       "      <th>water</th>\n",
       "    </tr>\n",
       "  </thead>\n",
       "  <tbody>\n",
       "    <tr>\n",
       "      <th>8</th>\n",
       "      <td>Cheese, camembert</td>\n",
       "      <td>100 g</td>\n",
       "      <td>300</td>\n",
       "      <td>24g</td>\n",
       "      <td>15g</td>\n",
       "      <td>72mg</td>\n",
       "      <td>842.00 mg</td>\n",
       "      <td>15.4 mg</td>\n",
       "      <td>62.00 mcg</td>\n",
       "      <td>0.00 mcg</td>\n",
       "      <td>...</td>\n",
       "      <td>24.26 g</td>\n",
       "      <td>15.259 g</td>\n",
       "      <td>7.023 g</td>\n",
       "      <td>0.724 g</td>\n",
       "      <td>72.00 mg</td>\n",
       "      <td>0.0 g</td>\n",
       "      <td>3.68 g</td>\n",
       "      <td>0.00 mg</td>\n",
       "      <td>0.00 mg</td>\n",
       "      <td>51.80 g</td>\n",
       "    </tr>\n",
       "    <tr>\n",
       "      <th>10</th>\n",
       "      <td>PACE, Picante Sauce</td>\n",
       "      <td>100 g</td>\n",
       "      <td>25</td>\n",
       "      <td>0g</td>\n",
       "      <td>NaN</td>\n",
       "      <td>0</td>\n",
       "      <td>781.00 mg</td>\n",
       "      <td>0</td>\n",
       "      <td>0</td>\n",
       "      <td>0</td>\n",
       "      <td>...</td>\n",
       "      <td>0.00 g</td>\n",
       "      <td>0</td>\n",
       "      <td>0</td>\n",
       "      <td>0</td>\n",
       "      <td>0.00 mg</td>\n",
       "      <td>0</td>\n",
       "      <td>3.85 g</td>\n",
       "      <td>0</td>\n",
       "      <td>0</td>\n",
       "      <td>89.90 g</td>\n",
       "    </tr>\n",
       "    <tr>\n",
       "      <th>1</th>\n",
       "      <td>Nuts, pecans</td>\n",
       "      <td>100 g</td>\n",
       "      <td>691</td>\n",
       "      <td>72g</td>\n",
       "      <td>6.2g</td>\n",
       "      <td>0</td>\n",
       "      <td>0.00 mg</td>\n",
       "      <td>40.5 mg</td>\n",
       "      <td>22.00 mcg</td>\n",
       "      <td>0.00 mcg</td>\n",
       "      <td>...</td>\n",
       "      <td>71.97 g</td>\n",
       "      <td>6.180 g</td>\n",
       "      <td>40.801 g</td>\n",
       "      <td>21.614 g</td>\n",
       "      <td>0.00 mg</td>\n",
       "      <td>0.0 g</td>\n",
       "      <td>1.49 g</td>\n",
       "      <td>0.00 mg</td>\n",
       "      <td>0.00 mg</td>\n",
       "      <td>3.52 g</td>\n",
       "    </tr>\n",
       "  </tbody>\n",
       "</table>\n",
       "<p>3 rows × 76 columns</p>\n",
       "</div>"
      ],
      "text/plain": [
       "                   name serving_size  calories total_fat saturated_fat  \\\n",
       "8     Cheese, camembert        100 g       300       24g           15g   \n",
       "10  PACE, Picante Sauce        100 g        25        0g           NaN   \n",
       "1          Nuts, pecans        100 g       691       72g          6.2g   \n",
       "\n",
       "   cholesterol     sodium  choline     folate folic_acid  ...      fat  \\\n",
       "8         72mg  842.00 mg  15.4 mg  62.00 mcg   0.00 mcg  ...  24.26 g   \n",
       "10           0  781.00 mg        0          0          0  ...   0.00 g   \n",
       "1            0    0.00 mg  40.5 mg  22.00 mcg   0.00 mcg  ...  71.97 g   \n",
       "\n",
       "   saturated_fatty_acids monounsaturated_fatty_acids  \\\n",
       "8               15.259 g                     7.023 g   \n",
       "10                     0                           0   \n",
       "1                6.180 g                    40.801 g   \n",
       "\n",
       "   polyunsaturated_fatty_acids fatty_acids_total_trans alcohol     ash  \\\n",
       "8                      0.724 g                72.00 mg   0.0 g  3.68 g   \n",
       "10                           0                 0.00 mg       0  3.85 g   \n",
       "1                     21.614 g                 0.00 mg   0.0 g  1.49 g   \n",
       "\n",
       "   caffeine theobromine    water  \n",
       "8   0.00 mg     0.00 mg  51.80 g  \n",
       "10        0           0  89.90 g  \n",
       "1   0.00 mg     0.00 mg   3.52 g  \n",
       "\n",
       "[3 rows x 76 columns]"
      ]
     },
     "execution_count": 70,
     "metadata": {},
     "output_type": "execute_result"
    }
   ],
   "source": [
    "nut.sample(n=3, weights=weight,random_state=1)"
   ]
  },
  {
   "cell_type": "markdown",
   "id": "ed3c4f56",
   "metadata": {},
   "source": [
    "## DataFrame Axes"
   ]
  },
  {
   "cell_type": "code",
   "execution_count": 71,
   "id": "fedd83f1",
   "metadata": {},
   "outputs": [
    {
     "name": "stdout",
     "output_type": "stream",
     "text": [
      "<class 'pandas.core.frame.DataFrame'>\n",
      "Int64Index: 8789 entries, 0 to 8788\n",
      "Columns: 76 entries, name to water\n",
      "dtypes: int64(2), object(74)\n",
      "memory usage: 5.2+ MB\n"
     ]
    }
   ],
   "source": [
    "nut.info(verbose=False)"
   ]
  },
  {
   "cell_type": "code",
   "execution_count": 72,
   "id": "461b97e3",
   "metadata": {},
   "outputs": [
    {
     "data": {
      "text/plain": [
       "[Int64Index([   0,    1,    2,    3,    4,    5,    6,    7,    8,    9,\n",
       "             ...\n",
       "             8779, 8780, 8781, 8782, 8783, 8784, 8785, 8786, 8787, 8788],\n",
       "            dtype='int64', length=8789),\n",
       " Index(['name', 'serving_size', 'calories', 'total_fat', 'saturated_fat',\n",
       "        'cholesterol', 'sodium', 'choline', 'folate', 'folic_acid', 'niacin',\n",
       "        'pantothenic_acid', 'riboflavin', 'thiamin', 'vitamin_a',\n",
       "        'vitamin_a_rae', 'carotene_alpha', 'carotene_beta',\n",
       "        'cryptoxanthin_beta', 'lutein_zeaxanthin', 'lucopene', 'vitamin_b12',\n",
       "        'vitamin_b6', 'vitamin_c', 'vitamin_d', 'vitamin_e', 'tocopherol_alpha',\n",
       "        'vitamin_k', 'calcium', 'copper', 'irom', 'magnesium', 'manganese',\n",
       "        'phosphorous', 'potassium', 'selenium', 'zink', 'protein', 'alanine',\n",
       "        'arginine', 'aspartic_acid', 'cystine', 'glutamic_acid', 'glycine',\n",
       "        'histidine', 'hydroxyproline', 'isoleucine', 'leucine', 'lysine',\n",
       "        'methionine', 'phenylalanine', 'proline', 'serine', 'threonine',\n",
       "        'tryptophan', 'tyrosine', 'valine', 'carbohydrate', 'fiber', 'sugars',\n",
       "        'fructose', 'galactose', 'glucose', 'lactose', 'maltose', 'sucrose',\n",
       "        'fat', 'saturated_fatty_acids', 'monounsaturated_fatty_acids',\n",
       "        'polyunsaturated_fatty_acids', 'fatty_acids_total_trans', 'alcohol',\n",
       "        'ash', 'caffeine', 'theobromine', 'water'],\n",
       "       dtype='object')]"
      ]
     },
     "execution_count": 72,
     "metadata": {},
     "output_type": "execute_result"
    }
   ],
   "source": [
    "nut.axes"
   ]
  },
  {
   "cell_type": "code",
   "execution_count": 73,
   "id": "662fcff9",
   "metadata": {},
   "outputs": [
    {
     "data": {
      "text/plain": [
       "Int64Index([   0,    1,    2,    3,    4,    5,    6,    7,    8,    9,\n",
       "            ...\n",
       "            8779, 8780, 8781, 8782, 8783, 8784, 8785, 8786, 8787, 8788],\n",
       "           dtype='int64', length=8789)"
      ]
     },
     "execution_count": 73,
     "metadata": {},
     "output_type": "execute_result"
    }
   ],
   "source": [
    "# Row Label Axes\n",
    "nut.axes[0]"
   ]
  },
  {
   "cell_type": "code",
   "execution_count": 74,
   "id": "28b4a25e",
   "metadata": {},
   "outputs": [
    {
     "data": {
      "text/plain": [
       "Index(['name', 'serving_size', 'calories', 'total_fat', 'saturated_fat',\n",
       "       'cholesterol', 'sodium', 'choline', 'folate', 'folic_acid', 'niacin',\n",
       "       'pantothenic_acid', 'riboflavin', 'thiamin', 'vitamin_a',\n",
       "       'vitamin_a_rae', 'carotene_alpha', 'carotene_beta',\n",
       "       'cryptoxanthin_beta', 'lutein_zeaxanthin', 'lucopene', 'vitamin_b12',\n",
       "       'vitamin_b6', 'vitamin_c', 'vitamin_d', 'vitamin_e', 'tocopherol_alpha',\n",
       "       'vitamin_k', 'calcium', 'copper', 'irom', 'magnesium', 'manganese',\n",
       "       'phosphorous', 'potassium', 'selenium', 'zink', 'protein', 'alanine',\n",
       "       'arginine', 'aspartic_acid', 'cystine', 'glutamic_acid', 'glycine',\n",
       "       'histidine', 'hydroxyproline', 'isoleucine', 'leucine', 'lysine',\n",
       "       'methionine', 'phenylalanine', 'proline', 'serine', 'threonine',\n",
       "       'tryptophan', 'tyrosine', 'valine', 'carbohydrate', 'fiber', 'sugars',\n",
       "       'fructose', 'galactose', 'glucose', 'lactose', 'maltose', 'sucrose',\n",
       "       'fat', 'saturated_fatty_acids', 'monounsaturated_fatty_acids',\n",
       "       'polyunsaturated_fatty_acids', 'fatty_acids_total_trans', 'alcohol',\n",
       "       'ash', 'caffeine', 'theobromine', 'water'],\n",
       "      dtype='object')"
      ]
     },
     "execution_count": 74,
     "metadata": {},
     "output_type": "execute_result"
    }
   ],
   "source": [
    "# Column Label Axes\n",
    "nut.axes[1]"
   ]
  },
  {
   "cell_type": "code",
   "execution_count": 75,
   "id": "6fbb7afa",
   "metadata": {},
   "outputs": [],
   "source": [
    "# The Axis Param\n",
    "# nut.dropna(axis=0)\n",
    "# 0=>Row; 1=>Column"
   ]
  },
  {
   "cell_type": "markdown",
   "id": "dfda5beb",
   "metadata": {},
   "source": [
    "### Changing Index"
   ]
  },
  {
   "cell_type": "code",
   "execution_count": 76,
   "id": "2e25812e",
   "metadata": {},
   "outputs": [
    {
     "data": {
      "text/plain": [
       "Int64Index([   0,    1,    2,    3,    4,    5,    6,    7,    8,    9,\n",
       "            ...\n",
       "            8779, 8780, 8781, 8782, 8783, 8784, 8785, 8786, 8787, 8788],\n",
       "           dtype='int64', length=8789)"
      ]
     },
     "execution_count": 76,
     "metadata": {},
     "output_type": "execute_result"
    }
   ],
   "source": [
    "nut.index"
   ]
  },
  {
   "cell_type": "code",
   "execution_count": 77,
   "id": "7b0d280f",
   "metadata": {},
   "outputs": [
    {
     "data": {
      "text/plain": [
       "pandas.core.indexes.numeric.Int64Index"
      ]
     },
     "execution_count": 77,
     "metadata": {},
     "output_type": "execute_result"
    }
   ],
   "source": [
    "type(nut.index)"
   ]
  },
  {
   "cell_type": "code",
   "execution_count": 78,
   "id": "f53999b1",
   "metadata": {},
   "outputs": [],
   "source": [
    "nut.index=pd.RangeIndex(start=0,stop=8789,step=1)"
   ]
  },
  {
   "cell_type": "code",
   "execution_count": 79,
   "id": "e345bea2",
   "metadata": {},
   "outputs": [
    {
     "data": {
      "text/plain": [
       "RangeIndex(start=0, stop=8789, step=1)"
      ]
     },
     "execution_count": 79,
     "metadata": {},
     "output_type": "execute_result"
    }
   ],
   "source": [
    "nut.index"
   ]
  },
  {
   "cell_type": "code",
   "execution_count": 80,
   "id": "b09f2ef8",
   "metadata": {},
   "outputs": [],
   "source": [
    "nut.set_index('name',inplace=True)"
   ]
  },
  {
   "cell_type": "code",
   "execution_count": 81,
   "id": "fb6798cb",
   "metadata": {},
   "outputs": [
    {
     "data": {
      "text/html": [
       "<div>\n",
       "<style scoped>\n",
       "    .dataframe tbody tr th:only-of-type {\n",
       "        vertical-align: middle;\n",
       "    }\n",
       "\n",
       "    .dataframe tbody tr th {\n",
       "        vertical-align: top;\n",
       "    }\n",
       "\n",
       "    .dataframe thead th {\n",
       "        text-align: right;\n",
       "    }\n",
       "</style>\n",
       "<table border=\"1\" class=\"dataframe\">\n",
       "  <thead>\n",
       "    <tr style=\"text-align: right;\">\n",
       "      <th></th>\n",
       "      <th>serving_size</th>\n",
       "      <th>calories</th>\n",
       "      <th>total_fat</th>\n",
       "      <th>saturated_fat</th>\n",
       "      <th>cholesterol</th>\n",
       "      <th>sodium</th>\n",
       "      <th>choline</th>\n",
       "      <th>folate</th>\n",
       "      <th>folic_acid</th>\n",
       "      <th>niacin</th>\n",
       "      <th>...</th>\n",
       "      <th>fat</th>\n",
       "      <th>saturated_fatty_acids</th>\n",
       "      <th>monounsaturated_fatty_acids</th>\n",
       "      <th>polyunsaturated_fatty_acids</th>\n",
       "      <th>fatty_acids_total_trans</th>\n",
       "      <th>alcohol</th>\n",
       "      <th>ash</th>\n",
       "      <th>caffeine</th>\n",
       "      <th>theobromine</th>\n",
       "      <th>water</th>\n",
       "    </tr>\n",
       "    <tr>\n",
       "      <th>name</th>\n",
       "      <th></th>\n",
       "      <th></th>\n",
       "      <th></th>\n",
       "      <th></th>\n",
       "      <th></th>\n",
       "      <th></th>\n",
       "      <th></th>\n",
       "      <th></th>\n",
       "      <th></th>\n",
       "      <th></th>\n",
       "      <th></th>\n",
       "      <th></th>\n",
       "      <th></th>\n",
       "      <th></th>\n",
       "      <th></th>\n",
       "      <th></th>\n",
       "      <th></th>\n",
       "      <th></th>\n",
       "      <th></th>\n",
       "      <th></th>\n",
       "      <th></th>\n",
       "    </tr>\n",
       "  </thead>\n",
       "  <tbody>\n",
       "    <tr>\n",
       "      <th>Cornstarch</th>\n",
       "      <td>100 g</td>\n",
       "      <td>381</td>\n",
       "      <td>0.1g</td>\n",
       "      <td>NaN</td>\n",
       "      <td>0</td>\n",
       "      <td>9.00 mg</td>\n",
       "      <td>0.4 mg</td>\n",
       "      <td>0.00 mcg</td>\n",
       "      <td>0.00 mcg</td>\n",
       "      <td>0.000 mg</td>\n",
       "      <td>...</td>\n",
       "      <td>0.05 g</td>\n",
       "      <td>0.009 g</td>\n",
       "      <td>0.016 g</td>\n",
       "      <td>0.025 g</td>\n",
       "      <td>0.00 mg</td>\n",
       "      <td>0.0 g</td>\n",
       "      <td>0.09 g</td>\n",
       "      <td>0.00 mg</td>\n",
       "      <td>0.00 mg</td>\n",
       "      <td>8.32 g</td>\n",
       "    </tr>\n",
       "    <tr>\n",
       "      <th>Nuts, pecans</th>\n",
       "      <td>100 g</td>\n",
       "      <td>691</td>\n",
       "      <td>72g</td>\n",
       "      <td>6.2g</td>\n",
       "      <td>0</td>\n",
       "      <td>0.00 mg</td>\n",
       "      <td>40.5 mg</td>\n",
       "      <td>22.00 mcg</td>\n",
       "      <td>0.00 mcg</td>\n",
       "      <td>1.167 mg</td>\n",
       "      <td>...</td>\n",
       "      <td>71.97 g</td>\n",
       "      <td>6.180 g</td>\n",
       "      <td>40.801 g</td>\n",
       "      <td>21.614 g</td>\n",
       "      <td>0.00 mg</td>\n",
       "      <td>0.0 g</td>\n",
       "      <td>1.49 g</td>\n",
       "      <td>0.00 mg</td>\n",
       "      <td>0.00 mg</td>\n",
       "      <td>3.52 g</td>\n",
       "    </tr>\n",
       "    <tr>\n",
       "      <th>Eggplant, raw</th>\n",
       "      <td>100 g</td>\n",
       "      <td>25</td>\n",
       "      <td>0.2g</td>\n",
       "      <td>NaN</td>\n",
       "      <td>0</td>\n",
       "      <td>2.00 mg</td>\n",
       "      <td>6.9 mg</td>\n",
       "      <td>22.00 mcg</td>\n",
       "      <td>0.00 mcg</td>\n",
       "      <td>0.649 mg</td>\n",
       "      <td>...</td>\n",
       "      <td>0.18 g</td>\n",
       "      <td>0.034 g</td>\n",
       "      <td>0.016 g</td>\n",
       "      <td>0.076 g</td>\n",
       "      <td>0.00 mg</td>\n",
       "      <td>0.0 g</td>\n",
       "      <td>0.66 g</td>\n",
       "      <td>0.00 mg</td>\n",
       "      <td>0.00 mg</td>\n",
       "      <td>92.30 g</td>\n",
       "    </tr>\n",
       "  </tbody>\n",
       "</table>\n",
       "<p>3 rows × 75 columns</p>\n",
       "</div>"
      ],
      "text/plain": [
       "              serving_size  calories total_fat saturated_fat cholesterol  \\\n",
       "name                                                                       \n",
       "Cornstarch           100 g       381      0.1g           NaN           0   \n",
       "Nuts, pecans         100 g       691       72g          6.2g           0   \n",
       "Eggplant, raw        100 g        25      0.2g           NaN           0   \n",
       "\n",
       "                sodium  choline     folate folic_acid    niacin  ...      fat  \\\n",
       "name                                                             ...            \n",
       "Cornstarch     9.00 mg   0.4 mg   0.00 mcg   0.00 mcg  0.000 mg  ...   0.05 g   \n",
       "Nuts, pecans   0.00 mg  40.5 mg  22.00 mcg   0.00 mcg  1.167 mg  ...  71.97 g   \n",
       "Eggplant, raw  2.00 mg   6.9 mg  22.00 mcg   0.00 mcg  0.649 mg  ...   0.18 g   \n",
       "\n",
       "              saturated_fatty_acids monounsaturated_fatty_acids  \\\n",
       "name                                                              \n",
       "Cornstarch                  0.009 g                     0.016 g   \n",
       "Nuts, pecans                6.180 g                    40.801 g   \n",
       "Eggplant, raw               0.034 g                     0.016 g   \n",
       "\n",
       "              polyunsaturated_fatty_acids fatty_acids_total_trans alcohol  \\\n",
       "name                                                                        \n",
       "Cornstarch                        0.025 g                 0.00 mg   0.0 g   \n",
       "Nuts, pecans                     21.614 g                 0.00 mg   0.0 g   \n",
       "Eggplant, raw                     0.076 g                 0.00 mg   0.0 g   \n",
       "\n",
       "                  ash caffeine theobromine    water  \n",
       "name                                                 \n",
       "Cornstarch     0.09 g  0.00 mg     0.00 mg   8.32 g  \n",
       "Nuts, pecans   1.49 g  0.00 mg     0.00 mg   3.52 g  \n",
       "Eggplant, raw  0.66 g  0.00 mg     0.00 mg  92.30 g  \n",
       "\n",
       "[3 rows x 75 columns]"
      ]
     },
     "execution_count": 81,
     "metadata": {},
     "output_type": "execute_result"
    }
   ],
   "source": [
    "nut.head(3)"
   ]
  },
  {
   "cell_type": "code",
   "execution_count": 82,
   "id": "f1a1b54f",
   "metadata": {},
   "outputs": [
    {
     "data": {
      "text/html": [
       "<div>\n",
       "<style scoped>\n",
       "    .dataframe tbody tr th:only-of-type {\n",
       "        vertical-align: middle;\n",
       "    }\n",
       "\n",
       "    .dataframe tbody tr th {\n",
       "        vertical-align: top;\n",
       "    }\n",
       "\n",
       "    .dataframe thead th {\n",
       "        text-align: right;\n",
       "    }\n",
       "</style>\n",
       "<table border=\"1\" class=\"dataframe\">\n",
       "  <thead>\n",
       "    <tr style=\"text-align: right;\">\n",
       "      <th></th>\n",
       "      <th></th>\n",
       "      <th>serving_size</th>\n",
       "      <th>calories</th>\n",
       "      <th>total_fat</th>\n",
       "      <th>saturated_fat</th>\n",
       "      <th>cholesterol</th>\n",
       "      <th>sodium</th>\n",
       "      <th>choline</th>\n",
       "      <th>folate</th>\n",
       "      <th>folic_acid</th>\n",
       "      <th>niacin</th>\n",
       "      <th>...</th>\n",
       "      <th>fat</th>\n",
       "      <th>saturated_fatty_acids</th>\n",
       "      <th>monounsaturated_fatty_acids</th>\n",
       "      <th>polyunsaturated_fatty_acids</th>\n",
       "      <th>fatty_acids_total_trans</th>\n",
       "      <th>alcohol</th>\n",
       "      <th>ash</th>\n",
       "      <th>caffeine</th>\n",
       "      <th>theobromine</th>\n",
       "      <th>water</th>\n",
       "    </tr>\n",
       "    <tr>\n",
       "      <th>name</th>\n",
       "      <th>folic_acid</th>\n",
       "      <th></th>\n",
       "      <th></th>\n",
       "      <th></th>\n",
       "      <th></th>\n",
       "      <th></th>\n",
       "      <th></th>\n",
       "      <th></th>\n",
       "      <th></th>\n",
       "      <th></th>\n",
       "      <th></th>\n",
       "      <th></th>\n",
       "      <th></th>\n",
       "      <th></th>\n",
       "      <th></th>\n",
       "      <th></th>\n",
       "      <th></th>\n",
       "      <th></th>\n",
       "      <th></th>\n",
       "      <th></th>\n",
       "      <th></th>\n",
       "      <th></th>\n",
       "    </tr>\n",
       "  </thead>\n",
       "  <tbody>\n",
       "    <tr>\n",
       "      <th>Cornstarch</th>\n",
       "      <th>0.00 mcg</th>\n",
       "      <td>100 g</td>\n",
       "      <td>381</td>\n",
       "      <td>0.1g</td>\n",
       "      <td>NaN</td>\n",
       "      <td>0</td>\n",
       "      <td>9.00 mg</td>\n",
       "      <td>0.4 mg</td>\n",
       "      <td>0.00 mcg</td>\n",
       "      <td>0.00 mcg</td>\n",
       "      <td>0.000 mg</td>\n",
       "      <td>...</td>\n",
       "      <td>0.05 g</td>\n",
       "      <td>0.009 g</td>\n",
       "      <td>0.016 g</td>\n",
       "      <td>0.025 g</td>\n",
       "      <td>0.00 mg</td>\n",
       "      <td>0.0 g</td>\n",
       "      <td>0.09 g</td>\n",
       "      <td>0.00 mg</td>\n",
       "      <td>0.00 mg</td>\n",
       "      <td>8.32 g</td>\n",
       "    </tr>\n",
       "    <tr>\n",
       "      <th>Nuts, pecans</th>\n",
       "      <th>0.00 mcg</th>\n",
       "      <td>100 g</td>\n",
       "      <td>691</td>\n",
       "      <td>72g</td>\n",
       "      <td>6.2g</td>\n",
       "      <td>0</td>\n",
       "      <td>0.00 mg</td>\n",
       "      <td>40.5 mg</td>\n",
       "      <td>22.00 mcg</td>\n",
       "      <td>0.00 mcg</td>\n",
       "      <td>1.167 mg</td>\n",
       "      <td>...</td>\n",
       "      <td>71.97 g</td>\n",
       "      <td>6.180 g</td>\n",
       "      <td>40.801 g</td>\n",
       "      <td>21.614 g</td>\n",
       "      <td>0.00 mg</td>\n",
       "      <td>0.0 g</td>\n",
       "      <td>1.49 g</td>\n",
       "      <td>0.00 mg</td>\n",
       "      <td>0.00 mg</td>\n",
       "      <td>3.52 g</td>\n",
       "    </tr>\n",
       "    <tr>\n",
       "      <th>Eggplant, raw</th>\n",
       "      <th>0.00 mcg</th>\n",
       "      <td>100 g</td>\n",
       "      <td>25</td>\n",
       "      <td>0.2g</td>\n",
       "      <td>NaN</td>\n",
       "      <td>0</td>\n",
       "      <td>2.00 mg</td>\n",
       "      <td>6.9 mg</td>\n",
       "      <td>22.00 mcg</td>\n",
       "      <td>0.00 mcg</td>\n",
       "      <td>0.649 mg</td>\n",
       "      <td>...</td>\n",
       "      <td>0.18 g</td>\n",
       "      <td>0.034 g</td>\n",
       "      <td>0.016 g</td>\n",
       "      <td>0.076 g</td>\n",
       "      <td>0.00 mg</td>\n",
       "      <td>0.0 g</td>\n",
       "      <td>0.66 g</td>\n",
       "      <td>0.00 mg</td>\n",
       "      <td>0.00 mg</td>\n",
       "      <td>92.30 g</td>\n",
       "    </tr>\n",
       "  </tbody>\n",
       "</table>\n",
       "<p>3 rows × 75 columns</p>\n",
       "</div>"
      ],
      "text/plain": [
       "                         serving_size  calories total_fat saturated_fat  \\\n",
       "name          folic_acid                                                  \n",
       "Cornstarch    0.00 mcg          100 g       381      0.1g           NaN   \n",
       "Nuts, pecans  0.00 mcg          100 g       691       72g          6.2g   \n",
       "Eggplant, raw 0.00 mcg          100 g        25      0.2g           NaN   \n",
       "\n",
       "                         cholesterol   sodium  choline     folate folic_acid  \\\n",
       "name          folic_acid                                                       \n",
       "Cornstarch    0.00 mcg             0  9.00 mg   0.4 mg   0.00 mcg   0.00 mcg   \n",
       "Nuts, pecans  0.00 mcg             0  0.00 mg  40.5 mg  22.00 mcg   0.00 mcg   \n",
       "Eggplant, raw 0.00 mcg             0  2.00 mg   6.9 mg  22.00 mcg   0.00 mcg   \n",
       "\n",
       "                            niacin  ...      fat saturated_fatty_acids  \\\n",
       "name          folic_acid            ...                                  \n",
       "Cornstarch    0.00 mcg    0.000 mg  ...   0.05 g               0.009 g   \n",
       "Nuts, pecans  0.00 mcg    1.167 mg  ...  71.97 g               6.180 g   \n",
       "Eggplant, raw 0.00 mcg    0.649 mg  ...   0.18 g               0.034 g   \n",
       "\n",
       "                         monounsaturated_fatty_acids  \\\n",
       "name          folic_acid                               \n",
       "Cornstarch    0.00 mcg                       0.016 g   \n",
       "Nuts, pecans  0.00 mcg                      40.801 g   \n",
       "Eggplant, raw 0.00 mcg                       0.016 g   \n",
       "\n",
       "                         polyunsaturated_fatty_acids fatty_acids_total_trans  \\\n",
       "name          folic_acid                                                       \n",
       "Cornstarch    0.00 mcg                       0.025 g                 0.00 mg   \n",
       "Nuts, pecans  0.00 mcg                      21.614 g                 0.00 mg   \n",
       "Eggplant, raw 0.00 mcg                       0.076 g                 0.00 mg   \n",
       "\n",
       "                         alcohol     ash caffeine theobromine    water  \n",
       "name          folic_acid                                                \n",
       "Cornstarch    0.00 mcg     0.0 g  0.09 g  0.00 mg     0.00 mg   8.32 g  \n",
       "Nuts, pecans  0.00 mcg     0.0 g  1.49 g  0.00 mg     0.00 mg   3.52 g  \n",
       "Eggplant, raw 0.00 mcg     0.0 g  0.66 g  0.00 mg     0.00 mg  92.30 g  \n",
       "\n",
       "[3 rows x 75 columns]"
      ]
     },
     "execution_count": 82,
     "metadata": {},
     "output_type": "execute_result"
    }
   ],
   "source": [
    "# if you set drop False, it is not only set index but also stay column\n",
    "# Append True it is set MultiIndex\n",
    "# varify_integrity True, unique value appear\n",
    "nut.set_index('folic_acid',drop=False,append=True,verify_integrity=False).head(3)"
   ]
  },
  {
   "cell_type": "code",
   "execution_count": 83,
   "id": "b85a9208",
   "metadata": {},
   "outputs": [
    {
     "data": {
      "text/plain": [
       "884    78\n",
       "47     45\n",
       "56     43\n",
       "0      39\n",
       "50     38\n",
       "       ..\n",
       "897     1\n",
       "685     1\n",
       "669     1\n",
       "605     1\n",
       "727     1\n",
       "Name: calories, Length: 671, dtype: int64"
      ]
     },
     "execution_count": 83,
     "metadata": {},
     "output_type": "execute_result"
    }
   ],
   "source": [
    "nut.calories.value_counts()"
   ]
  },
  {
   "cell_type": "code",
   "execution_count": 84,
   "id": "ae674ae0",
   "metadata": {},
   "outputs": [],
   "source": [
    "# if varify_integrity True , it is show error beacuse it is not unique, it has duplicated value\n",
    "# nut.set_index('calories',varify_integrity=True)"
   ]
  },
  {
   "cell_type": "markdown",
   "id": "c7596257",
   "metadata": {},
   "source": [
    "## Extracting From DataFrame by Label"
   ]
  },
  {
   "cell_type": "code",
   "execution_count": 85,
   "id": "efb32d3c",
   "metadata": {},
   "outputs": [
    {
     "data": {
      "text/html": [
       "<div>\n",
       "<style scoped>\n",
       "    .dataframe tbody tr th:only-of-type {\n",
       "        vertical-align: middle;\n",
       "    }\n",
       "\n",
       "    .dataframe tbody tr th {\n",
       "        vertical-align: top;\n",
       "    }\n",
       "\n",
       "    .dataframe thead th {\n",
       "        text-align: right;\n",
       "    }\n",
       "</style>\n",
       "<table border=\"1\" class=\"dataframe\">\n",
       "  <thead>\n",
       "    <tr style=\"text-align: right;\">\n",
       "      <th></th>\n",
       "      <th>serving_size</th>\n",
       "      <th>calories</th>\n",
       "      <th>total_fat</th>\n",
       "      <th>saturated_fat</th>\n",
       "      <th>cholesterol</th>\n",
       "      <th>sodium</th>\n",
       "      <th>choline</th>\n",
       "      <th>folate</th>\n",
       "      <th>folic_acid</th>\n",
       "      <th>niacin</th>\n",
       "      <th>...</th>\n",
       "      <th>fat</th>\n",
       "      <th>saturated_fatty_acids</th>\n",
       "      <th>monounsaturated_fatty_acids</th>\n",
       "      <th>polyunsaturated_fatty_acids</th>\n",
       "      <th>fatty_acids_total_trans</th>\n",
       "      <th>alcohol</th>\n",
       "      <th>ash</th>\n",
       "      <th>caffeine</th>\n",
       "      <th>theobromine</th>\n",
       "      <th>water</th>\n",
       "    </tr>\n",
       "    <tr>\n",
       "      <th>name</th>\n",
       "      <th></th>\n",
       "      <th></th>\n",
       "      <th></th>\n",
       "      <th></th>\n",
       "      <th></th>\n",
       "      <th></th>\n",
       "      <th></th>\n",
       "      <th></th>\n",
       "      <th></th>\n",
       "      <th></th>\n",
       "      <th></th>\n",
       "      <th></th>\n",
       "      <th></th>\n",
       "      <th></th>\n",
       "      <th></th>\n",
       "      <th></th>\n",
       "      <th></th>\n",
       "      <th></th>\n",
       "      <th></th>\n",
       "      <th></th>\n",
       "      <th></th>\n",
       "    </tr>\n",
       "  </thead>\n",
       "  <tbody>\n",
       "    <tr>\n",
       "      <th>Cornstarch</th>\n",
       "      <td>100 g</td>\n",
       "      <td>381</td>\n",
       "      <td>0.1g</td>\n",
       "      <td>NaN</td>\n",
       "      <td>0</td>\n",
       "      <td>9.00 mg</td>\n",
       "      <td>0.4 mg</td>\n",
       "      <td>0.00 mcg</td>\n",
       "      <td>0.00 mcg</td>\n",
       "      <td>0.000 mg</td>\n",
       "      <td>...</td>\n",
       "      <td>0.05 g</td>\n",
       "      <td>0.009 g</td>\n",
       "      <td>0.016 g</td>\n",
       "      <td>0.025 g</td>\n",
       "      <td>0.00 mg</td>\n",
       "      <td>0.0 g</td>\n",
       "      <td>0.09 g</td>\n",
       "      <td>0.00 mg</td>\n",
       "      <td>0.00 mg</td>\n",
       "      <td>8.32 g</td>\n",
       "    </tr>\n",
       "    <tr>\n",
       "      <th>Nuts, pecans</th>\n",
       "      <td>100 g</td>\n",
       "      <td>691</td>\n",
       "      <td>72g</td>\n",
       "      <td>6.2g</td>\n",
       "      <td>0</td>\n",
       "      <td>0.00 mg</td>\n",
       "      <td>40.5 mg</td>\n",
       "      <td>22.00 mcg</td>\n",
       "      <td>0.00 mcg</td>\n",
       "      <td>1.167 mg</td>\n",
       "      <td>...</td>\n",
       "      <td>71.97 g</td>\n",
       "      <td>6.180 g</td>\n",
       "      <td>40.801 g</td>\n",
       "      <td>21.614 g</td>\n",
       "      <td>0.00 mg</td>\n",
       "      <td>0.0 g</td>\n",
       "      <td>1.49 g</td>\n",
       "      <td>0.00 mg</td>\n",
       "      <td>0.00 mg</td>\n",
       "      <td>3.52 g</td>\n",
       "    </tr>\n",
       "    <tr>\n",
       "      <th>Eggplant, raw</th>\n",
       "      <td>100 g</td>\n",
       "      <td>25</td>\n",
       "      <td>0.2g</td>\n",
       "      <td>NaN</td>\n",
       "      <td>0</td>\n",
       "      <td>2.00 mg</td>\n",
       "      <td>6.9 mg</td>\n",
       "      <td>22.00 mcg</td>\n",
       "      <td>0.00 mcg</td>\n",
       "      <td>0.649 mg</td>\n",
       "      <td>...</td>\n",
       "      <td>0.18 g</td>\n",
       "      <td>0.034 g</td>\n",
       "      <td>0.016 g</td>\n",
       "      <td>0.076 g</td>\n",
       "      <td>0.00 mg</td>\n",
       "      <td>0.0 g</td>\n",
       "      <td>0.66 g</td>\n",
       "      <td>0.00 mg</td>\n",
       "      <td>0.00 mg</td>\n",
       "      <td>92.30 g</td>\n",
       "    </tr>\n",
       "  </tbody>\n",
       "</table>\n",
       "<p>3 rows × 75 columns</p>\n",
       "</div>"
      ],
      "text/plain": [
       "              serving_size  calories total_fat saturated_fat cholesterol  \\\n",
       "name                                                                       \n",
       "Cornstarch           100 g       381      0.1g           NaN           0   \n",
       "Nuts, pecans         100 g       691       72g          6.2g           0   \n",
       "Eggplant, raw        100 g        25      0.2g           NaN           0   \n",
       "\n",
       "                sodium  choline     folate folic_acid    niacin  ...      fat  \\\n",
       "name                                                             ...            \n",
       "Cornstarch     9.00 mg   0.4 mg   0.00 mcg   0.00 mcg  0.000 mg  ...   0.05 g   \n",
       "Nuts, pecans   0.00 mg  40.5 mg  22.00 mcg   0.00 mcg  1.167 mg  ...  71.97 g   \n",
       "Eggplant, raw  2.00 mg   6.9 mg  22.00 mcg   0.00 mcg  0.649 mg  ...   0.18 g   \n",
       "\n",
       "              saturated_fatty_acids monounsaturated_fatty_acids  \\\n",
       "name                                                              \n",
       "Cornstarch                  0.009 g                     0.016 g   \n",
       "Nuts, pecans                6.180 g                    40.801 g   \n",
       "Eggplant, raw               0.034 g                     0.016 g   \n",
       "\n",
       "              polyunsaturated_fatty_acids fatty_acids_total_trans alcohol  \\\n",
       "name                                                                        \n",
       "Cornstarch                        0.025 g                 0.00 mg   0.0 g   \n",
       "Nuts, pecans                     21.614 g                 0.00 mg   0.0 g   \n",
       "Eggplant, raw                     0.076 g                 0.00 mg   0.0 g   \n",
       "\n",
       "                  ash caffeine theobromine    water  \n",
       "name                                                 \n",
       "Cornstarch     0.09 g  0.00 mg     0.00 mg   8.32 g  \n",
       "Nuts, pecans   1.49 g  0.00 mg     0.00 mg   3.52 g  \n",
       "Eggplant, raw  0.66 g  0.00 mg     0.00 mg  92.30 g  \n",
       "\n",
       "[3 rows x 75 columns]"
      ]
     },
     "execution_count": 85,
     "metadata": {},
     "output_type": "execute_result"
    }
   ],
   "source": [
    "nut.head(3)"
   ]
  },
  {
   "cell_type": "code",
   "execution_count": 86,
   "id": "5f5bb230",
   "metadata": {},
   "outputs": [
    {
     "data": {
      "text/plain": [
       "serving_size       100 g\n",
       "calories              25\n",
       "total_fat           0.2g\n",
       "saturated_fat        NaN\n",
       "cholesterol            0\n",
       "                  ...   \n",
       "alcohol            0.0 g\n",
       "ash               0.66 g\n",
       "caffeine         0.00 mg\n",
       "theobromine      0.00 mg\n",
       "water            92.30 g\n",
       "Name: Eggplant, raw, Length: 75, dtype: object"
      ]
     },
     "execution_count": 86,
     "metadata": {},
     "output_type": "execute_result"
    }
   ],
   "source": [
    "# loc[] it extracting data by label\n",
    "nut.loc['Eggplant, raw']"
   ]
  },
  {
   "cell_type": "code",
   "execution_count": 87,
   "id": "9383c54d",
   "metadata": {},
   "outputs": [
    {
     "data": {
      "text/plain": [
       "pandas.core.series.Series"
      ]
     },
     "execution_count": 87,
     "metadata": {},
     "output_type": "execute_result"
    }
   ],
   "source": [
    "type(nut.loc['Eggplant, raw'])"
   ]
  },
  {
   "cell_type": "code",
   "execution_count": 88,
   "id": "8b18d4c4",
   "metadata": {},
   "outputs": [
    {
     "data": {
      "text/plain": [
       "25"
      ]
     },
     "execution_count": 88,
     "metadata": {},
     "output_type": "execute_result"
    }
   ],
   "source": [
    "nut.loc['Eggplant, raw']['calories']"
   ]
  },
  {
   "cell_type": "code",
   "execution_count": 89,
   "id": "1e7abcc3",
   "metadata": {},
   "outputs": [
    {
     "data": {
      "text/plain": [
       "25"
      ]
     },
     "execution_count": 89,
     "metadata": {},
     "output_type": "execute_result"
    }
   ],
   "source": [
    "nut.loc['Eggplant, raw','calories']"
   ]
  },
  {
   "cell_type": "code",
   "execution_count": 90,
   "id": "11216ea0",
   "metadata": {},
   "outputs": [
    {
     "data": {
      "text/html": [
       "<div>\n",
       "<style scoped>\n",
       "    .dataframe tbody tr th:only-of-type {\n",
       "        vertical-align: middle;\n",
       "    }\n",
       "\n",
       "    .dataframe tbody tr th {\n",
       "        vertical-align: top;\n",
       "    }\n",
       "\n",
       "    .dataframe thead th {\n",
       "        text-align: right;\n",
       "    }\n",
       "</style>\n",
       "<table border=\"1\" class=\"dataframe\">\n",
       "  <thead>\n",
       "    <tr style=\"text-align: right;\">\n",
       "      <th></th>\n",
       "      <th>calories</th>\n",
       "      <th>total_fat</th>\n",
       "      <th>saturated_fat</th>\n",
       "      <th>cholesterol</th>\n",
       "    </tr>\n",
       "    <tr>\n",
       "      <th>name</th>\n",
       "      <th></th>\n",
       "      <th></th>\n",
       "      <th></th>\n",
       "      <th></th>\n",
       "    </tr>\n",
       "  </thead>\n",
       "  <tbody>\n",
       "    <tr>\n",
       "      <th>Eggplant, raw</th>\n",
       "      <td>25</td>\n",
       "      <td>0.2g</td>\n",
       "      <td>NaN</td>\n",
       "      <td>0</td>\n",
       "    </tr>\n",
       "    <tr>\n",
       "      <th>Teff, uncooked</th>\n",
       "      <td>367</td>\n",
       "      <td>2.4g</td>\n",
       "      <td>0.4g</td>\n",
       "      <td>0</td>\n",
       "    </tr>\n",
       "    <tr>\n",
       "      <th>Sherbet, orange</th>\n",
       "      <td>144</td>\n",
       "      <td>2g</td>\n",
       "      <td>1.2g</td>\n",
       "      <td>1mg</td>\n",
       "    </tr>\n",
       "  </tbody>\n",
       "</table>\n",
       "</div>"
      ],
      "text/plain": [
       "                 calories total_fat saturated_fat cholesterol\n",
       "name                                                         \n",
       "Eggplant, raw          25      0.2g           NaN           0\n",
       "Teff, uncooked        367      2.4g          0.4g           0\n",
       "Sherbet, orange       144        2g          1.2g         1mg"
      ]
     },
     "execution_count": 90,
     "metadata": {},
     "output_type": "execute_result"
    }
   ],
   "source": [
    "nut.loc['Eggplant, raw':'Sherbet, orange','calories':'cholesterol']"
   ]
  },
  {
   "cell_type": "code",
   "execution_count": 91,
   "id": "822b5263",
   "metadata": {},
   "outputs": [
    {
     "data": {
      "text/plain": [
       "pandas.core.frame.DataFrame"
      ]
     },
     "execution_count": 91,
     "metadata": {},
     "output_type": "execute_result"
    }
   ],
   "source": [
    "type(nut.loc['Eggplant, raw':'Sherbet, orange','calories':'cholesterol'])"
   ]
  },
  {
   "cell_type": "code",
   "execution_count": 92,
   "id": "3c791fb1",
   "metadata": {},
   "outputs": [
    {
     "data": {
      "text/html": [
       "<div>\n",
       "<style scoped>\n",
       "    .dataframe tbody tr th:only-of-type {\n",
       "        vertical-align: middle;\n",
       "    }\n",
       "\n",
       "    .dataframe tbody tr th {\n",
       "        vertical-align: top;\n",
       "    }\n",
       "\n",
       "    .dataframe thead th {\n",
       "        text-align: right;\n",
       "    }\n",
       "</style>\n",
       "<table border=\"1\" class=\"dataframe\">\n",
       "  <thead>\n",
       "    <tr style=\"text-align: right;\">\n",
       "      <th></th>\n",
       "      <th>calories</th>\n",
       "      <th>cholesterol</th>\n",
       "      <th>water</th>\n",
       "    </tr>\n",
       "    <tr>\n",
       "      <th>name</th>\n",
       "      <th></th>\n",
       "      <th></th>\n",
       "      <th></th>\n",
       "    </tr>\n",
       "  </thead>\n",
       "  <tbody>\n",
       "    <tr>\n",
       "      <th>Eggplant, raw</th>\n",
       "      <td>25</td>\n",
       "      <td>0</td>\n",
       "      <td>92.30 g</td>\n",
       "    </tr>\n",
       "    <tr>\n",
       "      <th>Sherbet, orange</th>\n",
       "      <td>144</td>\n",
       "      <td>1mg</td>\n",
       "      <td>66.10 g</td>\n",
       "    </tr>\n",
       "  </tbody>\n",
       "</table>\n",
       "</div>"
      ],
      "text/plain": [
       "                 calories cholesterol    water\n",
       "name                                          \n",
       "Eggplant, raw          25           0  92.30 g\n",
       "Sherbet, orange       144         1mg  66.10 g"
      ]
     },
     "execution_count": 92,
     "metadata": {},
     "output_type": "execute_result"
    }
   ],
   "source": [
    "# if you want to extracted data specific way by label\n",
    "nut.loc[\n",
    "    ['Eggplant, raw','Sherbet, orange'],\n",
    "    ['calories','cholesterol','water']\n",
    "]"
   ]
  },
  {
   "cell_type": "markdown",
   "id": "9ecb3c97",
   "metadata": {},
   "source": [
    "### Extracted data from Dataframe by Position "
   ]
  },
  {
   "cell_type": "code",
   "execution_count": 93,
   "id": "ea837e1d",
   "metadata": {},
   "outputs": [
    {
     "data": {
      "text/plain": [
       "serving_size      100 g\n",
       "calories            367\n",
       "total_fat          2.4g\n",
       "saturated_fat      0.4g\n",
       "cholesterol           0\n",
       "                  ...  \n",
       "alcohol               0\n",
       "ash              2.37 g\n",
       "caffeine              0\n",
       "theobromine           0\n",
       "water            8.82 g\n",
       "Name: Teff, uncooked, Length: 75, dtype: object"
      ]
     },
     "execution_count": 93,
     "metadata": {},
     "output_type": "execute_result"
    }
   ],
   "source": [
    "nut.iloc[3]"
   ]
  },
  {
   "cell_type": "code",
   "execution_count": 94,
   "id": "b24459a2",
   "metadata": {},
   "outputs": [
    {
     "data": {
      "text/plain": [
       "serving_size      100 g\n",
       "calories            367\n",
       "total_fat          2.4g\n",
       "saturated_fat      0.4g\n",
       "cholesterol           0\n",
       "                  ...  \n",
       "alcohol               0\n",
       "ash              2.37 g\n",
       "caffeine              0\n",
       "theobromine           0\n",
       "water            8.82 g\n",
       "Name: Teff, uncooked, Length: 75, dtype: object"
      ]
     },
     "execution_count": 94,
     "metadata": {},
     "output_type": "execute_result"
    }
   ],
   "source": [
    "nut.iloc[3,:]"
   ]
  },
  {
   "cell_type": "code",
   "execution_count": 95,
   "id": "d33d2302",
   "metadata": {},
   "outputs": [
    {
     "data": {
      "text/html": [
       "<div>\n",
       "<style scoped>\n",
       "    .dataframe tbody tr th:only-of-type {\n",
       "        vertical-align: middle;\n",
       "    }\n",
       "\n",
       "    .dataframe tbody tr th {\n",
       "        vertical-align: top;\n",
       "    }\n",
       "\n",
       "    .dataframe thead th {\n",
       "        text-align: right;\n",
       "    }\n",
       "</style>\n",
       "<table border=\"1\" class=\"dataframe\">\n",
       "  <thead>\n",
       "    <tr style=\"text-align: right;\">\n",
       "      <th></th>\n",
       "      <th>serving_size</th>\n",
       "      <th>calories</th>\n",
       "      <th>total_fat</th>\n",
       "      <th>saturated_fat</th>\n",
       "      <th>cholesterol</th>\n",
       "      <th>sodium</th>\n",
       "      <th>choline</th>\n",
       "      <th>folate</th>\n",
       "      <th>folic_acid</th>\n",
       "      <th>niacin</th>\n",
       "      <th>...</th>\n",
       "      <th>fat</th>\n",
       "      <th>saturated_fatty_acids</th>\n",
       "      <th>monounsaturated_fatty_acids</th>\n",
       "      <th>polyunsaturated_fatty_acids</th>\n",
       "      <th>fatty_acids_total_trans</th>\n",
       "      <th>alcohol</th>\n",
       "      <th>ash</th>\n",
       "      <th>caffeine</th>\n",
       "      <th>theobromine</th>\n",
       "      <th>water</th>\n",
       "    </tr>\n",
       "    <tr>\n",
       "      <th>name</th>\n",
       "      <th></th>\n",
       "      <th></th>\n",
       "      <th></th>\n",
       "      <th></th>\n",
       "      <th></th>\n",
       "      <th></th>\n",
       "      <th></th>\n",
       "      <th></th>\n",
       "      <th></th>\n",
       "      <th></th>\n",
       "      <th></th>\n",
       "      <th></th>\n",
       "      <th></th>\n",
       "      <th></th>\n",
       "      <th></th>\n",
       "      <th></th>\n",
       "      <th></th>\n",
       "      <th></th>\n",
       "      <th></th>\n",
       "      <th></th>\n",
       "      <th></th>\n",
       "    </tr>\n",
       "  </thead>\n",
       "  <tbody>\n",
       "    <tr>\n",
       "      <th>Nuts, pecans</th>\n",
       "      <td>100 g</td>\n",
       "      <td>691</td>\n",
       "      <td>72g</td>\n",
       "      <td>6.2g</td>\n",
       "      <td>0</td>\n",
       "      <td>0.00 mg</td>\n",
       "      <td>40.5 mg</td>\n",
       "      <td>22.00 mcg</td>\n",
       "      <td>0.00 mcg</td>\n",
       "      <td>1.167 mg</td>\n",
       "      <td>...</td>\n",
       "      <td>71.97 g</td>\n",
       "      <td>6.180 g</td>\n",
       "      <td>40.801 g</td>\n",
       "      <td>21.614 g</td>\n",
       "      <td>0.00 mg</td>\n",
       "      <td>0.0 g</td>\n",
       "      <td>1.49 g</td>\n",
       "      <td>0.00 mg</td>\n",
       "      <td>0.00 mg</td>\n",
       "      <td>3.52 g</td>\n",
       "    </tr>\n",
       "    <tr>\n",
       "      <th>Teff, uncooked</th>\n",
       "      <td>100 g</td>\n",
       "      <td>367</td>\n",
       "      <td>2.4g</td>\n",
       "      <td>0.4g</td>\n",
       "      <td>0</td>\n",
       "      <td>12.00 mg</td>\n",
       "      <td>13.1 mg</td>\n",
       "      <td>0</td>\n",
       "      <td>0</td>\n",
       "      <td>3.363 mg</td>\n",
       "      <td>...</td>\n",
       "      <td>2.38 g</td>\n",
       "      <td>0.449 g</td>\n",
       "      <td>0.589 g</td>\n",
       "      <td>1.071 g</td>\n",
       "      <td>0</td>\n",
       "      <td>0</td>\n",
       "      <td>2.37 g</td>\n",
       "      <td>0</td>\n",
       "      <td>0</td>\n",
       "      <td>8.82 g</td>\n",
       "    </tr>\n",
       "    <tr>\n",
       "      <th>Cauliflower, raw</th>\n",
       "      <td>100 g</td>\n",
       "      <td>25</td>\n",
       "      <td>0.3g</td>\n",
       "      <td>0.1g</td>\n",
       "      <td>0</td>\n",
       "      <td>30.00 mg</td>\n",
       "      <td>44.3 mg</td>\n",
       "      <td>57.00 mcg</td>\n",
       "      <td>0.00 mcg</td>\n",
       "      <td>0.507 mg</td>\n",
       "      <td>...</td>\n",
       "      <td>0.28 g</td>\n",
       "      <td>0.130 g</td>\n",
       "      <td>0.034 g</td>\n",
       "      <td>0.031 g</td>\n",
       "      <td>0.00 mg</td>\n",
       "      <td>0.0 g</td>\n",
       "      <td>0.76 g</td>\n",
       "      <td>0.00 mg</td>\n",
       "      <td>0.00 mg</td>\n",
       "      <td>92.07 g</td>\n",
       "    </tr>\n",
       "  </tbody>\n",
       "</table>\n",
       "<p>3 rows × 75 columns</p>\n",
       "</div>"
      ],
      "text/plain": [
       "                 serving_size  calories total_fat saturated_fat cholesterol  \\\n",
       "name                                                                          \n",
       "Nuts, pecans            100 g       691       72g          6.2g           0   \n",
       "Teff, uncooked          100 g       367      2.4g          0.4g           0   \n",
       "Cauliflower, raw        100 g        25      0.3g          0.1g           0   \n",
       "\n",
       "                    sodium  choline     folate folic_acid    niacin  ...  \\\n",
       "name                                                                 ...   \n",
       "Nuts, pecans       0.00 mg  40.5 mg  22.00 mcg   0.00 mcg  1.167 mg  ...   \n",
       "Teff, uncooked    12.00 mg  13.1 mg          0          0  3.363 mg  ...   \n",
       "Cauliflower, raw  30.00 mg  44.3 mg  57.00 mcg   0.00 mcg  0.507 mg  ...   \n",
       "\n",
       "                      fat saturated_fatty_acids monounsaturated_fatty_acids  \\\n",
       "name                                                                          \n",
       "Nuts, pecans      71.97 g               6.180 g                    40.801 g   \n",
       "Teff, uncooked     2.38 g               0.449 g                     0.589 g   \n",
       "Cauliflower, raw   0.28 g               0.130 g                     0.034 g   \n",
       "\n",
       "                 polyunsaturated_fatty_acids fatty_acids_total_trans alcohol  \\\n",
       "name                                                                           \n",
       "Nuts, pecans                        21.614 g                 0.00 mg   0.0 g   \n",
       "Teff, uncooked                       1.071 g                       0       0   \n",
       "Cauliflower, raw                     0.031 g                 0.00 mg   0.0 g   \n",
       "\n",
       "                     ash caffeine theobromine    water  \n",
       "name                                                    \n",
       "Nuts, pecans      1.49 g  0.00 mg     0.00 mg   3.52 g  \n",
       "Teff, uncooked    2.37 g        0           0   8.82 g  \n",
       "Cauliflower, raw  0.76 g  0.00 mg     0.00 mg  92.07 g  \n",
       "\n",
       "[3 rows x 75 columns]"
      ]
     },
     "execution_count": 95,
     "metadata": {},
     "output_type": "execute_result"
    }
   ],
   "source": [
    "nut.iloc[[1,3,5],:]"
   ]
  },
  {
   "cell_type": "code",
   "execution_count": 96,
   "id": "ba4f6aed",
   "metadata": {},
   "outputs": [],
   "source": [
    "# nut.iloc[[1,3,5],'total_fat']===> iloc work with position"
   ]
  },
  {
   "cell_type": "code",
   "execution_count": 97,
   "id": "a6b96974",
   "metadata": {},
   "outputs": [
    {
     "data": {
      "text/html": [
       "<div>\n",
       "<style scoped>\n",
       "    .dataframe tbody tr th:only-of-type {\n",
       "        vertical-align: middle;\n",
       "    }\n",
       "\n",
       "    .dataframe tbody tr th {\n",
       "        vertical-align: top;\n",
       "    }\n",
       "\n",
       "    .dataframe thead th {\n",
       "        text-align: right;\n",
       "    }\n",
       "</style>\n",
       "<table border=\"1\" class=\"dataframe\">\n",
       "  <thead>\n",
       "    <tr style=\"text-align: right;\">\n",
       "      <th></th>\n",
       "      <th>total_fat</th>\n",
       "    </tr>\n",
       "    <tr>\n",
       "      <th>name</th>\n",
       "      <th></th>\n",
       "    </tr>\n",
       "  </thead>\n",
       "  <tbody>\n",
       "    <tr>\n",
       "      <th>Nuts, pecans</th>\n",
       "      <td>72g</td>\n",
       "    </tr>\n",
       "    <tr>\n",
       "      <th>Teff, uncooked</th>\n",
       "      <td>2.4g</td>\n",
       "    </tr>\n",
       "    <tr>\n",
       "      <th>Sherbet, orange</th>\n",
       "      <td>2g</td>\n",
       "    </tr>\n",
       "  </tbody>\n",
       "</table>\n",
       "</div>"
      ],
      "text/plain": [
       "                total_fat\n",
       "name                     \n",
       "Nuts, pecans          72g\n",
       "Teff, uncooked       2.4g\n",
       "Sherbet, orange        2g"
      ]
     },
     "execution_count": 97,
     "metadata": {},
     "output_type": "execute_result"
    }
   ],
   "source": [
    "nut.iloc[[1,3,4],2:3]"
   ]
  },
  {
   "cell_type": "code",
   "execution_count": 98,
   "id": "42799267",
   "metadata": {},
   "outputs": [
    {
     "data": {
      "text/html": [
       "<div>\n",
       "<style scoped>\n",
       "    .dataframe tbody tr th:only-of-type {\n",
       "        vertical-align: middle;\n",
       "    }\n",
       "\n",
       "    .dataframe tbody tr th {\n",
       "        vertical-align: top;\n",
       "    }\n",
       "\n",
       "    .dataframe thead th {\n",
       "        text-align: right;\n",
       "    }\n",
       "</style>\n",
       "<table border=\"1\" class=\"dataframe\">\n",
       "  <thead>\n",
       "    <tr style=\"text-align: right;\">\n",
       "      <th></th>\n",
       "      <th>serving_size</th>\n",
       "      <th>total_fat</th>\n",
       "      <th>cholesterol</th>\n",
       "      <th>choline</th>\n",
       "      <th>folic_acid</th>\n",
       "      <th>pantothenic_acid</th>\n",
       "      <th>thiamin</th>\n",
       "      <th>vitamin_a_rae</th>\n",
       "      <th>carotene_beta</th>\n",
       "      <th>lutein_zeaxanthin</th>\n",
       "      <th>...</th>\n",
       "      <th>carbohydrate</th>\n",
       "      <th>sugars</th>\n",
       "      <th>galactose</th>\n",
       "      <th>lactose</th>\n",
       "      <th>sucrose</th>\n",
       "      <th>saturated_fatty_acids</th>\n",
       "      <th>polyunsaturated_fatty_acids</th>\n",
       "      <th>alcohol</th>\n",
       "      <th>caffeine</th>\n",
       "      <th>water</th>\n",
       "    </tr>\n",
       "    <tr>\n",
       "      <th>name</th>\n",
       "      <th></th>\n",
       "      <th></th>\n",
       "      <th></th>\n",
       "      <th></th>\n",
       "      <th></th>\n",
       "      <th></th>\n",
       "      <th></th>\n",
       "      <th></th>\n",
       "      <th></th>\n",
       "      <th></th>\n",
       "      <th></th>\n",
       "      <th></th>\n",
       "      <th></th>\n",
       "      <th></th>\n",
       "      <th></th>\n",
       "      <th></th>\n",
       "      <th></th>\n",
       "      <th></th>\n",
       "      <th></th>\n",
       "      <th></th>\n",
       "      <th></th>\n",
       "    </tr>\n",
       "  </thead>\n",
       "  <tbody>\n",
       "    <tr>\n",
       "      <th>Cornstarch</th>\n",
       "      <td>100 g</td>\n",
       "      <td>0.1g</td>\n",
       "      <td>0</td>\n",
       "      <td>0.4 mg</td>\n",
       "      <td>0.00 mcg</td>\n",
       "      <td>0.000 mg</td>\n",
       "      <td>0.000 mg</td>\n",
       "      <td>0.00 mcg</td>\n",
       "      <td>0.00 mcg</td>\n",
       "      <td>0.00 mcg</td>\n",
       "      <td>...</td>\n",
       "      <td>91.27 g</td>\n",
       "      <td>0.00 g</td>\n",
       "      <td>0</td>\n",
       "      <td>0</td>\n",
       "      <td>0</td>\n",
       "      <td>0.009 g</td>\n",
       "      <td>0.025 g</td>\n",
       "      <td>0.0 g</td>\n",
       "      <td>0.00 mg</td>\n",
       "      <td>8.32 g</td>\n",
       "    </tr>\n",
       "    <tr>\n",
       "      <th>Eggplant, raw</th>\n",
       "      <td>100 g</td>\n",
       "      <td>0.2g</td>\n",
       "      <td>0</td>\n",
       "      <td>6.9 mg</td>\n",
       "      <td>0.00 mcg</td>\n",
       "      <td>0.281 mg</td>\n",
       "      <td>0.039 mg</td>\n",
       "      <td>1.00 mcg</td>\n",
       "      <td>14.00 mcg</td>\n",
       "      <td>36.00 mcg</td>\n",
       "      <td>...</td>\n",
       "      <td>5.88 g</td>\n",
       "      <td>3.53 g</td>\n",
       "      <td>0</td>\n",
       "      <td>0</td>\n",
       "      <td>0.26 g</td>\n",
       "      <td>0.034 g</td>\n",
       "      <td>0.076 g</td>\n",
       "      <td>0.0 g</td>\n",
       "      <td>0.00 mg</td>\n",
       "      <td>92.30 g</td>\n",
       "    </tr>\n",
       "  </tbody>\n",
       "</table>\n",
       "<p>2 rows × 38 columns</p>\n",
       "</div>"
      ],
      "text/plain": [
       "              serving_size total_fat cholesterol choline folic_acid  \\\n",
       "name                                                                  \n",
       "Cornstarch           100 g      0.1g           0  0.4 mg   0.00 mcg   \n",
       "Eggplant, raw        100 g      0.2g           0  6.9 mg   0.00 mcg   \n",
       "\n",
       "              pantothenic_acid   thiamin vitamin_a_rae carotene_beta  \\\n",
       "name                                                                   \n",
       "Cornstarch            0.000 mg  0.000 mg      0.00 mcg      0.00 mcg   \n",
       "Eggplant, raw         0.281 mg  0.039 mg      1.00 mcg     14.00 mcg   \n",
       "\n",
       "              lutein_zeaxanthin  ... carbohydrate  sugars galactose lactose  \\\n",
       "name                             ...                                          \n",
       "Cornstarch             0.00 mcg  ...      91.27 g  0.00 g         0       0   \n",
       "Eggplant, raw         36.00 mcg  ...       5.88 g  3.53 g         0       0   \n",
       "\n",
       "              sucrose saturated_fatty_acids polyunsaturated_fatty_acids  \\\n",
       "name                                                                      \n",
       "Cornstarch          0               0.009 g                     0.025 g   \n",
       "Eggplant, raw  0.26 g               0.034 g                     0.076 g   \n",
       "\n",
       "              alcohol caffeine    water  \n",
       "name                                     \n",
       "Cornstarch      0.0 g  0.00 mg   8.32 g  \n",
       "Eggplant, raw   0.0 g  0.00 mg  92.30 g  \n",
       "\n",
       "[2 rows x 38 columns]"
      ]
     },
     "execution_count": 98,
     "metadata": {},
     "output_type": "execute_result"
    }
   ],
   "source": [
    "# Boolean Mask\n",
    "nut.iloc[\n",
    "    [True if i%2==0 else False for i in range(8789)],\n",
    "    [True if i%2==0 else False for i in range(75)]\n",
    "].head(2)"
   ]
  },
  {
   "cell_type": "code",
   "execution_count": 99,
   "id": "8b58e8b3",
   "metadata": {},
   "outputs": [
    {
     "data": {
      "text/plain": [
       "4395"
      ]
     },
     "execution_count": 99,
     "metadata": {},
     "output_type": "execute_result"
    }
   ],
   "source": [
    "len(nut.iloc[\n",
    "    [True if i%2==0 else False for i in range(8789)],\n",
    "    [True if i%2==0 else False for i in range(75)]\n",
    "])"
   ]
  },
  {
   "cell_type": "code",
   "execution_count": 100,
   "id": "3b86f2e7",
   "metadata": {},
   "outputs": [
    {
     "data": {
      "text/plain": [
       "4394.5"
      ]
     },
     "execution_count": 100,
     "metadata": {},
     "output_type": "execute_result"
    }
   ],
   "source": [
    "nut.shape[0]*.5"
   ]
  },
  {
   "cell_type": "markdown",
   "id": "a8e1a7a7",
   "metadata": {},
   "source": [
    "### single Value extracting data by at[], iat[]"
   ]
  },
  {
   "cell_type": "code",
   "execution_count": 101,
   "id": "62b3ec0f",
   "metadata": {},
   "outputs": [
    {
     "data": {
      "text/html": [
       "<div>\n",
       "<style scoped>\n",
       "    .dataframe tbody tr th:only-of-type {\n",
       "        vertical-align: middle;\n",
       "    }\n",
       "\n",
       "    .dataframe tbody tr th {\n",
       "        vertical-align: top;\n",
       "    }\n",
       "\n",
       "    .dataframe thead th {\n",
       "        text-align: right;\n",
       "    }\n",
       "</style>\n",
       "<table border=\"1\" class=\"dataframe\">\n",
       "  <thead>\n",
       "    <tr style=\"text-align: right;\">\n",
       "      <th></th>\n",
       "      <th>serving_size</th>\n",
       "      <th>calories</th>\n",
       "      <th>total_fat</th>\n",
       "      <th>saturated_fat</th>\n",
       "      <th>cholesterol</th>\n",
       "      <th>sodium</th>\n",
       "      <th>choline</th>\n",
       "      <th>folate</th>\n",
       "      <th>folic_acid</th>\n",
       "      <th>niacin</th>\n",
       "      <th>...</th>\n",
       "      <th>fat</th>\n",
       "      <th>saturated_fatty_acids</th>\n",
       "      <th>monounsaturated_fatty_acids</th>\n",
       "      <th>polyunsaturated_fatty_acids</th>\n",
       "      <th>fatty_acids_total_trans</th>\n",
       "      <th>alcohol</th>\n",
       "      <th>ash</th>\n",
       "      <th>caffeine</th>\n",
       "      <th>theobromine</th>\n",
       "      <th>water</th>\n",
       "    </tr>\n",
       "    <tr>\n",
       "      <th>name</th>\n",
       "      <th></th>\n",
       "      <th></th>\n",
       "      <th></th>\n",
       "      <th></th>\n",
       "      <th></th>\n",
       "      <th></th>\n",
       "      <th></th>\n",
       "      <th></th>\n",
       "      <th></th>\n",
       "      <th></th>\n",
       "      <th></th>\n",
       "      <th></th>\n",
       "      <th></th>\n",
       "      <th></th>\n",
       "      <th></th>\n",
       "      <th></th>\n",
       "      <th></th>\n",
       "      <th></th>\n",
       "      <th></th>\n",
       "      <th></th>\n",
       "      <th></th>\n",
       "    </tr>\n",
       "  </thead>\n",
       "  <tbody>\n",
       "    <tr>\n",
       "      <th>Cornstarch</th>\n",
       "      <td>100 g</td>\n",
       "      <td>381</td>\n",
       "      <td>0.1g</td>\n",
       "      <td>NaN</td>\n",
       "      <td>0</td>\n",
       "      <td>9.00 mg</td>\n",
       "      <td>0.4 mg</td>\n",
       "      <td>0.00 mcg</td>\n",
       "      <td>0.00 mcg</td>\n",
       "      <td>0.000 mg</td>\n",
       "      <td>...</td>\n",
       "      <td>0.05 g</td>\n",
       "      <td>0.009 g</td>\n",
       "      <td>0.016 g</td>\n",
       "      <td>0.025 g</td>\n",
       "      <td>0.00 mg</td>\n",
       "      <td>0.0 g</td>\n",
       "      <td>0.09 g</td>\n",
       "      <td>0.00 mg</td>\n",
       "      <td>0.00 mg</td>\n",
       "      <td>8.32 g</td>\n",
       "    </tr>\n",
       "    <tr>\n",
       "      <th>Nuts, pecans</th>\n",
       "      <td>100 g</td>\n",
       "      <td>691</td>\n",
       "      <td>72g</td>\n",
       "      <td>6.2g</td>\n",
       "      <td>0</td>\n",
       "      <td>0.00 mg</td>\n",
       "      <td>40.5 mg</td>\n",
       "      <td>22.00 mcg</td>\n",
       "      <td>0.00 mcg</td>\n",
       "      <td>1.167 mg</td>\n",
       "      <td>...</td>\n",
       "      <td>71.97 g</td>\n",
       "      <td>6.180 g</td>\n",
       "      <td>40.801 g</td>\n",
       "      <td>21.614 g</td>\n",
       "      <td>0.00 mg</td>\n",
       "      <td>0.0 g</td>\n",
       "      <td>1.49 g</td>\n",
       "      <td>0.00 mg</td>\n",
       "      <td>0.00 mg</td>\n",
       "      <td>3.52 g</td>\n",
       "    </tr>\n",
       "    <tr>\n",
       "      <th>Eggplant, raw</th>\n",
       "      <td>100 g</td>\n",
       "      <td>25</td>\n",
       "      <td>0.2g</td>\n",
       "      <td>NaN</td>\n",
       "      <td>0</td>\n",
       "      <td>2.00 mg</td>\n",
       "      <td>6.9 mg</td>\n",
       "      <td>22.00 mcg</td>\n",
       "      <td>0.00 mcg</td>\n",
       "      <td>0.649 mg</td>\n",
       "      <td>...</td>\n",
       "      <td>0.18 g</td>\n",
       "      <td>0.034 g</td>\n",
       "      <td>0.016 g</td>\n",
       "      <td>0.076 g</td>\n",
       "      <td>0.00 mg</td>\n",
       "      <td>0.0 g</td>\n",
       "      <td>0.66 g</td>\n",
       "      <td>0.00 mg</td>\n",
       "      <td>0.00 mg</td>\n",
       "      <td>92.30 g</td>\n",
       "    </tr>\n",
       "    <tr>\n",
       "      <th>Teff, uncooked</th>\n",
       "      <td>100 g</td>\n",
       "      <td>367</td>\n",
       "      <td>2.4g</td>\n",
       "      <td>0.4g</td>\n",
       "      <td>0</td>\n",
       "      <td>12.00 mg</td>\n",
       "      <td>13.1 mg</td>\n",
       "      <td>0</td>\n",
       "      <td>0</td>\n",
       "      <td>3.363 mg</td>\n",
       "      <td>...</td>\n",
       "      <td>2.38 g</td>\n",
       "      <td>0.449 g</td>\n",
       "      <td>0.589 g</td>\n",
       "      <td>1.071 g</td>\n",
       "      <td>0</td>\n",
       "      <td>0</td>\n",
       "      <td>2.37 g</td>\n",
       "      <td>0</td>\n",
       "      <td>0</td>\n",
       "      <td>8.82 g</td>\n",
       "    </tr>\n",
       "  </tbody>\n",
       "</table>\n",
       "<p>4 rows × 75 columns</p>\n",
       "</div>"
      ],
      "text/plain": [
       "               serving_size  calories total_fat saturated_fat cholesterol  \\\n",
       "name                                                                        \n",
       "Cornstarch            100 g       381      0.1g           NaN           0   \n",
       "Nuts, pecans          100 g       691       72g          6.2g           0   \n",
       "Eggplant, raw         100 g        25      0.2g           NaN           0   \n",
       "Teff, uncooked        100 g       367      2.4g          0.4g           0   \n",
       "\n",
       "                  sodium  choline     folate folic_acid    niacin  ...  \\\n",
       "name                                                               ...   \n",
       "Cornstarch       9.00 mg   0.4 mg   0.00 mcg   0.00 mcg  0.000 mg  ...   \n",
       "Nuts, pecans     0.00 mg  40.5 mg  22.00 mcg   0.00 mcg  1.167 mg  ...   \n",
       "Eggplant, raw    2.00 mg   6.9 mg  22.00 mcg   0.00 mcg  0.649 mg  ...   \n",
       "Teff, uncooked  12.00 mg  13.1 mg          0          0  3.363 mg  ...   \n",
       "\n",
       "                    fat saturated_fatty_acids monounsaturated_fatty_acids  \\\n",
       "name                                                                        \n",
       "Cornstarch       0.05 g               0.009 g                     0.016 g   \n",
       "Nuts, pecans    71.97 g               6.180 g                    40.801 g   \n",
       "Eggplant, raw    0.18 g               0.034 g                     0.016 g   \n",
       "Teff, uncooked   2.38 g               0.449 g                     0.589 g   \n",
       "\n",
       "               polyunsaturated_fatty_acids fatty_acids_total_trans alcohol  \\\n",
       "name                                                                         \n",
       "Cornstarch                         0.025 g                 0.00 mg   0.0 g   \n",
       "Nuts, pecans                      21.614 g                 0.00 mg   0.0 g   \n",
       "Eggplant, raw                      0.076 g                 0.00 mg   0.0 g   \n",
       "Teff, uncooked                     1.071 g                       0       0   \n",
       "\n",
       "                   ash caffeine theobromine    water  \n",
       "name                                                  \n",
       "Cornstarch      0.09 g  0.00 mg     0.00 mg   8.32 g  \n",
       "Nuts, pecans    1.49 g  0.00 mg     0.00 mg   3.52 g  \n",
       "Eggplant, raw   0.66 g  0.00 mg     0.00 mg  92.30 g  \n",
       "Teff, uncooked  2.37 g        0           0   8.82 g  \n",
       "\n",
       "[4 rows x 75 columns]"
      ]
     },
     "execution_count": 101,
     "metadata": {},
     "output_type": "execute_result"
    }
   ],
   "source": [
    "nut.head(4)"
   ]
  },
  {
   "cell_type": "code",
   "execution_count": 102,
   "id": "51cbd4c6",
   "metadata": {},
   "outputs": [
    {
     "data": {
      "text/plain": [
       "25"
      ]
     },
     "execution_count": 102,
     "metadata": {},
     "output_type": "execute_result"
    }
   ],
   "source": [
    "nut.at['Eggplant, raw','calories'] # by Label"
   ]
  },
  {
   "cell_type": "code",
   "execution_count": 103,
   "id": "9398d093",
   "metadata": {},
   "outputs": [
    {
     "data": {
      "text/plain": [
       "25"
      ]
     },
     "execution_count": 103,
     "metadata": {},
     "output_type": "execute_result"
    }
   ],
   "source": [
    "nut.iat[2,1] # by Position"
   ]
  },
  {
   "cell_type": "code",
   "execution_count": 104,
   "id": "d271f5ec",
   "metadata": {},
   "outputs": [
    {
     "name": "stdout",
     "output_type": "stream",
     "text": [
      "14.8 µs ± 2.13 µs per loop (mean ± std. dev. of 7 runs, 100000 loops each)\n"
     ]
    }
   ],
   "source": [
    "%timeit nut.loc['Eggplant, raw','calories']"
   ]
  },
  {
   "cell_type": "code",
   "execution_count": 105,
   "id": "16ee0bf0",
   "metadata": {},
   "outputs": [
    {
     "name": "stdout",
     "output_type": "stream",
     "text": [
      "6.83 µs ± 1.81 µs per loop (mean ± std. dev. of 7 runs, 100000 loops each)\n"
     ]
    }
   ],
   "source": [
    "%timeit nut.at['Eggplant, raw','calories']"
   ]
  },
  {
   "cell_type": "markdown",
   "id": "6839b9e5",
   "metadata": {},
   "source": [
    "##### if you want to extracting data from DataFrame you should at[] or iat[] whic is faster than loc[] and iloc []"
   ]
  },
  {
   "cell_type": "markdown",
   "id": "8707e656",
   "metadata": {},
   "source": [
    "### The get_loc() Method"
   ]
  },
  {
   "cell_type": "code",
   "execution_count": 106,
   "id": "aede51dd",
   "metadata": {},
   "outputs": [],
   "source": [
    "# column label:'vitamin_k'\n",
    "# index_position:3"
   ]
  },
  {
   "cell_type": "code",
   "execution_count": 107,
   "id": "a65d99cf",
   "metadata": {},
   "outputs": [],
   "source": [
    "# Aproach 1--get label from position"
   ]
  },
  {
   "cell_type": "code",
   "execution_count": 108,
   "id": "c45e142e",
   "metadata": {},
   "outputs": [
    {
     "data": {
      "text/plain": [
       "'3.5 mcg'"
      ]
     },
     "execution_count": 108,
     "metadata": {},
     "output_type": "execute_result"
    }
   ],
   "source": [
    "index_label=nut.index[2]# which converted int to label\n",
    "column_label='vitamin_k'\n",
    "nut.loc[index_label, column_label]"
   ]
  },
  {
   "cell_type": "code",
   "execution_count": 109,
   "id": "9d247bcb",
   "metadata": {},
   "outputs": [
    {
     "data": {
      "text/plain": [
       "'3.5 mcg'"
      ]
     },
     "execution_count": 109,
     "metadata": {},
     "output_type": "execute_result"
    }
   ],
   "source": [
    "nut.at[index_label, column_label]"
   ]
  },
  {
   "cell_type": "code",
   "execution_count": 110,
   "id": "adec1c3c",
   "metadata": {},
   "outputs": [],
   "source": [
    "# Aproach 2---> get int location from label"
   ]
  },
  {
   "cell_type": "code",
   "execution_count": 111,
   "id": "91171b82",
   "metadata": {},
   "outputs": [
    {
     "data": {
      "text/plain": [
       "26"
      ]
     },
     "execution_count": 111,
     "metadata": {},
     "output_type": "execute_result"
    }
   ],
   "source": [
    "# if you want to extracted data by index way==>get_loc() method which converted label to integer\n",
    "nut.columns.get_loc('vitamin_k') # Which is convert label to int"
   ]
  },
  {
   "cell_type": "code",
   "execution_count": 112,
   "id": "5d1f9ba5",
   "metadata": {},
   "outputs": [],
   "source": [
    "column_loc=26\n",
    "index_loc=2"
   ]
  },
  {
   "cell_type": "code",
   "execution_count": 113,
   "id": "a9cbe7da",
   "metadata": {},
   "outputs": [
    {
     "data": {
      "text/plain": [
       "'3.5 mcg'"
      ]
     },
     "execution_count": 113,
     "metadata": {},
     "output_type": "execute_result"
    }
   ],
   "source": [
    "nut.iloc[index_loc,column_loc]"
   ]
  },
  {
   "cell_type": "code",
   "execution_count": 114,
   "id": "868b52fa",
   "metadata": {},
   "outputs": [
    {
     "data": {
      "text/plain": [
       "'3.5 mcg'"
      ]
     },
     "execution_count": 114,
     "metadata": {},
     "output_type": "execute_result"
    }
   ],
   "source": [
    "nut.iat[index_loc,column_loc]"
   ]
  },
  {
   "cell_type": "markdown",
   "id": "6fdb62f8",
   "metadata": {},
   "source": [
    "### Skill Challenge"
   ]
  },
  {
   "cell_type": "code",
   "execution_count": 115,
   "id": "2dda7849",
   "metadata": {},
   "outputs": [],
   "source": [
    "# Randomly select 10 food items and assign the resulting dataframe to a new varible called nurt_mini"
   ]
  },
  {
   "cell_type": "code",
   "execution_count": 181,
   "id": "7658f21b",
   "metadata": {},
   "outputs": [],
   "source": [
    "nurt_mini=nut.sample(n=10,random_state=13)"
   ]
  },
  {
   "cell_type": "code",
   "execution_count": 182,
   "id": "cd8ab70b",
   "metadata": {},
   "outputs": [
    {
     "data": {
      "text/plain": [
       "(10, 75)"
      ]
     },
     "execution_count": 182,
     "metadata": {},
     "output_type": "execute_result"
    }
   ],
   "source": [
    "nurt_mini.shape"
   ]
  },
  {
   "cell_type": "code",
   "execution_count": 183,
   "id": "0cbcc1bc",
   "metadata": {},
   "outputs": [],
   "source": [
    "nurts_mini=nut.sample(n=10,random_state=13,axis=1) # By Column"
   ]
  },
  {
   "cell_type": "code",
   "execution_count": 184,
   "id": "6030d51e",
   "metadata": {},
   "outputs": [
    {
     "data": {
      "text/plain": [
       "(8789, 10)"
      ]
     },
     "execution_count": 184,
     "metadata": {},
     "output_type": "execute_result"
    }
   ],
   "source": [
    "nurts_mini.shape"
   ]
  },
  {
   "cell_type": "code",
   "execution_count": 185,
   "id": "fdf1e072",
   "metadata": {},
   "outputs": [
    {
     "data": {
      "text/html": [
       "<div>\n",
       "<style scoped>\n",
       "    .dataframe tbody tr th:only-of-type {\n",
       "        vertical-align: middle;\n",
       "    }\n",
       "\n",
       "    .dataframe tbody tr th {\n",
       "        vertical-align: top;\n",
       "    }\n",
       "\n",
       "    .dataframe thead th {\n",
       "        text-align: right;\n",
       "    }\n",
       "</style>\n",
       "<table border=\"1\" class=\"dataframe\">\n",
       "  <thead>\n",
       "    <tr style=\"text-align: right;\">\n",
       "      <th></th>\n",
       "      <th>serving_size</th>\n",
       "      <th>calories</th>\n",
       "      <th>total_fat</th>\n",
       "      <th>saturated_fat</th>\n",
       "      <th>cholesterol</th>\n",
       "      <th>sodium</th>\n",
       "      <th>choline</th>\n",
       "      <th>folate</th>\n",
       "      <th>folic_acid</th>\n",
       "      <th>niacin</th>\n",
       "      <th>...</th>\n",
       "      <th>fat</th>\n",
       "      <th>saturated_fatty_acids</th>\n",
       "      <th>monounsaturated_fatty_acids</th>\n",
       "      <th>polyunsaturated_fatty_acids</th>\n",
       "      <th>fatty_acids_total_trans</th>\n",
       "      <th>alcohol</th>\n",
       "      <th>ash</th>\n",
       "      <th>caffeine</th>\n",
       "      <th>theobromine</th>\n",
       "      <th>water</th>\n",
       "    </tr>\n",
       "    <tr>\n",
       "      <th>name</th>\n",
       "      <th></th>\n",
       "      <th></th>\n",
       "      <th></th>\n",
       "      <th></th>\n",
       "      <th></th>\n",
       "      <th></th>\n",
       "      <th></th>\n",
       "      <th></th>\n",
       "      <th></th>\n",
       "      <th></th>\n",
       "      <th></th>\n",
       "      <th></th>\n",
       "      <th></th>\n",
       "      <th></th>\n",
       "      <th></th>\n",
       "      <th></th>\n",
       "      <th></th>\n",
       "      <th></th>\n",
       "      <th></th>\n",
       "      <th></th>\n",
       "      <th></th>\n",
       "    </tr>\n",
       "  </thead>\n",
       "  <tbody>\n",
       "    <tr>\n",
       "      <th>KFC, Skin and Breading, EXTRA CRISPY, Fried Chicken</th>\n",
       "      <td>100 g</td>\n",
       "      <td>464</td>\n",
       "      <td>37g</td>\n",
       "      <td>7.5g</td>\n",
       "      <td>59mg</td>\n",
       "      <td>828.00 mg</td>\n",
       "      <td>0</td>\n",
       "      <td>0</td>\n",
       "      <td>0</td>\n",
       "      <td>3.423 mg</td>\n",
       "      <td>...</td>\n",
       "      <td>36.61 g</td>\n",
       "      <td>7.541 g</td>\n",
       "      <td>11.816 g</td>\n",
       "      <td>14.238 g</td>\n",
       "      <td>59.00 mg</td>\n",
       "      <td>0</td>\n",
       "      <td>2.92 g</td>\n",
       "      <td>0</td>\n",
       "      <td>0</td>\n",
       "      <td>26.98 g</td>\n",
       "    </tr>\n",
       "    <tr>\n",
       "      <th>Frostings, NFSMI Recipe No. C-32, with butter, prepared-from-recipe, chocolate, glaze</th>\n",
       "      <td>100 g</td>\n",
       "      <td>359</td>\n",
       "      <td>7.2g</td>\n",
       "      <td>4.5g</td>\n",
       "      <td>18mg</td>\n",
       "      <td>132.00 mg</td>\n",
       "      <td>0</td>\n",
       "      <td>2.00 mcg</td>\n",
       "      <td>0.00 mcg</td>\n",
       "      <td>0.111 mg</td>\n",
       "      <td>...</td>\n",
       "      <td>7.17 g</td>\n",
       "      <td>4.483 g</td>\n",
       "      <td>1.894 g</td>\n",
       "      <td>0.294 g</td>\n",
       "      <td>18.00 mg</td>\n",
       "      <td>0.0 g</td>\n",
       "      <td>0.82 g</td>\n",
       "      <td>3.00 mg</td>\n",
       "      <td>98.00 mg</td>\n",
       "      <td>18.27 g</td>\n",
       "    </tr>\n",
       "    <tr>\n",
       "      <th>Beverages, prepared with whole milk, with added nutrients, powder, chocolate-flavor beverage mix for milk</th>\n",
       "      <td>100 g</td>\n",
       "      <td>89</td>\n",
       "      <td>3.2g</td>\n",
       "      <td>1.9g</td>\n",
       "      <td>10mg</td>\n",
       "      <td>50.00 mg</td>\n",
       "      <td>13.4 mg</td>\n",
       "      <td>5.00 mcg</td>\n",
       "      <td>0.00 mcg</td>\n",
       "      <td>0.098 mg</td>\n",
       "      <td>...</td>\n",
       "      <td>3.17 g</td>\n",
       "      <td>1.899 g</td>\n",
       "      <td>0.745 g</td>\n",
       "      <td>0.178 g</td>\n",
       "      <td>10.00 mg</td>\n",
       "      <td>0.0 g</td>\n",
       "      <td>0.77 g</td>\n",
       "      <td>1.00 mg</td>\n",
       "      <td>23.00 mg</td>\n",
       "      <td>80.93 g</td>\n",
       "    </tr>\n",
       "    <tr>\n",
       "      <th>Beans, raw, sprouted, mature seeds, navy</th>\n",
       "      <td>100 g</td>\n",
       "      <td>67</td>\n",
       "      <td>0.7g</td>\n",
       "      <td>0.1g</td>\n",
       "      <td>0</td>\n",
       "      <td>13.00 mg</td>\n",
       "      <td>0</td>\n",
       "      <td>132.00 mcg</td>\n",
       "      <td>0.00 mcg</td>\n",
       "      <td>1.220 mg</td>\n",
       "      <td>...</td>\n",
       "      <td>0.70 g</td>\n",
       "      <td>0.085 g</td>\n",
       "      <td>0.052 g</td>\n",
       "      <td>0.407 g</td>\n",
       "      <td>0.00 mg</td>\n",
       "      <td>0</td>\n",
       "      <td>0.95 g</td>\n",
       "      <td>0</td>\n",
       "      <td>0</td>\n",
       "      <td>79.15 g</td>\n",
       "    </tr>\n",
       "    <tr>\n",
       "      <th>KEEBLER, KEEBLER Chocolate Graham SELECTS</th>\n",
       "      <td>100 g</td>\n",
       "      <td>465</td>\n",
       "      <td>17g</td>\n",
       "      <td>3.2g</td>\n",
       "      <td>0</td>\n",
       "      <td>0</td>\n",
       "      <td>0</td>\n",
       "      <td>0</td>\n",
       "      <td>0</td>\n",
       "      <td>0</td>\n",
       "      <td>...</td>\n",
       "      <td>16.60 g</td>\n",
       "      <td>3.150 g</td>\n",
       "      <td>8.431 g</td>\n",
       "      <td>2.201 g</td>\n",
       "      <td>0</td>\n",
       "      <td>0</td>\n",
       "      <td>1.40 g</td>\n",
       "      <td>0</td>\n",
       "      <td>0</td>\n",
       "      <td>3.10 g</td>\n",
       "    </tr>\n",
       "    <tr>\n",
       "      <th>Fast foods, hot fudge, sundae</th>\n",
       "      <td>100 g</td>\n",
       "      <td>180</td>\n",
       "      <td>5.5g</td>\n",
       "      <td>3.2g</td>\n",
       "      <td>13mg</td>\n",
       "      <td>115.00 mg</td>\n",
       "      <td>0</td>\n",
       "      <td>6.00 mcg</td>\n",
       "      <td>0.00 mcg</td>\n",
       "      <td>0.680 mg</td>\n",
       "      <td>...</td>\n",
       "      <td>5.46 g</td>\n",
       "      <td>3.179 g</td>\n",
       "      <td>1.475 g</td>\n",
       "      <td>0.511 g</td>\n",
       "      <td>13.00 mg</td>\n",
       "      <td>0</td>\n",
       "      <td>1.10 g</td>\n",
       "      <td>1.00 mg</td>\n",
       "      <td>49.00 mg</td>\n",
       "      <td>59.70 g</td>\n",
       "    </tr>\n",
       "    <tr>\n",
       "      <th>KELLOGG'S, Savory Herb Crackers, SPECIAL K</th>\n",
       "      <td>100 g</td>\n",
       "      <td>406</td>\n",
       "      <td>10g</td>\n",
       "      <td>1.5g</td>\n",
       "      <td>0</td>\n",
       "      <td>809.00 mg</td>\n",
       "      <td>0</td>\n",
       "      <td>30.00 mcg</td>\n",
       "      <td>0</td>\n",
       "      <td>3.800 mg</td>\n",
       "      <td>...</td>\n",
       "      <td>10.00 g</td>\n",
       "      <td>1.500 g</td>\n",
       "      <td>2.200 g</td>\n",
       "      <td>5.100 g</td>\n",
       "      <td>0.00 mg</td>\n",
       "      <td>0</td>\n",
       "      <td>0</td>\n",
       "      <td>0</td>\n",
       "      <td>0</td>\n",
       "      <td>2.50 g</td>\n",
       "    </tr>\n",
       "    <tr>\n",
       "      <th>Seaweed, dry, Canadian Cultivated EMI-TSUNOMATA</th>\n",
       "      <td>100 g</td>\n",
       "      <td>259</td>\n",
       "      <td>1.4g</td>\n",
       "      <td>0.5g</td>\n",
       "      <td>33mg</td>\n",
       "      <td>4331.00 mg</td>\n",
       "      <td>0</td>\n",
       "      <td>188.00 mcg</td>\n",
       "      <td>0.00 mcg</td>\n",
       "      <td>3.750 mg</td>\n",
       "      <td>...</td>\n",
       "      <td>1.39 g</td>\n",
       "      <td>0.450 g</td>\n",
       "      <td>0.110 g</td>\n",
       "      <td>0.750 g</td>\n",
       "      <td>33.00 mg</td>\n",
       "      <td>0.0 g</td>\n",
       "      <td>23.03 g</td>\n",
       "      <td>0.00 mg</td>\n",
       "      <td>0.00 mg</td>\n",
       "      <td>14.00 g</td>\n",
       "    </tr>\n",
       "    <tr>\n",
       "      <th>Cheese, with fruit, creamed, cottage</th>\n",
       "      <td>100 g</td>\n",
       "      <td>97</td>\n",
       "      <td>3.9g</td>\n",
       "      <td>2.3g</td>\n",
       "      <td>13mg</td>\n",
       "      <td>344.00 mg</td>\n",
       "      <td>17.5 mg</td>\n",
       "      <td>11.00 mcg</td>\n",
       "      <td>0.00 mcg</td>\n",
       "      <td>0.150 mg</td>\n",
       "      <td>...</td>\n",
       "      <td>3.85 g</td>\n",
       "      <td>2.311 g</td>\n",
       "      <td>1.036 g</td>\n",
       "      <td>0.124 g</td>\n",
       "      <td>13.00 mg</td>\n",
       "      <td>0.0 g</td>\n",
       "      <td>1.20 g</td>\n",
       "      <td>0.00 mg</td>\n",
       "      <td>0.00 mg</td>\n",
       "      <td>79.64 g</td>\n",
       "    </tr>\n",
       "    <tr>\n",
       "      <th>Elderberries, raw</th>\n",
       "      <td>100 g</td>\n",
       "      <td>73</td>\n",
       "      <td>0.5g</td>\n",
       "      <td>NaN</td>\n",
       "      <td>0</td>\n",
       "      <td>6.00 mg</td>\n",
       "      <td>0</td>\n",
       "      <td>6.00 mcg</td>\n",
       "      <td>0.00 mcg</td>\n",
       "      <td>0.500 mg</td>\n",
       "      <td>...</td>\n",
       "      <td>0.50 g</td>\n",
       "      <td>0.023 g</td>\n",
       "      <td>0.080 g</td>\n",
       "      <td>0.247 g</td>\n",
       "      <td>0.00 mg</td>\n",
       "      <td>0.0 g</td>\n",
       "      <td>0.64 g</td>\n",
       "      <td>0</td>\n",
       "      <td>0</td>\n",
       "      <td>79.80 g</td>\n",
       "    </tr>\n",
       "  </tbody>\n",
       "</table>\n",
       "<p>10 rows × 75 columns</p>\n",
       "</div>"
      ],
      "text/plain": [
       "                                                   serving_size  calories  \\\n",
       "name                                                                        \n",
       "KFC, Skin and Breading, EXTRA CRISPY, Fried Chi...        100 g       464   \n",
       "Frostings, NFSMI Recipe No. C-32, with butter, ...        100 g       359   \n",
       "Beverages, prepared with whole milk, with added...        100 g        89   \n",
       "Beans, raw, sprouted, mature seeds, navy                  100 g        67   \n",
       "KEEBLER, KEEBLER Chocolate Graham SELECTS                 100 g       465   \n",
       "Fast foods, hot fudge, sundae                             100 g       180   \n",
       "KELLOGG'S, Savory Herb Crackers, SPECIAL K                100 g       406   \n",
       "Seaweed, dry, Canadian Cultivated EMI-TSUNOMATA           100 g       259   \n",
       "Cheese, with fruit, creamed, cottage                      100 g        97   \n",
       "Elderberries, raw                                         100 g        73   \n",
       "\n",
       "                                                   total_fat saturated_fat  \\\n",
       "name                                                                         \n",
       "KFC, Skin and Breading, EXTRA CRISPY, Fried Chi...       37g          7.5g   \n",
       "Frostings, NFSMI Recipe No. C-32, with butter, ...      7.2g          4.5g   \n",
       "Beverages, prepared with whole milk, with added...      3.2g          1.9g   \n",
       "Beans, raw, sprouted, mature seeds, navy                0.7g          0.1g   \n",
       "KEEBLER, KEEBLER Chocolate Graham SELECTS                17g          3.2g   \n",
       "Fast foods, hot fudge, sundae                           5.5g          3.2g   \n",
       "KELLOGG'S, Savory Herb Crackers, SPECIAL K               10g          1.5g   \n",
       "Seaweed, dry, Canadian Cultivated EMI-TSUNOMATA         1.4g          0.5g   \n",
       "Cheese, with fruit, creamed, cottage                    3.9g          2.3g   \n",
       "Elderberries, raw                                       0.5g           NaN   \n",
       "\n",
       "                                                   cholesterol      sodium  \\\n",
       "name                                                                         \n",
       "KFC, Skin and Breading, EXTRA CRISPY, Fried Chi...        59mg   828.00 mg   \n",
       "Frostings, NFSMI Recipe No. C-32, with butter, ...        18mg   132.00 mg   \n",
       "Beverages, prepared with whole milk, with added...        10mg    50.00 mg   \n",
       "Beans, raw, sprouted, mature seeds, navy                     0    13.00 mg   \n",
       "KEEBLER, KEEBLER Chocolate Graham SELECTS                    0           0   \n",
       "Fast foods, hot fudge, sundae                             13mg   115.00 mg   \n",
       "KELLOGG'S, Savory Herb Crackers, SPECIAL K                   0   809.00 mg   \n",
       "Seaweed, dry, Canadian Cultivated EMI-TSUNOMATA           33mg  4331.00 mg   \n",
       "Cheese, with fruit, creamed, cottage                      13mg   344.00 mg   \n",
       "Elderberries, raw                                            0     6.00 mg   \n",
       "\n",
       "                                                    choline      folate  \\\n",
       "name                                                                      \n",
       "KFC, Skin and Breading, EXTRA CRISPY, Fried Chi...        0           0   \n",
       "Frostings, NFSMI Recipe No. C-32, with butter, ...        0    2.00 mcg   \n",
       "Beverages, prepared with whole milk, with added...  13.4 mg    5.00 mcg   \n",
       "Beans, raw, sprouted, mature seeds, navy                  0  132.00 mcg   \n",
       "KEEBLER, KEEBLER Chocolate Graham SELECTS                 0           0   \n",
       "Fast foods, hot fudge, sundae                             0    6.00 mcg   \n",
       "KELLOGG'S, Savory Herb Crackers, SPECIAL K                0   30.00 mcg   \n",
       "Seaweed, dry, Canadian Cultivated EMI-TSUNOMATA           0  188.00 mcg   \n",
       "Cheese, with fruit, creamed, cottage                17.5 mg   11.00 mcg   \n",
       "Elderberries, raw                                         0    6.00 mcg   \n",
       "\n",
       "                                                   folic_acid    niacin  ...  \\\n",
       "name                                                                     ...   \n",
       "KFC, Skin and Breading, EXTRA CRISPY, Fried Chi...          0  3.423 mg  ...   \n",
       "Frostings, NFSMI Recipe No. C-32, with butter, ...   0.00 mcg  0.111 mg  ...   \n",
       "Beverages, prepared with whole milk, with added...   0.00 mcg  0.098 mg  ...   \n",
       "Beans, raw, sprouted, mature seeds, navy             0.00 mcg  1.220 mg  ...   \n",
       "KEEBLER, KEEBLER Chocolate Graham SELECTS                   0         0  ...   \n",
       "Fast foods, hot fudge, sundae                        0.00 mcg  0.680 mg  ...   \n",
       "KELLOGG'S, Savory Herb Crackers, SPECIAL K                  0  3.800 mg  ...   \n",
       "Seaweed, dry, Canadian Cultivated EMI-TSUNOMATA      0.00 mcg  3.750 mg  ...   \n",
       "Cheese, with fruit, creamed, cottage                 0.00 mcg  0.150 mg  ...   \n",
       "Elderberries, raw                                    0.00 mcg  0.500 mg  ...   \n",
       "\n",
       "                                                        fat  \\\n",
       "name                                                          \n",
       "KFC, Skin and Breading, EXTRA CRISPY, Fried Chi...  36.61 g   \n",
       "Frostings, NFSMI Recipe No. C-32, with butter, ...   7.17 g   \n",
       "Beverages, prepared with whole milk, with added...   3.17 g   \n",
       "Beans, raw, sprouted, mature seeds, navy             0.70 g   \n",
       "KEEBLER, KEEBLER Chocolate Graham SELECTS           16.60 g   \n",
       "Fast foods, hot fudge, sundae                        5.46 g   \n",
       "KELLOGG'S, Savory Herb Crackers, SPECIAL K          10.00 g   \n",
       "Seaweed, dry, Canadian Cultivated EMI-TSUNOMATA      1.39 g   \n",
       "Cheese, with fruit, creamed, cottage                 3.85 g   \n",
       "Elderberries, raw                                    0.50 g   \n",
       "\n",
       "                                                   saturated_fatty_acids  \\\n",
       "name                                                                       \n",
       "KFC, Skin and Breading, EXTRA CRISPY, Fried Chi...               7.541 g   \n",
       "Frostings, NFSMI Recipe No. C-32, with butter, ...               4.483 g   \n",
       "Beverages, prepared with whole milk, with added...               1.899 g   \n",
       "Beans, raw, sprouted, mature seeds, navy                         0.085 g   \n",
       "KEEBLER, KEEBLER Chocolate Graham SELECTS                        3.150 g   \n",
       "Fast foods, hot fudge, sundae                                    3.179 g   \n",
       "KELLOGG'S, Savory Herb Crackers, SPECIAL K                       1.500 g   \n",
       "Seaweed, dry, Canadian Cultivated EMI-TSUNOMATA                  0.450 g   \n",
       "Cheese, with fruit, creamed, cottage                             2.311 g   \n",
       "Elderberries, raw                                                0.023 g   \n",
       "\n",
       "                                                   monounsaturated_fatty_acids  \\\n",
       "name                                                                             \n",
       "KFC, Skin and Breading, EXTRA CRISPY, Fried Chi...                    11.816 g   \n",
       "Frostings, NFSMI Recipe No. C-32, with butter, ...                     1.894 g   \n",
       "Beverages, prepared with whole milk, with added...                     0.745 g   \n",
       "Beans, raw, sprouted, mature seeds, navy                               0.052 g   \n",
       "KEEBLER, KEEBLER Chocolate Graham SELECTS                              8.431 g   \n",
       "Fast foods, hot fudge, sundae                                          1.475 g   \n",
       "KELLOGG'S, Savory Herb Crackers, SPECIAL K                             2.200 g   \n",
       "Seaweed, dry, Canadian Cultivated EMI-TSUNOMATA                        0.110 g   \n",
       "Cheese, with fruit, creamed, cottage                                   1.036 g   \n",
       "Elderberries, raw                                                      0.080 g   \n",
       "\n",
       "                                                   polyunsaturated_fatty_acids  \\\n",
       "name                                                                             \n",
       "KFC, Skin and Breading, EXTRA CRISPY, Fried Chi...                    14.238 g   \n",
       "Frostings, NFSMI Recipe No. C-32, with butter, ...                     0.294 g   \n",
       "Beverages, prepared with whole milk, with added...                     0.178 g   \n",
       "Beans, raw, sprouted, mature seeds, navy                               0.407 g   \n",
       "KEEBLER, KEEBLER Chocolate Graham SELECTS                              2.201 g   \n",
       "Fast foods, hot fudge, sundae                                          0.511 g   \n",
       "KELLOGG'S, Savory Herb Crackers, SPECIAL K                             5.100 g   \n",
       "Seaweed, dry, Canadian Cultivated EMI-TSUNOMATA                        0.750 g   \n",
       "Cheese, with fruit, creamed, cottage                                   0.124 g   \n",
       "Elderberries, raw                                                      0.247 g   \n",
       "\n",
       "                                                   fatty_acids_total_trans  \\\n",
       "name                                                                         \n",
       "KFC, Skin and Breading, EXTRA CRISPY, Fried Chi...                59.00 mg   \n",
       "Frostings, NFSMI Recipe No. C-32, with butter, ...                18.00 mg   \n",
       "Beverages, prepared with whole milk, with added...                10.00 mg   \n",
       "Beans, raw, sprouted, mature seeds, navy                           0.00 mg   \n",
       "KEEBLER, KEEBLER Chocolate Graham SELECTS                                0   \n",
       "Fast foods, hot fudge, sundae                                     13.00 mg   \n",
       "KELLOGG'S, Savory Herb Crackers, SPECIAL K                         0.00 mg   \n",
       "Seaweed, dry, Canadian Cultivated EMI-TSUNOMATA                   33.00 mg   \n",
       "Cheese, with fruit, creamed, cottage                              13.00 mg   \n",
       "Elderberries, raw                                                  0.00 mg   \n",
       "\n",
       "                                                   alcohol      ash caffeine  \\\n",
       "name                                                                           \n",
       "KFC, Skin and Breading, EXTRA CRISPY, Fried Chi...       0   2.92 g        0   \n",
       "Frostings, NFSMI Recipe No. C-32, with butter, ...   0.0 g   0.82 g  3.00 mg   \n",
       "Beverages, prepared with whole milk, with added...   0.0 g   0.77 g  1.00 mg   \n",
       "Beans, raw, sprouted, mature seeds, navy                 0   0.95 g        0   \n",
       "KEEBLER, KEEBLER Chocolate Graham SELECTS                0   1.40 g        0   \n",
       "Fast foods, hot fudge, sundae                            0   1.10 g  1.00 mg   \n",
       "KELLOGG'S, Savory Herb Crackers, SPECIAL K               0        0        0   \n",
       "Seaweed, dry, Canadian Cultivated EMI-TSUNOMATA      0.0 g  23.03 g  0.00 mg   \n",
       "Cheese, with fruit, creamed, cottage                 0.0 g   1.20 g  0.00 mg   \n",
       "Elderberries, raw                                    0.0 g   0.64 g        0   \n",
       "\n",
       "                                                   theobromine    water  \n",
       "name                                                                     \n",
       "KFC, Skin and Breading, EXTRA CRISPY, Fried Chi...           0  26.98 g  \n",
       "Frostings, NFSMI Recipe No. C-32, with butter, ...    98.00 mg  18.27 g  \n",
       "Beverages, prepared with whole milk, with added...    23.00 mg  80.93 g  \n",
       "Beans, raw, sprouted, mature seeds, navy                     0  79.15 g  \n",
       "KEEBLER, KEEBLER Chocolate Graham SELECTS                    0   3.10 g  \n",
       "Fast foods, hot fudge, sundae                         49.00 mg  59.70 g  \n",
       "KELLOGG'S, Savory Herb Crackers, SPECIAL K                   0   2.50 g  \n",
       "Seaweed, dry, Canadian Cultivated EMI-TSUNOMATA        0.00 mg  14.00 g  \n",
       "Cheese, with fruit, creamed, cottage                   0.00 mg  79.64 g  \n",
       "Elderberries, raw                                            0  79.80 g  \n",
       "\n",
       "[10 rows x 75 columns]"
      ]
     },
     "execution_count": 185,
     "metadata": {},
     "output_type": "execute_result"
    }
   ],
   "source": [
    "nurt_mini"
   ]
  },
  {
   "cell_type": "code",
   "execution_count": 186,
   "id": "8b75bada",
   "metadata": {},
   "outputs": [],
   "source": [
    "# From nurt_mini,extract the total_fat and cholesterol columns for all rows"
   ]
  },
  {
   "cell_type": "code",
   "execution_count": 188,
   "id": "b4ad2e4d",
   "metadata": {},
   "outputs": [
    {
     "data": {
      "text/html": [
       "<div>\n",
       "<style scoped>\n",
       "    .dataframe tbody tr th:only-of-type {\n",
       "        vertical-align: middle;\n",
       "    }\n",
       "\n",
       "    .dataframe tbody tr th {\n",
       "        vertical-align: top;\n",
       "    }\n",
       "\n",
       "    .dataframe thead th {\n",
       "        text-align: right;\n",
       "    }\n",
       "</style>\n",
       "<table border=\"1\" class=\"dataframe\">\n",
       "  <thead>\n",
       "    <tr style=\"text-align: right;\">\n",
       "      <th></th>\n",
       "      <th>total_fat</th>\n",
       "      <th>cholesterol</th>\n",
       "    </tr>\n",
       "    <tr>\n",
       "      <th>name</th>\n",
       "      <th></th>\n",
       "      <th></th>\n",
       "    </tr>\n",
       "  </thead>\n",
       "  <tbody>\n",
       "    <tr>\n",
       "      <th>KFC, Skin and Breading, EXTRA CRISPY, Fried Chicken</th>\n",
       "      <td>37g</td>\n",
       "      <td>59mg</td>\n",
       "    </tr>\n",
       "    <tr>\n",
       "      <th>Frostings, NFSMI Recipe No. C-32, with butter, prepared-from-recipe, chocolate, glaze</th>\n",
       "      <td>7.2g</td>\n",
       "      <td>18mg</td>\n",
       "    </tr>\n",
       "    <tr>\n",
       "      <th>Beverages, prepared with whole milk, with added nutrients, powder, chocolate-flavor beverage mix for milk</th>\n",
       "      <td>3.2g</td>\n",
       "      <td>10mg</td>\n",
       "    </tr>\n",
       "    <tr>\n",
       "      <th>Beans, raw, sprouted, mature seeds, navy</th>\n",
       "      <td>0.7g</td>\n",
       "      <td>0</td>\n",
       "    </tr>\n",
       "    <tr>\n",
       "      <th>KEEBLER, KEEBLER Chocolate Graham SELECTS</th>\n",
       "      <td>17g</td>\n",
       "      <td>0</td>\n",
       "    </tr>\n",
       "    <tr>\n",
       "      <th>Fast foods, hot fudge, sundae</th>\n",
       "      <td>5.5g</td>\n",
       "      <td>13mg</td>\n",
       "    </tr>\n",
       "    <tr>\n",
       "      <th>KELLOGG'S, Savory Herb Crackers, SPECIAL K</th>\n",
       "      <td>10g</td>\n",
       "      <td>0</td>\n",
       "    </tr>\n",
       "    <tr>\n",
       "      <th>Seaweed, dry, Canadian Cultivated EMI-TSUNOMATA</th>\n",
       "      <td>1.4g</td>\n",
       "      <td>33mg</td>\n",
       "    </tr>\n",
       "    <tr>\n",
       "      <th>Cheese, with fruit, creamed, cottage</th>\n",
       "      <td>3.9g</td>\n",
       "      <td>13mg</td>\n",
       "    </tr>\n",
       "    <tr>\n",
       "      <th>Elderberries, raw</th>\n",
       "      <td>0.5g</td>\n",
       "      <td>0</td>\n",
       "    </tr>\n",
       "  </tbody>\n",
       "</table>\n",
       "</div>"
      ],
      "text/plain": [
       "                                                   total_fat cholesterol\n",
       "name                                                                    \n",
       "KFC, Skin and Breading, EXTRA CRISPY, Fried Chi...       37g        59mg\n",
       "Frostings, NFSMI Recipe No. C-32, with butter, ...      7.2g        18mg\n",
       "Beverages, prepared with whole milk, with added...      3.2g        10mg\n",
       "Beans, raw, sprouted, mature seeds, navy                0.7g           0\n",
       "KEEBLER, KEEBLER Chocolate Graham SELECTS                17g           0\n",
       "Fast foods, hot fudge, sundae                           5.5g        13mg\n",
       "KELLOGG'S, Savory Herb Crackers, SPECIAL K               10g           0\n",
       "Seaweed, dry, Canadian Cultivated EMI-TSUNOMATA         1.4g        33mg\n",
       "Cheese, with fruit, creamed, cottage                    3.9g        13mg\n",
       "Elderberries, raw                                       0.5g           0"
      ]
     },
     "execution_count": 188,
     "metadata": {},
     "output_type": "execute_result"
    }
   ],
   "source": [
    "nurt_mini.loc[\n",
    "    :,\n",
    "    ['total_fat','cholesterol']\n",
    "]"
   ]
  },
  {
   "cell_type": "code",
   "execution_count": 189,
   "id": "79bb3bc9",
   "metadata": {},
   "outputs": [],
   "source": [
    "a=nurt_mini.columns.get_loc('total_fat')"
   ]
  },
  {
   "cell_type": "code",
   "execution_count": 190,
   "id": "f7107a18",
   "metadata": {},
   "outputs": [
    {
     "data": {
      "text/plain": [
       "2"
      ]
     },
     "execution_count": 190,
     "metadata": {},
     "output_type": "execute_result"
    }
   ],
   "source": [
    "a"
   ]
  },
  {
   "cell_type": "code",
   "execution_count": 191,
   "id": "8708f172",
   "metadata": {},
   "outputs": [],
   "source": [
    "b=a=nurt_mini.columns.get_loc('cholesterol')"
   ]
  },
  {
   "cell_type": "code",
   "execution_count": 192,
   "id": "ce8afb60",
   "metadata": {},
   "outputs": [
    {
     "data": {
      "text/plain": [
       "4"
      ]
     },
     "execution_count": 192,
     "metadata": {},
     "output_type": "execute_result"
    }
   ],
   "source": [
    "b"
   ]
  },
  {
   "cell_type": "code",
   "execution_count": 193,
   "id": "567011a6",
   "metadata": {},
   "outputs": [
    {
     "data": {
      "text/html": [
       "<div>\n",
       "<style scoped>\n",
       "    .dataframe tbody tr th:only-of-type {\n",
       "        vertical-align: middle;\n",
       "    }\n",
       "\n",
       "    .dataframe tbody tr th {\n",
       "        vertical-align: top;\n",
       "    }\n",
       "\n",
       "    .dataframe thead th {\n",
       "        text-align: right;\n",
       "    }\n",
       "</style>\n",
       "<table border=\"1\" class=\"dataframe\">\n",
       "  <thead>\n",
       "    <tr style=\"text-align: right;\">\n",
       "      <th></th>\n",
       "      <th>total_fat</th>\n",
       "      <th>cholesterol</th>\n",
       "    </tr>\n",
       "    <tr>\n",
       "      <th>name</th>\n",
       "      <th></th>\n",
       "      <th></th>\n",
       "    </tr>\n",
       "  </thead>\n",
       "  <tbody>\n",
       "    <tr>\n",
       "      <th>KFC, Skin and Breading, EXTRA CRISPY, Fried Chicken</th>\n",
       "      <td>37g</td>\n",
       "      <td>59mg</td>\n",
       "    </tr>\n",
       "    <tr>\n",
       "      <th>Frostings, NFSMI Recipe No. C-32, with butter, prepared-from-recipe, chocolate, glaze</th>\n",
       "      <td>7.2g</td>\n",
       "      <td>18mg</td>\n",
       "    </tr>\n",
       "    <tr>\n",
       "      <th>Beverages, prepared with whole milk, with added nutrients, powder, chocolate-flavor beverage mix for milk</th>\n",
       "      <td>3.2g</td>\n",
       "      <td>10mg</td>\n",
       "    </tr>\n",
       "    <tr>\n",
       "      <th>Beans, raw, sprouted, mature seeds, navy</th>\n",
       "      <td>0.7g</td>\n",
       "      <td>0</td>\n",
       "    </tr>\n",
       "    <tr>\n",
       "      <th>KEEBLER, KEEBLER Chocolate Graham SELECTS</th>\n",
       "      <td>17g</td>\n",
       "      <td>0</td>\n",
       "    </tr>\n",
       "    <tr>\n",
       "      <th>Fast foods, hot fudge, sundae</th>\n",
       "      <td>5.5g</td>\n",
       "      <td>13mg</td>\n",
       "    </tr>\n",
       "    <tr>\n",
       "      <th>KELLOGG'S, Savory Herb Crackers, SPECIAL K</th>\n",
       "      <td>10g</td>\n",
       "      <td>0</td>\n",
       "    </tr>\n",
       "    <tr>\n",
       "      <th>Seaweed, dry, Canadian Cultivated EMI-TSUNOMATA</th>\n",
       "      <td>1.4g</td>\n",
       "      <td>33mg</td>\n",
       "    </tr>\n",
       "    <tr>\n",
       "      <th>Cheese, with fruit, creamed, cottage</th>\n",
       "      <td>3.9g</td>\n",
       "      <td>13mg</td>\n",
       "    </tr>\n",
       "    <tr>\n",
       "      <th>Elderberries, raw</th>\n",
       "      <td>0.5g</td>\n",
       "      <td>0</td>\n",
       "    </tr>\n",
       "  </tbody>\n",
       "</table>\n",
       "</div>"
      ],
      "text/plain": [
       "                                                   total_fat cholesterol\n",
       "name                                                                    \n",
       "KFC, Skin and Breading, EXTRA CRISPY, Fried Chi...       37g        59mg\n",
       "Frostings, NFSMI Recipe No. C-32, with butter, ...      7.2g        18mg\n",
       "Beverages, prepared with whole milk, with added...      3.2g        10mg\n",
       "Beans, raw, sprouted, mature seeds, navy                0.7g           0\n",
       "KEEBLER, KEEBLER Chocolate Graham SELECTS                17g           0\n",
       "Fast foods, hot fudge, sundae                           5.5g        13mg\n",
       "KELLOGG'S, Savory Herb Crackers, SPECIAL K               10g           0\n",
       "Seaweed, dry, Canadian Cultivated EMI-TSUNOMATA         1.4g        33mg\n",
       "Cheese, with fruit, creamed, cottage                    3.9g        13mg\n",
       "Elderberries, raw                                       0.5g           0"
      ]
     },
     "execution_count": 193,
     "metadata": {},
     "output_type": "execute_result"
    }
   ],
   "source": [
    "nurt_mini.iloc[\n",
    "    :,\n",
    "    [2,4]\n",
    "]"
   ]
  },
  {
   "cell_type": "code",
   "execution_count": 194,
   "id": "3f6ac8ce",
   "metadata": {},
   "outputs": [],
   "source": [
    "# Extract all the columns from vitamin_b12 to the end, for the first,second and third rows"
   ]
  },
  {
   "cell_type": "code",
   "execution_count": 195,
   "id": "cfed3a94",
   "metadata": {},
   "outputs": [
    {
     "data": {
      "text/plain": [
       "20"
      ]
     },
     "execution_count": 195,
     "metadata": {},
     "output_type": "execute_result"
    }
   ],
   "source": [
    "c=nurt_mini.columns.get_loc('vitamin_b12')\n",
    "c"
   ]
  },
  {
   "cell_type": "code",
   "execution_count": 196,
   "id": "3f17d69d",
   "metadata": {},
   "outputs": [
    {
     "data": {
      "text/html": [
       "<div>\n",
       "<style scoped>\n",
       "    .dataframe tbody tr th:only-of-type {\n",
       "        vertical-align: middle;\n",
       "    }\n",
       "\n",
       "    .dataframe tbody tr th {\n",
       "        vertical-align: top;\n",
       "    }\n",
       "\n",
       "    .dataframe thead th {\n",
       "        text-align: right;\n",
       "    }\n",
       "</style>\n",
       "<table border=\"1\" class=\"dataframe\">\n",
       "  <thead>\n",
       "    <tr style=\"text-align: right;\">\n",
       "      <th></th>\n",
       "      <th>vitamin_b12</th>\n",
       "      <th>vitamin_b6</th>\n",
       "      <th>vitamin_c</th>\n",
       "      <th>vitamin_d</th>\n",
       "      <th>vitamin_e</th>\n",
       "      <th>tocopherol_alpha</th>\n",
       "      <th>vitamin_k</th>\n",
       "      <th>calcium</th>\n",
       "      <th>copper</th>\n",
       "      <th>irom</th>\n",
       "      <th>...</th>\n",
       "      <th>fat</th>\n",
       "      <th>saturated_fatty_acids</th>\n",
       "      <th>monounsaturated_fatty_acids</th>\n",
       "      <th>polyunsaturated_fatty_acids</th>\n",
       "      <th>fatty_acids_total_trans</th>\n",
       "      <th>alcohol</th>\n",
       "      <th>ash</th>\n",
       "      <th>caffeine</th>\n",
       "      <th>theobromine</th>\n",
       "      <th>water</th>\n",
       "    </tr>\n",
       "    <tr>\n",
       "      <th>name</th>\n",
       "      <th></th>\n",
       "      <th></th>\n",
       "      <th></th>\n",
       "      <th></th>\n",
       "      <th></th>\n",
       "      <th></th>\n",
       "      <th></th>\n",
       "      <th></th>\n",
       "      <th></th>\n",
       "      <th></th>\n",
       "      <th></th>\n",
       "      <th></th>\n",
       "      <th></th>\n",
       "      <th></th>\n",
       "      <th></th>\n",
       "      <th></th>\n",
       "      <th></th>\n",
       "      <th></th>\n",
       "      <th></th>\n",
       "      <th></th>\n",
       "      <th></th>\n",
       "    </tr>\n",
       "  </thead>\n",
       "  <tbody>\n",
       "    <tr>\n",
       "      <th>KFC, Skin and Breading, EXTRA CRISPY, Fried Chicken</th>\n",
       "      <td>0.36 mcg</td>\n",
       "      <td>0.127 mg</td>\n",
       "      <td>0</td>\n",
       "      <td>0</td>\n",
       "      <td>0</td>\n",
       "      <td>0</td>\n",
       "      <td>0</td>\n",
       "      <td>41.00 mg</td>\n",
       "      <td>1.011 mg</td>\n",
       "      <td>0.67 mg</td>\n",
       "      <td>...</td>\n",
       "      <td>36.61 g</td>\n",
       "      <td>7.541 g</td>\n",
       "      <td>11.816 g</td>\n",
       "      <td>14.238 g</td>\n",
       "      <td>59.00 mg</td>\n",
       "      <td>0</td>\n",
       "      <td>2.92 g</td>\n",
       "      <td>0</td>\n",
       "      <td>0</td>\n",
       "      <td>26.98 g</td>\n",
       "    </tr>\n",
       "    <tr>\n",
       "      <th>Frostings, NFSMI Recipe No. C-32, with butter, prepared-from-recipe, chocolate, glaze</th>\n",
       "      <td>0.09 mcg</td>\n",
       "      <td>0.011 mg</td>\n",
       "      <td>0.1 mg</td>\n",
       "      <td>0</td>\n",
       "      <td>0.19 mg</td>\n",
       "      <td>0.19 mg</td>\n",
       "      <td>0.7 mcg</td>\n",
       "      <td>32.00 mg</td>\n",
       "      <td>0.136 mg</td>\n",
       "      <td>0.60 mg</td>\n",
       "      <td>...</td>\n",
       "      <td>7.17 g</td>\n",
       "      <td>4.483 g</td>\n",
       "      <td>1.894 g</td>\n",
       "      <td>0.294 g</td>\n",
       "      <td>18.00 mg</td>\n",
       "      <td>0.0 g</td>\n",
       "      <td>0.82 g</td>\n",
       "      <td>3.00 mg</td>\n",
       "      <td>98.00 mg</td>\n",
       "      <td>18.27 g</td>\n",
       "    </tr>\n",
       "    <tr>\n",
       "      <th>Beverages, prepared with whole milk, with added nutrients, powder, chocolate-flavor beverage mix for milk</th>\n",
       "      <td>0.41 mcg</td>\n",
       "      <td>0.108 mg</td>\n",
       "      <td>2.3 mg</td>\n",
       "      <td>47.00 IU</td>\n",
       "      <td>0.07 mg</td>\n",
       "      <td>0.07 mg</td>\n",
       "      <td>0.3 mcg</td>\n",
       "      <td>141.00 mg</td>\n",
       "      <td>0.098 mg</td>\n",
       "      <td>0.03 mg</td>\n",
       "      <td>...</td>\n",
       "      <td>3.17 g</td>\n",
       "      <td>1.899 g</td>\n",
       "      <td>0.745 g</td>\n",
       "      <td>0.178 g</td>\n",
       "      <td>10.00 mg</td>\n",
       "      <td>0.0 g</td>\n",
       "      <td>0.77 g</td>\n",
       "      <td>1.00 mg</td>\n",
       "      <td>23.00 mg</td>\n",
       "      <td>80.93 g</td>\n",
       "    </tr>\n",
       "  </tbody>\n",
       "</table>\n",
       "<p>3 rows × 55 columns</p>\n",
       "</div>"
      ],
      "text/plain": [
       "                                                   vitamin_b12 vitamin_b6  \\\n",
       "name                                                                        \n",
       "KFC, Skin and Breading, EXTRA CRISPY, Fried Chi...    0.36 mcg   0.127 mg   \n",
       "Frostings, NFSMI Recipe No. C-32, with butter, ...    0.09 mcg   0.011 mg   \n",
       "Beverages, prepared with whole milk, with added...    0.41 mcg   0.108 mg   \n",
       "\n",
       "                                                   vitamin_c vitamin_d  \\\n",
       "name                                                                     \n",
       "KFC, Skin and Breading, EXTRA CRISPY, Fried Chi...         0         0   \n",
       "Frostings, NFSMI Recipe No. C-32, with butter, ...    0.1 mg         0   \n",
       "Beverages, prepared with whole milk, with added...    2.3 mg  47.00 IU   \n",
       "\n",
       "                                                   vitamin_e tocopherol_alpha  \\\n",
       "name                                                                            \n",
       "KFC, Skin and Breading, EXTRA CRISPY, Fried Chi...         0                0   \n",
       "Frostings, NFSMI Recipe No. C-32, with butter, ...   0.19 mg          0.19 mg   \n",
       "Beverages, prepared with whole milk, with added...   0.07 mg          0.07 mg   \n",
       "\n",
       "                                                   vitamin_k    calcium  \\\n",
       "name                                                                      \n",
       "KFC, Skin and Breading, EXTRA CRISPY, Fried Chi...         0   41.00 mg   \n",
       "Frostings, NFSMI Recipe No. C-32, with butter, ...   0.7 mcg   32.00 mg   \n",
       "Beverages, prepared with whole milk, with added...   0.3 mcg  141.00 mg   \n",
       "\n",
       "                                                      copper     irom  ...  \\\n",
       "name                                                                   ...   \n",
       "KFC, Skin and Breading, EXTRA CRISPY, Fried Chi...  1.011 mg  0.67 mg  ...   \n",
       "Frostings, NFSMI Recipe No. C-32, with butter, ...  0.136 mg  0.60 mg  ...   \n",
       "Beverages, prepared with whole milk, with added...  0.098 mg  0.03 mg  ...   \n",
       "\n",
       "                                                        fat  \\\n",
       "name                                                          \n",
       "KFC, Skin and Breading, EXTRA CRISPY, Fried Chi...  36.61 g   \n",
       "Frostings, NFSMI Recipe No. C-32, with butter, ...   7.17 g   \n",
       "Beverages, prepared with whole milk, with added...   3.17 g   \n",
       "\n",
       "                                                   saturated_fatty_acids  \\\n",
       "name                                                                       \n",
       "KFC, Skin and Breading, EXTRA CRISPY, Fried Chi...               7.541 g   \n",
       "Frostings, NFSMI Recipe No. C-32, with butter, ...               4.483 g   \n",
       "Beverages, prepared with whole milk, with added...               1.899 g   \n",
       "\n",
       "                                                   monounsaturated_fatty_acids  \\\n",
       "name                                                                             \n",
       "KFC, Skin and Breading, EXTRA CRISPY, Fried Chi...                    11.816 g   \n",
       "Frostings, NFSMI Recipe No. C-32, with butter, ...                     1.894 g   \n",
       "Beverages, prepared with whole milk, with added...                     0.745 g   \n",
       "\n",
       "                                                   polyunsaturated_fatty_acids  \\\n",
       "name                                                                             \n",
       "KFC, Skin and Breading, EXTRA CRISPY, Fried Chi...                    14.238 g   \n",
       "Frostings, NFSMI Recipe No. C-32, with butter, ...                     0.294 g   \n",
       "Beverages, prepared with whole milk, with added...                     0.178 g   \n",
       "\n",
       "                                                   fatty_acids_total_trans  \\\n",
       "name                                                                         \n",
       "KFC, Skin and Breading, EXTRA CRISPY, Fried Chi...                59.00 mg   \n",
       "Frostings, NFSMI Recipe No. C-32, with butter, ...                18.00 mg   \n",
       "Beverages, prepared with whole milk, with added...                10.00 mg   \n",
       "\n",
       "                                                   alcohol     ash caffeine  \\\n",
       "name                                                                          \n",
       "KFC, Skin and Breading, EXTRA CRISPY, Fried Chi...       0  2.92 g        0   \n",
       "Frostings, NFSMI Recipe No. C-32, with butter, ...   0.0 g  0.82 g  3.00 mg   \n",
       "Beverages, prepared with whole milk, with added...   0.0 g  0.77 g  1.00 mg   \n",
       "\n",
       "                                                   theobromine    water  \n",
       "name                                                                     \n",
       "KFC, Skin and Breading, EXTRA CRISPY, Fried Chi...           0  26.98 g  \n",
       "Frostings, NFSMI Recipe No. C-32, with butter, ...    98.00 mg  18.27 g  \n",
       "Beverages, prepared with whole milk, with added...    23.00 mg  80.93 g  \n",
       "\n",
       "[3 rows x 55 columns]"
      ]
     },
     "execution_count": 196,
     "metadata": {},
     "output_type": "execute_result"
    }
   ],
   "source": [
    "nurt_mini.iloc[:3,c:]"
   ]
  },
  {
   "cell_type": "code",
   "execution_count": 197,
   "id": "c4334752",
   "metadata": {},
   "outputs": [],
   "source": [
    "# Get the calories for the third food in nurt_mini using a attribute-based approach"
   ]
  },
  {
   "cell_type": "code",
   "execution_count": 198,
   "id": "d57df5c3",
   "metadata": {},
   "outputs": [
    {
     "data": {
      "text/plain": [
       "67"
      ]
     },
     "execution_count": 198,
     "metadata": {},
     "output_type": "execute_result"
    }
   ],
   "source": [
    "nurt_mini.iat[3,1]"
   ]
  },
  {
   "cell_type": "code",
   "execution_count": 199,
   "id": "f6820068",
   "metadata": {},
   "outputs": [
    {
     "data": {
      "text/plain": [
       "'Beans, raw, sprouted, mature seeds, navy'"
      ]
     },
     "execution_count": 199,
     "metadata": {},
     "output_type": "execute_result"
    }
   ],
   "source": [
    "a=nurt_mini.index[3]\n",
    "a"
   ]
  },
  {
   "cell_type": "code",
   "execution_count": 200,
   "id": "1b020302",
   "metadata": {},
   "outputs": [
    {
     "data": {
      "text/plain": [
       "67"
      ]
     },
     "execution_count": 200,
     "metadata": {},
     "output_type": "execute_result"
    }
   ],
   "source": [
    "nurt_mini.at[a,'calories']"
   ]
  },
  {
   "cell_type": "code",
   "execution_count": null,
   "id": "b19d3a2b",
   "metadata": {},
   "outputs": [],
   "source": []
  }
 ],
 "metadata": {
  "kernelspec": {
   "display_name": "Python 3",
   "language": "python",
   "name": "python3"
  },
  "language_info": {
   "codemirror_mode": {
    "name": "ipython",
    "version": 3
   },
   "file_extension": ".py",
   "mimetype": "text/x-python",
   "name": "python",
   "nbconvert_exporter": "python",
   "pygments_lexer": "ipython3",
   "version": "3.8.8"
  }
 },
 "nbformat": 4,
 "nbformat_minor": 5
}
